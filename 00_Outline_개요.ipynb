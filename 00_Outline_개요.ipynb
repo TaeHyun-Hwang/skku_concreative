{
 "cells": [
  {
   "cell_type": "markdown",
   "metadata": {},
   "source": [
    "# Machine Learning 이란?\n",
    "- ## Machine Learning 정의\n",
    "- ## Classes of Machine Learning, 머신러닝 종류"
   ]
  },
  {
   "cell_type": "markdown",
   "metadata": {},
   "source": [
    "# Supervised Learning, 지도학습\n",
    "- ## Classification, Regression\n",
    "- ## k-NN Algorithm\n",
    "- ## Linear Regression\n",
    "- ## Naive Bayes\n",
    "- ## Decision Tree\n",
    "- ## SVM (k-SVM)\n",
    "- ## Neural Network(MLP, CNN, RNN)"
   ]
  },
  {
   "cell_type": "markdown",
   "metadata": {},
   "source": [
    "# Unsupervised Learning, 비지도학습\n",
    "- ## Clustering, Density Estimation\n",
    "- ## K-Means\n",
    "- ## Parzen Window\n",
    "- ## EM Algorithm\n",
    "- ## Gaussian Mixture\n",
    "- ## Auto Encoder\n",
    "- ## DBSCAN\n",
    "- ## Agglomerative Clustering"
   ]
  },
  {
   "cell_type": "markdown",
   "metadata": {},
   "source": [
    "# Model Evaluation, 모델 평가\n",
    "- ## Confusion Matrix\n",
    "- ## ROC courve\n",
    "- ## k-Fold Cross Validation"
   ]
  },
  {
   "cell_type": "markdown",
   "metadata": {},
   "source": [
    "# Improving Performance, 성능 향상\n",
    "- ## Ensemble learning\n",
    "- ## Random Forest\n",
    "- ## MSE = var + bias^2\n",
    "- ## Boosting\n",
    "- ## Bagging"
   ]
  },
  {
   "cell_type": "markdown",
   "metadata": {},
   "source": [
    "# Preprocessing, Dimension Reduction\n",
    "- ## Feature Selection, Feature Extraction\n",
    "- ## Culse of Dimensionality\n",
    "- ## PCA\n",
    "- ## LDA\n",
    "- ## NMF\n",
    "- ## t_SNE"
   ]
  },
  {
   "cell_type": "code",
   "execution_count": null,
   "metadata": {
    "collapsed": true
   },
   "outputs": [],
   "source": []
  }
 ],
 "metadata": {
  "kernelspec": {
   "display_name": "Python 3",
   "language": "python",
   "name": "python3"
  },
  "language_info": {
   "codemirror_mode": {
    "name": "ipython",
    "version": 3
   },
   "file_extension": ".py",
   "mimetype": "text/x-python",
   "name": "python",
   "nbconvert_exporter": "python",
   "pygments_lexer": "ipython3",
   "version": "3.5.4"
  }
 },
 "nbformat": 4,
 "nbformat_minor": 2
}
