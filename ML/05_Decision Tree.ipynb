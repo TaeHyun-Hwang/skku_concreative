{
 "cells": [
  {
   "cell_type": "markdown",
   "metadata": {},
   "source": [
    "# Decsion Tree: 의사결정트리"
   ]
  },
  {
   "cell_type": "markdown",
   "metadata": {},
   "source": [
    " 의사결정 나무란 기계학습 중 하나로 특정 항목에 대한 의사결정규칙을 나무형태로 분류해 나가는 분석기법으로 대표적인 지도 분류 학습 중 하나이다. 질문을 던져 대상을 좁혀나가는 '스무고개'놀이와 비슷한 개념이다. 예를 하나 들어보면 타이타닉 호 탑승자의 생존 여부를 예측해보자."
   ]
  },
  {
   "cell_type": "markdown",
   "metadata": {},
   "source": [
    "![](./image/c_img1.png)\n",
    "<center>타이타닉호 탑승객 생존여부를 나타내는 결정트리(\"sibsp\"는 탑승한 배우자와 자녀의 수를 의미) [1]</center>\n"
   ]
  },
  {
   "cell_type": "markdown",
   "metadata": {},
   "source": [
    "## 장점 "
   ]
  },
  {
   "cell_type": "markdown",
   "metadata": {},
   "source": [
    " 의사결정나무는 분석 과정이 직관적이고 이해하기 쉽다. \n",
    "대부분의 기계학습은 분석 결과에 대한 설명을 이해하기 어려운 블랙박스 모델인 반면,\n",
    "의사결정나무는 분석과정을 실제로 눈으로 관측할 수 있는 대표적인 화이트박스 모델이다.\n"
   ]
  },
  {
   "cell_type": "markdown",
   "metadata": {},
   "source": [
    "계산비용이 낮아 데규모 데이터에서도 비교적 빠르게 연산이 가능하다."
   ]
  },
  {
   "cell_type": "markdown",
   "metadata": {},
   "source": [
    "수치형 자료와 범주형 자료 모두에 적용이 가능한 모델이다."
   ]
  },
  {
   "cell_type": "markdown",
   "metadata": {},
   "source": [
    "## 단점"
   ]
  },
  {
   "cell_type": "markdown",
   "metadata": {},
   "source": [
    "최적의 결저나무를 학습시키는 문제는 NPC 문제로 알려져 있다.\n",
    "<br>-> greedy 알고리즘 사용: 최적해를 구하는 근사적 방법, 매 순간에 최적이라고 생각되는 것을 선택해 나가는 방식으로 진행"
   ]
  },
  {
   "cell_type": "markdown",
   "metadata": {},
   "source": [
    "많은 변수의 데이터를 일반화하지 않고 사용할 경우 복잡한 결정트리가 만들어질 수 있다.\n",
    "<br>->Pruning:가지치기 사용"
   ]
  },
  {
   "cell_type": "markdown",
   "metadata": {},
   "source": [
    "약간의 차이에 따라 트리 구성이 크게 달라질 수 있다."
   ]
  },
  {
   "cell_type": "markdown",
   "metadata": {},
   "source": [
    "데이터의 특성이 특정 변수에 수직/수평적으로 구분되지 못할 때 성능이 떨어진다."
   ]
  },
  {
   "cell_type": "markdown",
   "metadata": {},
   "source": [
    "## 의사결정 방법(종류) "
   ]
  },
  {
   "cell_type": "markdown",
   "metadata": {},
   "source": [
    "의사결정나무 분석 방법은 통계학 기반의 CART 및 CHAID 알고리즘이나, 기계학습 계열인(엔트로피, 정보 이득 등을 사용한) ID3, C4.5, C5.0 등의 알고리즘이 있다."
   ]
  },
  {
   "cell_type": "markdown",
   "metadata": {},
   "source": [
    "- Figure 2.\n",
    "![](./image/c_img2.png)\n",
    "이미지 출저:http://www.birc.co.kr/2017/01/11/%EC%9D%98%EC%82%AC%EA%B2%B0%EC%A0%95%EB%82%98%EB%AC%B4decision-tree/"
   ]
  },
  {
   "cell_type": "markdown",
   "metadata": {},
   "source": [
    "#### 엔트로피"
   ]
  },
  {
   "cell_type": "markdown",
   "metadata": {},
   "source": [
    "#### Information gain"
   ]
  },
  {
   "cell_type": "markdown",
   "metadata": {},
   "source": [
    "#### Gini Index"
   ]
  },
  {
   "cell_type": "markdown",
   "metadata": {},
   "source": [
    "####  Example- 이산형, 연속형(regression)"
   ]
  },
  {
   "cell_type": "markdown",
   "metadata": {},
   "source": [
    "## Pruning"
   ]
  },
  {
   "cell_type": "markdown",
   "metadata": {},
   "source": [
    "http://cinema4dr12.tistory.com/933"
   ]
  },
  {
   "cell_type": "markdown",
   "metadata": {},
   "source": [
    "## 활용 [3] "
   ]
  },
  {
   "cell_type": "markdown",
   "metadata": {},
   "source": [
    "1.세분화(Segmentation): 데이터를 비슷한 특성을 갖는 몇 개의 그룹으로 분할 해 그룹 별 특성을 발견하는 경우 또는 각 고객이 어떤 집단에 속하는지 파악하고자 하는 경우\n",
    "<br>예제) 시장세분화, 고객세분화"
   ]
  },
  {
   "cell_type": "markdown",
   "metadata": {},
   "source": [
    "2.분류(Classification): 관측개체를 여러 예측변수들에 근거해 목표변수의 범주를 몇개의 등급으로 분류하고자 하는 경우\n",
    "<br>예제) 고객을 신용도에 따라 우량, 분량으로 분류"
   ]
  },
  {
   "cell_type": "markdown",
   "metadata": {},
   "source": [
    "3.예측(Prediction): 자료에서 규칙을 찾아내고 이를 이용해 미래의 사건을 예측하고자 하는 경우\n",
    "<br>예제) 고객속성에 따라 대출한도액 예측"
   ]
  },
  {
   "cell_type": "markdown",
   "metadata": {},
   "source": [
    "4.차원축소 및 변수선택(Data reduction and variable screening): 매우 많은 수의 예측변수 중 목표변수에 큰 영향을 미치는 변수들을 골라내고자 하는 경우"
   ]
  },
  {
   "cell_type": "markdown",
   "metadata": {},
   "source": [
    "5.교효작용효과 파악(Interaction effect identification): 여러 개의 변수들을 결합해 목표변수에 적용하는 규칙(교효작용효과)을 파악하고자 하는 경우"
   ]
  },
  {
   "cell_type": "markdown",
   "metadata": {},
   "source": [
    "6.범주의 병합 또는 연속형 변수의 이산화: 범주형 목표변수의 범주를 소수의 몇 개로 병합하고나 연속형 목표변수를 몇 개의 등급으로 이산화 하고자 하는 경우"
   ]
  },
  {
   "cell_type": "markdown",
   "metadata": {},
   "source": [
    "## Reference"
   ]
  },
  {
   "cell_type": "markdown",
   "metadata": {},
   "source": [
    "[1] https://ko.wikipedia.org/wiki/%EA%B2%B0%EC%A0%95_%ED%8A%B8%EB%A6%AC_%ED%95%99%EC%8A%B5%EB%B2%95#%EC%A2%85%EB%A5%98"
   ]
  },
  {
   "cell_type": "markdown",
   "metadata": {},
   "source": [
    "[2] http://www.dodomira.com/2016/05/29/564/"
   ]
  },
  {
   "cell_type": "markdown",
   "metadata": {},
   "source": [
    "[3] http://www.birc.co.kr/2017/01/11/%EC%9D%98%EC%82%AC%EA%B2%B0%EC%A0%95%EB%82%98%EB%AC%B4decision-tree/"
   ]
  },
  {
   "cell_type": "markdown",
   "metadata": {},
   "source": [
    "[4] http://www.birc.co.kr/2017/01/11/%EC%9D%98%EC%82%AC%EA%B2%B0%EC%A0%95%EB%82%98%EB%AC%B4decision-tree/"
   ]
  }
 ],
 "metadata": {
  "kernelspec": {
   "display_name": "Python 3",
   "language": "python",
   "name": "python3"
  },
  "language_info": {
   "codemirror_mode": {
    "name": "ipython",
    "version": 3
   },
   "file_extension": ".py",
   "mimetype": "text/x-python",
   "name": "python",
   "nbconvert_exporter": "python",
   "pygments_lexer": "ipython3",
   "version": "3.5.4"
  }
 },
 "nbformat": 4,
 "nbformat_minor": 1
}
