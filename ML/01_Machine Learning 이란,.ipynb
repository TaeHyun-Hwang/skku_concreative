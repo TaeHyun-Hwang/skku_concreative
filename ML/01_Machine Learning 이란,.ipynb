{
 "cells": [
  {
   "cell_type": "markdown",
   "metadata": {},
   "source": [
    "# Machine Learning 정의"
   ]
  },
  {
   "cell_type": "markdown",
   "metadata": {},
   "source": [
    "### Definition) Machine Learning\n",
    "\n",
    "\"Field of study that gives computers the ability to learn without being explicitly programmed\" by Arthur Samuel (1959)\n",
    "\n",
    "\"컴퓨터에게 배울 수 있는 능력, 즉 코드로 정의하지 않은 동작을 실행하는 능력에 대한 연구 분야\" - 위키피디아\n",
    "\n",
    "그렇다면 배운다 혹은 학습한다는 의미는 무엇인가\n",
    "\n",
    "### Definition of Learning)\n",
    "\n",
    "A computer program is said to learn from experience __E__ (data)\n",
    "with respect to some class of tasks __T__ and performance __P__,\n",
    "if its performance at tasks in __T__, as measured by __P__, improves\n",
    "with experience __E__.\n",
    "\n",
    "### Example)\n",
    "example: learning to recognize spoken words\n",
    "- task T: recognizing spoken words\n",
    "- performance measure P: recognition rate\n",
    "- training experience E: speech data\n",
    "\n",
    "### Remark) Issues in ML\n",
    "- What algorithms can approximate functions well?\n",
    "- How does training examples influence accuracy? (sample complexity)\n",
    "- What is the upper bounds of general errors fora learning system? (generalization bounds)\n",
    "- How does noisy data influence accuracy?\n",
    "- What is the optimal structure of learning models?\n",
    "- How can prior knowledge of learner help?\n",
    "- What clues can we get from biological learning system?\n"
   ]
  },
  {
   "cell_type": "markdown",
   "metadata": {},
   "source": [
    "# Classes of Machine Learning, 머신러닝 종류"
   ]
  },
  {
   "cell_type": "markdown",
   "metadata": {},
   "source": [
    "## Supervised Learning, 지도학습\n",
    "\n",
    "### Definition) Supervised Learning\n",
    "__Supervised learning__ is the machine learning task of inferring a function from labeled training data. Each labeld training data is a pair consisting of an input object (typically a vector) and a desired output value (also called the supervisory signal). A supervised learning algorithm analyzes the training data and produces an inferred function, which can be used for mapping new examples. (By Wikipedia)\n",
    "\n",
    "입력값(Input)과 출력값(output or target)을 갖고 있는 데이터를 이용하여 다른 입력값이 주어졌을 때 적절한 출력값을 주는 함수를 학습하는 방법.\n",
    "\n",
    "### Definition) Unsupervised Learning\n",
    "__Unsupervised learning__ is the machine learning task of inferring a function to describe hidden structure from \"unlabeled\" data (By Wikipedia)\n",
    "\n",
    "갖고 있는 데이터에 출력값이 주어지지 않을 때, 즉 입력값만을 이용하여 데이터의 구조를 파악하는 학습 방법"
   ]
  },
  {
   "cell_type": "code",
   "execution_count": null,
   "metadata": {
    "collapsed": true
   },
   "outputs": [],
   "source": []
  }
 ],
 "metadata": {
  "kernelspec": {
   "display_name": "Python 3",
   "language": "python",
   "name": "python3"
  },
  "language_info": {
   "codemirror_mode": {
    "name": "ipython",
    "version": 3
   },
   "file_extension": ".py",
   "mimetype": "text/x-python",
   "name": "python",
   "nbconvert_exporter": "python",
   "pygments_lexer": "ipython3",
   "version": "3.5.4"
  }
 },
 "nbformat": 4,
 "nbformat_minor": 2
}
