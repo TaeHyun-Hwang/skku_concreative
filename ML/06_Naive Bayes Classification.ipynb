{
 "cells": [
  {
   "cell_type": "markdown",
   "metadata": {},
   "source": [
    "# Navie Bayes Classification, 나이브 베이즈 분류"
   ]
  },
  {
   "cell_type": "markdown",
   "metadata": {},
   "source": [
    "나이브 베이즈 분류에 들어가기 전에 기본적인 확률의 법칙들에 대해서 살펴보도록 하자.\n",
    "\n",
    "## Remark) Rule of Probability\n",
    "Let $A,B$ be two events and $P(A),P(B)$ be the probabilities resp.\n",
    "\n",
    "- 곱의 법칙: 두 사건 A,B가 동시에 일어날 확률 $P(A \\cap B) = P(A|B)P(B) = P(B|A)P(A)$\n",
    "- 합의 법칙: "
   ]
  },
  {
   "cell_type": "code",
   "execution_count": null,
   "metadata": {
    "collapsed": true
   },
   "outputs": [],
   "source": []
  }
 ],
 "metadata": {
  "kernelspec": {
   "display_name": "Python 3",
   "language": "python",
   "name": "python3"
  },
  "language_info": {
   "codemirror_mode": {
    "name": "ipython",
    "version": 3
   },
   "file_extension": ".py",
   "mimetype": "text/x-python",
   "name": "python",
   "nbconvert_exporter": "python",
   "pygments_lexer": "ipython3",
   "version": "3.5.4"
  }
 },
 "nbformat": 4,
 "nbformat_minor": 2
}
