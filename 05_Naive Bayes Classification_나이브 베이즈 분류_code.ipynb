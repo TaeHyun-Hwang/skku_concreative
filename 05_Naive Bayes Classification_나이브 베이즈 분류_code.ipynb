{
 "cells": [
  {
   "cell_type": "code",
   "execution_count": null,
   "metadata": {
    "collapsed": true
   },
   "outputs": [],
   "source": []
  },
  {
   "cell_type": "markdown",
   "metadata": {},
   "source": [
    "# module (package/library)"
   ]
  },
  {
   "cell_type": "code",
   "execution_count": null,
   "metadata": {
    "collapsed": true
   },
   "outputs": [],
   "source": [
    "import numpy as np\n",
    "import matplotlib.pyplot as plt\n",
    "from sklearn import datasets\n",
    "from sklearn.model_selection import train_test_split\n",
    "from sklearn.naive_bayes import MultinomialNB\n",
    "from sklearn.naive_bayes import GaussianNB"
   ]
  },
  {
   "cell_type": "markdown",
   "metadata": {},
   "source": [
    "## numpy\n",
    "https://pypi.python.org/pypi/numpy\n",
    "\n",
    "import numpy\n",
    "<br>a = numpy.array([1,2,3,4])\n",
    "\n",
    "import numpy as np\n",
    "<br>a = np.arrary([1,2,3,4])\n",
    "\n",
    "## matplotlib\n",
    "https://matplotlib.org/\n",
    "\n",
    "import matplotlib.pyplot as plt\n",
    "<br>plt.figure(figsize=(x_size,y_size))\n",
    "<br>plt.plot(x,y)\n",
    "<br>plt.xlim(x_min,x_max)\n",
    "<br>plt.ylim(y_min,y_max)\n",
    "<br>#plt.axis([x_min,x_max,y_min,y_max)\n",
    "<br>plt.xlabel('x-axis')\n",
    "<br>plt.ylabel('y-axis')\n",
    "<br>plt.show()\n",
    "\n",
    "## sklearn\n",
    "http://scikit-learn.org/stable/\n",
    "\n",
    "from sklearn import datasets\n",
    "\n",
    "from sklearn.model_selection import train_test_split\n",
    "<br>X_train, X_test, y_train, y_test = train_test_split(data_feature,data_target)"
   ]
  },
  {
   "cell_type": "code",
   "execution_count": null,
   "metadata": {
    "collapsed": true
   },
   "outputs": [],
   "source": []
  },
  {
   "cell_type": "markdown",
   "metadata": {},
   "source": [
    "# data load"
   ]
  },
  {
   "cell_type": "markdown",
   "metadata": {},
   "source": [
    "## iris\n",
    "\n",
    "붓꽃 데이터\n",
    "\n",
    "데이터 수 : 150개\n",
    "<br>feature 수 : 4개\n",
    "<br>class 수 : 3개"
   ]
  },
  {
   "cell_type": "code",
   "execution_count": null,
   "metadata": {
    "collapsed": true
   },
   "outputs": [],
   "source": [
    "iris = datasets.load_iris()\n",
    "iris_X_train, iris_X_test, iris_y_train, iris_y_test = train_test_split(iris.data, iris.target)"
   ]
  },
  {
   "cell_type": "code",
   "execution_count": null,
   "metadata": {
    "collapsed": true
   },
   "outputs": [],
   "source": [
    "iris.data.shape"
   ]
  },
  {
   "cell_type": "code",
   "execution_count": null,
   "metadata": {
    "collapsed": true
   },
   "outputs": [],
   "source": [
    "iris.feature_names"
   ]
  },
  {
   "cell_type": "code",
   "execution_count": null,
   "metadata": {
    "collapsed": true
   },
   "outputs": [],
   "source": [
    "iris.target_names"
   ]
  },
  {
   "cell_type": "code",
   "execution_count": null,
   "metadata": {
    "collapsed": true
   },
   "outputs": [],
   "source": []
  },
  {
   "cell_type": "markdown",
   "metadata": {},
   "source": [
    "## breast cancer\n",
    "\n",
    "유방암 데이터\n",
    "\n",
    "데이터 수 : 569개\n",
    "<br>feature 수 : 30개\n",
    "<br>class 수 : 2개"
   ]
  },
  {
   "cell_type": "code",
   "execution_count": null,
   "metadata": {
    "collapsed": true
   },
   "outputs": [],
   "source": [
    "cancer = datasets)\n",
    "cancer_X_train, cancer_X_tes.load_breast_cancer(t, cancer_y_train, cancer_y_test = train_test_split(cancer.data, cancer.target)"
   ]
  },
  {
   "cell_type": "code",
   "execution_count": null,
   "metadata": {
    "collapsed": true
   },
   "outputs": [],
   "source": [
    "cancer.data.shape "
   ]
  },
  {
   "cell_type": "code",
   "execution_count": null,
   "metadata": {
    "collapsed": true
   },
   "outputs": [],
   "source": [
    "cancer.feature_names"
   ]
  },
  {
   "cell_type": "code",
   "execution_count": null,
   "metadata": {
    "collapsed": true
   },
   "outputs": [],
   "source": [
    "cancer.target_names"
   ]
  },
  {
   "cell_type": "code",
   "execution_count": null,
   "metadata": {
    "collapsed": true
   },
   "outputs": [],
   "source": []
  },
  {
   "cell_type": "markdown",
   "metadata": {},
   "source": [
    "## MNIST\n",
    "http://yann.lecun.com/exdb/mnist/\n",
    "\n",
    "0~9 손글씨 데이터\n",
    "<br>28\\*28 이미지 데이터\n",
    "\n",
    "training set\n",
    "<br>데이터 수 : 60000개\n",
    "<br>feature 수 : 28\\*28 = 784개\n",
    "<br>class 수 : 10개\n",
    "\n",
    "test set\n",
    "<br>데이터 수 : 10000개\n",
    "<br>feature 수 : 28\\*28 = 784개\n",
    "<br>class 수 : 10개"
   ]
  },
  {
   "cell_type": "code",
   "execution_count": null,
   "metadata": {
    "collapsed": true
   },
   "outputs": [],
   "source": [
    "# http://yann.lecun.com/exdb/mnist/\n",
    "tmp = open('./MNIST/train-images.idx3-ubyte')\n",
    "MNIST_X_train = np.fromfile(file=tmp, dtype=np.uint8)\n",
    "MNIST_X_train = MNIST_X_train[16:].reshape([60000, 784]).astype(np.float)\n",
    "tmp = open('./MNIST/train-labels.idx1-ubyte')\n",
    "MNIST_y_train = np.fromfile(file=tmp, dtype=np.uint8)\n",
    "MNIST_y_train = MNIST_y_train[8:].reshape([60000]).astype(np.float)\n",
    "tmp = open('./MNIST/t10k-images.idx3-ubyte')\n",
    "MNIST_X_test = np.fromfile(file=tmp, dtype=np.uint8)\n",
    "MNIST_X_test = MNIST_X_test[16:].reshape([10000, 784]).astype(np.float)\n",
    "tmp = open('./MNIST/t10k-labels.idx1-ubyte')\n",
    "MNIST_y_test = np.fromfile(file=tmp, dtype=np.uint8)\n",
    "MNIST_y_test = MNIST_y_test[8:].reshape([10000]).astype(np.float)"
   ]
  },
  {
   "cell_type": "code",
   "execution_count": null,
   "metadata": {
    "collapsed": true
   },
   "outputs": [],
   "source": [
    "plt.figure(figsize=(8,8))\n",
    "plt.imshow(MNIST_X_train[0].reshape([28,28]), cmap='gray')"
   ]
  },
  {
   "cell_type": "code",
   "execution_count": null,
   "metadata": {
    "collapsed": true
   },
   "outputs": [],
   "source": []
  },
  {
   "cell_type": "markdown",
   "metadata": {},
   "source": [
    "# iris"
   ]
  },
  {
   "cell_type": "code",
   "execution_count": null,
   "metadata": {
    "collapsed": true
   },
   "outputs": [],
   "source": [
    "mnb_iris = MultinomialNB()\n",
    "mnb_iris_fit = mnb_iris.fit(iris_X_train, iris_y_train)"
   ]
  },
  {
   "cell_type": "markdown",
   "metadata": {},
   "source": [
    "학습\n",
    "<br>mnb_iris = MultinomialNB()\n",
    "<br>mnb_iris_fit = mnb_iris.fit(iris_X_train, iris_y_train)"
   ]
  },
  {
   "cell_type": "code",
   "execution_count": null,
   "metadata": {
    "collapsed": true
   },
   "outputs": [],
   "source": [
    "mnb_iris_predict = mnb_iris_fit.predict(iris_X_test[0].reshape([-1,4]))\n",
    "print(mnb_iris_predict)\n",
    "print(iris_y_test[0])"
   ]
  },
  {
   "cell_type": "markdown",
   "metadata": {},
   "source": [
    "예측\n",
    "<br>mnb_iris_predict = mnb_iris_fit.predict(iris_X_test[0].reshape([-1,4]))\n",
    "<br>print(mnb_iris_predict)\n",
    "<br>print(iris_y_test[0])"
   ]
  },
  {
   "cell_type": "code",
   "execution_count": null,
   "metadata": {
    "collapsed": true
   },
   "outputs": [],
   "source": [
    "mnb_iris_score = mnb_iris_fit.score(iris_X_test, iris_y_test)\n",
    "print(\"Accuracy of iris_test_set :\", mnb_iris_score)"
   ]
  },
  {
   "cell_type": "markdown",
   "metadata": {},
   "source": [
    "평가\n",
    "<br>mnb_iris_score = mnb_iris_fit.score(iris_X_test, iris_y_test)\n",
    "<br>print(\"Accuracy of iris_test_set :\", mnb_iris_score)"
   ]
  },
  {
   "cell_type": "code",
   "execution_count": null,
   "metadata": {
    "collapsed": true
   },
   "outputs": [],
   "source": []
  },
  {
   "cell_type": "code",
   "execution_count": null,
   "metadata": {
    "collapsed": true
   },
   "outputs": [],
   "source": []
  },
  {
   "cell_type": "code",
   "execution_count": null,
   "metadata": {
    "collapsed": true
   },
   "outputs": [],
   "source": [
    "gnb_iris = GaussianNB()\n",
    "gnb_iris_fit = gnb_iris.fit(iris_X_train, iris_y_train)\n",
    "gnb_iris_predict = gnb_iris_fit.predict(iris_X_test[0].reshape([-1,4]))\n",
    "print(gnb_iris_predict)\n",
    "print(iris_y_test[0])\n",
    "gnb_iris_score = gnb_iris_fit.score(iris_X_test, iris_y_test)\n",
    "print(\"Accuracy of iris_test_set :\", gnb_iris_score)"
   ]
  },
  {
   "cell_type": "code",
   "execution_count": null,
   "metadata": {
    "collapsed": true
   },
   "outputs": [],
   "source": []
  },
  {
   "cell_type": "markdown",
   "metadata": {},
   "source": [
    "# breast cancer"
   ]
  },
  {
   "cell_type": "code",
   "execution_count": null,
   "metadata": {
    "collapsed": true
   },
   "outputs": [],
   "source": [
    "mnb_cancer = MultinomialNB()\n",
    "mnb_cancer_fit = mnb_cancer.fit(cancer_X_train, cancer_y_train)\n",
    "mnb_cancer_predict = mnb_cancer_fit.predict(cancer_X_test[0].reshape([-1,30]))\n",
    "print(mnb_cancer_predict)\n",
    "print(cancer_y_test[0])\n",
    "mnb_cancer_score = mnb_cancer_fit.score(cancer_X_test, cancer_y_test)\n",
    "print(\"Accuracy of cancer_test_set :\", mnb_cancer_score)"
   ]
  },
  {
   "cell_type": "code",
   "execution_count": null,
   "metadata": {
    "collapsed": true
   },
   "outputs": [],
   "source": [
    "gnb_cancer = GaussianNB()\n",
    "gnb_cancer_fit = gnb_cancer.fit(cancer_X_train, cancer_y_train)\n",
    "gnb_cancer_predict = gnb_cancer_fit.predict(cancer_X_test[0].reshape([-1,30]))\n",
    "print(gnb_cancer_predict)\n",
    "print(cancer_y_test[0])\n",
    "gnb_cancer_score = gnb_cancer_fit.score(cancer_X_test, cancer_y_test)\n",
    "print(\"Accuracy of cancer_test_set :\", gnb_cancer_score)"
   ]
  },
  {
   "cell_type": "code",
   "execution_count": null,
   "metadata": {
    "collapsed": true
   },
   "outputs": [],
   "source": []
  },
  {
   "cell_type": "markdown",
   "metadata": {},
   "source": [
    "# MNIST"
   ]
  },
  {
   "cell_type": "code",
   "execution_count": null,
   "metadata": {
    "collapsed": true
   },
   "outputs": [],
   "source": [
    "mnb_MNIST = MultinomialNB()\n",
    "mnb_MNIST_fit = mnb_MNIST.fit(MNIST_X_train, MNIST_y_train)\n",
    "mnb_MNIST_predict = mnb_MNIST_fit.predict(MNIST_X_test[0].reshape([-1,784]))\n",
    "print(mnb_MNIST_predict)\n",
    "print(MNIST_y_test[0])\n",
    "mnb_MNIST_score = mnb_MNIST_fit.score(MNIST_X_test, MNIST_y_test)\n",
    "print(\"Accuracy of MNIST_test_set :\", mnb_MNIST_score)"
   ]
  },
  {
   "cell_type": "code",
   "execution_count": null,
   "metadata": {
    "collapsed": true
   },
   "outputs": [],
   "source": [
    "gnb_MNIST = GaussianNB()\n",
    "gnb_MNIST_fit = gnb_MNIST.fit(MNIST_X_train, MNIST_y_train)\n",
    "gnb_MNIST_predict = gnb_MNIST_fit.predict(MNIST_X_test[0].reshape([-1,784]))\n",
    "print(gnb_MNIST_predict)\n",
    "print(MNIST_y_test[0])\n",
    "gnb_MNIST_score = gnb_MNIST_fit.score(MNIST_X_test, MNIST_y_test)\n",
    "print(\"Accuracy of MNIST_test_set :\", gnb_MNIST_score)"
   ]
  },
  {
   "cell_type": "code",
   "execution_count": null,
   "metadata": {
    "collapsed": true
   },
   "outputs": [],
   "source": []
  }
 ],
 "metadata": {
  "kernelspec": {
   "display_name": "Python 3",
   "language": "python",
   "name": "python3"
  },
  "language_info": {
   "codemirror_mode": {
    "name": "ipython",
    "version": 3
   },
   "file_extension": ".py",
   "mimetype": "text/x-python",
   "name": "python",
   "nbconvert_exporter": "python",
   "pygments_lexer": "ipython3",
   "version": "3.6.3"
  }
 },
 "nbformat": 4,
 "nbformat_minor": 2
}
