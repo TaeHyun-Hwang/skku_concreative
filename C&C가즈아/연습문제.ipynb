{
 "cells": [
  {
   "cell_type": "code",
   "execution_count": 165,
   "metadata": {},
   "outputs": [],
   "source": [
    "import pandas as pd\n",
    "import numpy as np\n",
    "import scipy as sp\n",
    "import matplotlib.pyplot as plt"
   ]
  },
  {
   "cell_type": "code",
   "execution_count": 29,
   "metadata": {
    "scrolled": true
   },
   "outputs": [
    {
     "data": {
      "text/html": [
       "<div>\n",
       "<style scoped>\n",
       "    .dataframe tbody tr th:only-of-type {\n",
       "        vertical-align: middle;\n",
       "    }\n",
       "\n",
       "    .dataframe tbody tr th {\n",
       "        vertical-align: top;\n",
       "    }\n",
       "\n",
       "    .dataframe thead th {\n",
       "        text-align: right;\n",
       "    }\n",
       "</style>\n",
       "<table border=\"1\" class=\"dataframe\">\n",
       "  <thead>\n",
       "    <tr style=\"text-align: right;\">\n",
       "      <th></th>\n",
       "      <th>lead_id</th>\n",
       "      <th>user_id</th>\n",
       "      <th>product</th>\n",
       "      <th>stage</th>\n",
       "      <th>log_date</th>\n",
       "      <th>user_id.1</th>\n",
       "      <th>registration_date</th>\n",
       "      <th>login_date</th>\n",
       "    </tr>\n",
       "  </thead>\n",
       "  <tbody>\n",
       "    <tr>\n",
       "      <th>13990</th>\n",
       "      <td>3114449</td>\n",
       "      <td>1981864</td>\n",
       "      <td>Personal Loan</td>\n",
       "      <td>Applied</td>\n",
       "      <td>2018-01-13 13:52</td>\n",
       "      <td>2743933</td>\n",
       "      <td>2017-09-22 16:15</td>\n",
       "      <td>2017-11-05 19:58</td>\n",
       "    </tr>\n",
       "    <tr>\n",
       "      <th>12576</th>\n",
       "      <td>2866987</td>\n",
       "      <td>1858604</td>\n",
       "      <td>Credit Card</td>\n",
       "      <td>Form - Page 2</td>\n",
       "      <td>2018-01-13 14:14</td>\n",
       "      <td>2155516</td>\n",
       "      <td>2017-07-10 17:27</td>\n",
       "      <td>2017-07-11 13:45</td>\n",
       "    </tr>\n",
       "    <tr>\n",
       "      <th>1707</th>\n",
       "      <td>3092350</td>\n",
       "      <td>1969920</td>\n",
       "      <td>Credit Card</td>\n",
       "      <td>Form - Page 1</td>\n",
       "      <td>2018-01-13 14:48</td>\n",
       "      <td>1917403</td>\n",
       "      <td>2017-05-31 12:17</td>\n",
       "      <td>2017-06-15 18:30</td>\n",
       "    </tr>\n",
       "    <tr>\n",
       "      <th>2517</th>\n",
       "      <td>2817684</td>\n",
       "      <td>870703</td>\n",
       "      <td>Personal Loan</td>\n",
       "      <td>Form - Page 2</td>\n",
       "      <td>2018-01-13 15:11</td>\n",
       "      <td>2262485</td>\n",
       "      <td>2017-07-28 20:57</td>\n",
       "      <td>2017-11-18 0:02</td>\n",
       "    </tr>\n",
       "    <tr>\n",
       "      <th>15092</th>\n",
       "      <td>2857649</td>\n",
       "      <td>1854578</td>\n",
       "      <td>Credit Card</td>\n",
       "      <td>Eligible</td>\n",
       "      <td>2018-01-13 9:07</td>\n",
       "      <td>2121882</td>\n",
       "      <td>2017-07-06 16:43</td>\n",
       "      <td>2017-07-28 14:53</td>\n",
       "    </tr>\n",
       "  </tbody>\n",
       "</table>\n",
       "</div>"
      ],
      "text/plain": [
       "       lead_id  user_id        product          stage          log_date  \\\n",
       "13990  3114449  1981864  Personal Loan        Applied  2018-01-13 13:52   \n",
       "12576  2866987  1858604    Credit Card  Form - Page 2  2018-01-13 14:14   \n",
       "1707   3092350  1969920    Credit Card  Form - Page 1  2018-01-13 14:48   \n",
       "2517   2817684   870703  Personal Loan  Form - Page 2  2018-01-13 15:11   \n",
       "15092  2857649  1854578    Credit Card       Eligible   2018-01-13 9:07   \n",
       "\n",
       "       user_id.1 registration_date        login_date  \n",
       "13990    2743933  2017-09-22 16:15  2017-11-05 19:58  \n",
       "12576    2155516  2017-07-10 17:27  2017-07-11 13:45  \n",
       "1707     1917403  2017-05-31 12:17  2017-06-15 18:30  \n",
       "2517     2262485  2017-07-28 20:57   2017-11-18 0:02  \n",
       "15092    2121882  2017-07-06 16:43  2017-07-28 14:53  "
      ]
     },
     "execution_count": 29,
     "metadata": {},
     "output_type": "execute_result"
    }
   ],
   "source": [
    "df = pd.read_csv('./time_ex1.csv')\n",
    "df = df.sort_values(by='log_date')\n",
    "df.tail()"
   ]
  },
  {
   "cell_type": "markdown",
   "metadata": {},
   "source": [
    "### Ex1-1) log_date의 년수가 2018년인 것의 갯수를 구하고, 데이터를 삭제하시오"
   ]
  },
  {
   "cell_type": "code",
   "execution_count": 42,
   "metadata": {},
   "outputs": [
    {
     "data": {
      "text/plain": [
       "'2017-06-19 9:50'"
      ]
     },
     "execution_count": 42,
     "metadata": {},
     "output_type": "execute_result"
    }
   ],
   "source": [
    "df['log_date'][1]"
   ]
  },
  {
   "cell_type": "code",
   "execution_count": 43,
   "metadata": {},
   "outputs": [
    {
     "name": "stdout",
     "output_type": "stream",
     "text": [
      "20000\n",
      "104\n",
      "[4732, 5947, 17947, 6252, 18195, 11865, 519, 502, 5783, 14133, 17446, 17732, 4080, 18019, 5818, 5604, 3915, 14862, 889, 17995, 4227, 17615, 15060, 19108, 3215, 15420, 5164, 1780, 17880, 8869, 14122, 16627, 13925, 13227, 1762, 15151, 2093, 3057, 7625, 18590, 15949, 259, 18371, 12684, 10659, 5351, 7815, 18992, 12258, 11587, 5855, 869, 18932, 16731, 4424, 7570, 11905, 3398, 9672, 17174, 8124, 11474, 15374, 18633, 15622, 7947, 3492, 18122, 16112, 12953, 998, 11257, 7262, 7822, 16544, 12775, 16887, 4100, 12532, 3934, 7891, 2051, 9651, 4238, 7669, 19838, 6102, 10299, 12798, 807, 6990, 1829, 18807, 6106, 13459, 19424, 1963, 9331, 14967, 13990, 12576, 1707, 2517, 15092]\n"
     ]
    }
   ],
   "source": [
    "idx = []\n",
    "for i in df.index:\n",
    "    if df['log_date'][i][:4] == '2018':\n",
    "          idx.append(i)\n",
    "            \n",
    "print(len(df['log_date']))\n",
    "print(len(idx))\n",
    "print(idx)          "
   ]
  },
  {
   "cell_type": "code",
   "execution_count": 44,
   "metadata": {},
   "outputs": [
    {
     "name": "stdout",
     "output_type": "stream",
     "text": [
      "19896\n"
     ]
    },
    {
     "data": {
      "text/html": [
       "<div>\n",
       "<style scoped>\n",
       "    .dataframe tbody tr th:only-of-type {\n",
       "        vertical-align: middle;\n",
       "    }\n",
       "\n",
       "    .dataframe tbody tr th {\n",
       "        vertical-align: top;\n",
       "    }\n",
       "\n",
       "    .dataframe thead th {\n",
       "        text-align: right;\n",
       "    }\n",
       "</style>\n",
       "<table border=\"1\" class=\"dataframe\">\n",
       "  <thead>\n",
       "    <tr style=\"text-align: right;\">\n",
       "      <th></th>\n",
       "      <th>lead_id</th>\n",
       "      <th>user_id</th>\n",
       "      <th>product</th>\n",
       "      <th>stage</th>\n",
       "      <th>log_date</th>\n",
       "      <th>user_id.1</th>\n",
       "      <th>registration_date</th>\n",
       "      <th>login_date</th>\n",
       "    </tr>\n",
       "  </thead>\n",
       "  <tbody>\n",
       "    <tr>\n",
       "      <th>16810</th>\n",
       "      <td>2925673</td>\n",
       "      <td>1854371</td>\n",
       "      <td>Credit Card</td>\n",
       "      <td>Form Submitted</td>\n",
       "      <td>2017-12-30 15:23</td>\n",
       "      <td>1545149</td>\n",
       "      <td>2017-06-04 18:35</td>\n",
       "      <td>2017-07-04 13:02</td>\n",
       "    </tr>\n",
       "    <tr>\n",
       "      <th>8748</th>\n",
       "      <td>2932392</td>\n",
       "      <td>1894193</td>\n",
       "      <td>Credit Card</td>\n",
       "      <td>Form Submitted</td>\n",
       "      <td>2017-12-30 16:14</td>\n",
       "      <td>1951323</td>\n",
       "      <td>2017-06-06 17:41</td>\n",
       "      <td>2017-10-05 13:37</td>\n",
       "    </tr>\n",
       "    <tr>\n",
       "      <th>14301</th>\n",
       "      <td>3289305</td>\n",
       "      <td>2070682</td>\n",
       "      <td>Personal Loan</td>\n",
       "      <td>Applied</td>\n",
       "      <td>2017-12-30 16:22</td>\n",
       "      <td>2258932</td>\n",
       "      <td>2017-07-25 19:48</td>\n",
       "      <td>2017-09-09 17:07</td>\n",
       "    </tr>\n",
       "    <tr>\n",
       "      <th>17533</th>\n",
       "      <td>2802323</td>\n",
       "      <td>1821967</td>\n",
       "      <td>Personal Loan</td>\n",
       "      <td>Eligible</td>\n",
       "      <td>2017-12-30 20:43</td>\n",
       "      <td>2319572</td>\n",
       "      <td>2017-08-06 23:11</td>\n",
       "      <td>2017-08-07 17:37</td>\n",
       "    </tr>\n",
       "    <tr>\n",
       "      <th>17191</th>\n",
       "      <td>3099395</td>\n",
       "      <td>1961321</td>\n",
       "      <td>Personal Loan</td>\n",
       "      <td>Form - Page 2</td>\n",
       "      <td>2017-12-30 6:37</td>\n",
       "      <td>1834522</td>\n",
       "      <td>2017-05-11 8:55</td>\n",
       "      <td>2017-07-24 22:21</td>\n",
       "    </tr>\n",
       "  </tbody>\n",
       "</table>\n",
       "</div>"
      ],
      "text/plain": [
       "       lead_id  user_id        product           stage          log_date  \\\n",
       "16810  2925673  1854371    Credit Card  Form Submitted  2017-12-30 15:23   \n",
       "8748   2932392  1894193    Credit Card  Form Submitted  2017-12-30 16:14   \n",
       "14301  3289305  2070682  Personal Loan         Applied  2017-12-30 16:22   \n",
       "17533  2802323  1821967  Personal Loan        Eligible  2017-12-30 20:43   \n",
       "17191  3099395  1961321  Personal Loan   Form - Page 2   2017-12-30 6:37   \n",
       "\n",
       "       user_id.1 registration_date        login_date  \n",
       "16810    1545149  2017-06-04 18:35  2017-07-04 13:02  \n",
       "8748     1951323  2017-06-06 17:41  2017-10-05 13:37  \n",
       "14301    2258932  2017-07-25 19:48  2017-09-09 17:07  \n",
       "17533    2319572  2017-08-06 23:11  2017-08-07 17:37  \n",
       "17191    1834522   2017-05-11 8:55  2017-07-24 22:21  "
      ]
     },
     "execution_count": 44,
     "metadata": {},
     "output_type": "execute_result"
    }
   ],
   "source": [
    "df = df.drop(labels=idx)\n",
    "df.drop\n",
    "print(len(df['log_date']))\n",
    "df.tail()"
   ]
  },
  {
   "cell_type": "markdown",
   "metadata": {},
   "source": [
    "### Ex1-2) log_date의 2017년 08월인 것을 모두 2017년 09월로 바꾸시오"
   ]
  },
  {
   "cell_type": "code",
   "execution_count": 48,
   "metadata": {},
   "outputs": [],
   "source": [
    "for i in df.index:\n",
    "    if df['log_date'][i][5:7] == '08':\n",
    "        df['log_date'][i] = df['log_date'][i].replace('-08','-09')"
   ]
  },
  {
   "cell_type": "code",
   "execution_count": 51,
   "metadata": {},
   "outputs": [],
   "source": [
    "for i in df.index:\n",
    "    if df['log_date'][i][5:7] == '08':\n",
    "        print('babo')"
   ]
  },
  {
   "cell_type": "markdown",
   "metadata": {},
   "source": [
    "### Ex2) registraion_date의 시간과 login_date의 시간의 차이가 10보다 작은 경우의 갯수를 구하시오"
   ]
  },
  {
   "cell_type": "code",
   "execution_count": 76,
   "metadata": {},
   "outputs": [],
   "source": [
    "def min_diff(fr, to): #fr, to are str\n",
    "    a = int(fr[-5:-3]) * 60 + int(fr[3:5]) # 18:00은 되는데 8:00이 안되서 뒤에서부터..\n",
    "    b = int(to[-5:-3])*60 + int(to[3:5])\n",
    "    \n",
    "    return sp.absolute(a-b)"
   ]
  },
  {
   "cell_type": "code",
   "execution_count": 75,
   "metadata": {
    "scrolled": true
   },
   "outputs": [
    {
     "data": {
      "text/plain": [
       "'15:03'"
      ]
     },
     "execution_count": 75,
     "metadata": {},
     "output_type": "execute_result"
    }
   ],
   "source": [
    "df['registration_date'][i][11:]"
   ]
  },
  {
   "cell_type": "code",
   "execution_count": 77,
   "metadata": {},
   "outputs": [
    {
     "data": {
      "text/plain": [
       "423"
      ]
     },
     "execution_count": 77,
     "metadata": {},
     "output_type": "execute_result"
    }
   ],
   "source": [
    "min_diff(df['registration_date'][5][11:], df['registration_date'][2][11:])"
   ]
  },
  {
   "cell_type": "code",
   "execution_count": 78,
   "metadata": {},
   "outputs": [
    {
     "name": "stdout",
     "output_type": "stream",
     "text": [
      "17156\n"
     ]
    }
   ],
   "source": [
    "idx1 = []\n",
    "for i in df.index:\n",
    "    fr = df['registration_date'][i][11:]\n",
    "    to = df['login_date'][i][11:]\n",
    "    diff = min_diff(fr, to)\n",
    "    if diff < 60*10:\n",
    "        idx1.append(i)\n",
    "print(len(idx1))"
   ]
  },
  {
   "cell_type": "markdown",
   "metadata": {
    "collapsed": true
   },
   "source": [
    "### Ex3-1) cars data 로드하고 Brand에 따라 데이터를 분할하고, mpg를 사용하여 ANOVA를 실시하라. 유의수준 5%에 따라 차이가 있는지 판단하고, F통계량 값 계산."
   ]
  },
  {
   "cell_type": "code",
   "execution_count": 129,
   "metadata": {},
   "outputs": [
    {
     "data": {
      "text/html": [
       "<div>\n",
       "<style scoped>\n",
       "    .dataframe tbody tr th:only-of-type {\n",
       "        vertical-align: middle;\n",
       "    }\n",
       "\n",
       "    .dataframe tbody tr th {\n",
       "        vertical-align: top;\n",
       "    }\n",
       "\n",
       "    .dataframe thead th {\n",
       "        text-align: right;\n",
       "    }\n",
       "</style>\n",
       "<table border=\"1\" class=\"dataframe\">\n",
       "  <thead>\n",
       "    <tr style=\"text-align: right;\">\n",
       "      <th></th>\n",
       "      <th>mpg</th>\n",
       "      <th>cylinders</th>\n",
       "      <th>cubicinches</th>\n",
       "      <th>hp</th>\n",
       "      <th>weightlbs</th>\n",
       "      <th>time-to-60</th>\n",
       "      <th>year</th>\n",
       "      <th>brand</th>\n",
       "    </tr>\n",
       "  </thead>\n",
       "  <tbody>\n",
       "    <tr>\n",
       "      <th>0</th>\n",
       "      <td>14.0</td>\n",
       "      <td>8</td>\n",
       "      <td>350</td>\n",
       "      <td>165</td>\n",
       "      <td>4209</td>\n",
       "      <td>12</td>\n",
       "      <td>1972</td>\n",
       "      <td>US.</td>\n",
       "    </tr>\n",
       "    <tr>\n",
       "      <th>1</th>\n",
       "      <td>31.9</td>\n",
       "      <td>4</td>\n",
       "      <td>89</td>\n",
       "      <td>71</td>\n",
       "      <td>1925</td>\n",
       "      <td>14</td>\n",
       "      <td>1980</td>\n",
       "      <td>Europe.</td>\n",
       "    </tr>\n",
       "    <tr>\n",
       "      <th>2</th>\n",
       "      <td>17.0</td>\n",
       "      <td>8</td>\n",
       "      <td>302</td>\n",
       "      <td>140</td>\n",
       "      <td>3449</td>\n",
       "      <td>11</td>\n",
       "      <td>1971</td>\n",
       "      <td>US.</td>\n",
       "    </tr>\n",
       "    <tr>\n",
       "      <th>3</th>\n",
       "      <td>15.0</td>\n",
       "      <td>8</td>\n",
       "      <td>400</td>\n",
       "      <td>150</td>\n",
       "      <td>3761</td>\n",
       "      <td>10</td>\n",
       "      <td>1971</td>\n",
       "      <td>US.</td>\n",
       "    </tr>\n",
       "    <tr>\n",
       "      <th>4</th>\n",
       "      <td>30.5</td>\n",
       "      <td>4</td>\n",
       "      <td>98</td>\n",
       "      <td>63</td>\n",
       "      <td>2051</td>\n",
       "      <td>17</td>\n",
       "      <td>1978</td>\n",
       "      <td>US.</td>\n",
       "    </tr>\n",
       "  </tbody>\n",
       "</table>\n",
       "</div>"
      ],
      "text/plain": [
       "    mpg  cylinders cubicinches   hp weightlbs  time-to-60  year     brand\n",
       "0  14.0          8         350  165      4209          12  1972       US.\n",
       "1  31.9          4          89   71      1925          14  1980   Europe.\n",
       "2  17.0          8         302  140      3449          11  1971       US.\n",
       "3  15.0          8         400  150      3761          10  1971       US.\n",
       "4  30.5          4          98   63      2051          17  1978       US."
      ]
     },
     "execution_count": 129,
     "metadata": {},
     "output_type": "execute_result"
    }
   ],
   "source": [
    "df1 = pd.read_csv('./cars.csv')\n",
    "df1.columns\n",
    "df1.rename(index=str, columns={'mpg':'mpg', ' cylinders':'cylinders', ' cubicinches':'cubicinches', ' hp':'hp', ' weightlbs':'weightlbs',' time-to-60': 'time-to-60',\n",
    "       ' year':'year', ' brand': 'brand'}, inplace = True)\n",
    "idx = []\n",
    "for j in list(df1.columns):\n",
    "    for i in df1[j].index:\n",
    "        if df1[j][i] == ' ':\n",
    "            idx.append(i)\n",
    "idx\n",
    "\n",
    "df1 = df1.drop(index=idx)\n",
    "df1.head()"
   ]
  },
  {
   "cell_type": "code",
   "execution_count": 140,
   "metadata": {},
   "outputs": [
    {
     "data": {
      "text/plain": [
       "F_onewayResult(statistic=array([65.18310829]), pvalue=array([1.4709412e-23]))"
      ]
     },
     "execution_count": 140,
     "metadata": {},
     "output_type": "execute_result"
    }
   ],
   "source": [
    "temp = []\n",
    "for i in df1['brand'].unique():\n",
    "    temp.append(df1[df1['brand'] == i][['mpg']])\n",
    "    \n",
    "from scipy import stats\n",
    "sp.stats.f_oneway(temp[0], temp[1], temp[2])"
   ]
  },
  {
   "cell_type": "markdown",
   "metadata": {},
   "source": [
    "### Ex3-2) 단위 실린더에 따른 hp값을 새 변수로 추가하고, 브랜드에 따른 ANOVA를 시행하라"
   ]
  },
  {
   "cell_type": "code",
   "execution_count": 151,
   "metadata": {},
   "outputs": [
    {
     "data": {
      "text/plain": [
       "F_onewayResult(statistic=array([0.25996776]), pvalue=array([0.77128217]))"
      ]
     },
     "execution_count": 151,
     "metadata": {},
     "output_type": "execute_result"
    }
   ],
   "source": [
    "df1['hp/cylinders'] = df1['hp']/df1['cylinders']\n",
    "df1.head()\n",
    "\n",
    "temp = []\n",
    "for i in df1['brand'].unique():\n",
    "    temp.append(df1[df1['brand'] == i][['hp/cylinders']])\n",
    "    \n",
    "from scipy import stats\n",
    "sp.stats.f_oneway(temp[0], temp[1], temp[2])"
   ]
  },
  {
   "cell_type": "markdown",
   "metadata": {},
   "source": [
    "### Ex4) hp에 따른 time-to-60를 단순 선형 회귀모델을 생성하는데 1970년대 생성된 모델과 1980년대 생성된 모델 2개를 생산한다."
   ]
  },
  {
   "cell_type": "code",
   "execution_count": 178,
   "metadata": {},
   "outputs": [
    {
     "name": "stdout",
     "output_type": "stream",
     "text": [
      "1970s: y = -0.051043x + 20.869624\n"
     ]
    },
    {
     "data": {
      "text/plain": [
       "[<matplotlib.lines.Line2D at 0x17f76035e80>]"
      ]
     },
     "execution_count": 178,
     "metadata": {},
     "output_type": "execute_result"
    },
    {
     "data": {
      "image/png": "[encoded data removed]",
      "text/plain": [
       "<Figure size 432x288 with 1 Axes>"
      ]
     },
     "metadata": {
      "needs_background": "light"
     },
     "output_type": "display_data"
    }
   ],
   "source": [
    "df1_1 = df1[df1['year'] < 1979.9]\n",
    "x1 = df1_1[['hp']]\n",
    "y1 = df1_1[['time-to-60']]\n",
    "\n",
    "from sklearn.linear_model import LinearRegression\n",
    "reg1 = LinearRegression()\n",
    "reg1.fit(x1,y1)\n",
    "print('1970s: y = %fx + %f'%(reg1.coef_, reg1.intercept_))\n",
    "\n",
    "plt.scatter(x1, y1)\n",
    "xmin = x1.min()\n",
    "xmax = x1.max()\n",
    "plt.plot([xmin,xmax],reg1.predict([xmin,xmax]), 'r')\n"
   ]
  },
  {
   "cell_type": "code",
   "execution_count": 179,
   "metadata": {},
   "outputs": [
    {
     "name": "stdout",
     "output_type": "stream",
     "text": [
      "1980s: y = -0.063193x + 22.188583\n"
     ]
    },
    {
     "data": {
      "text/plain": [
       "[<matplotlib.lines.Line2D at 0x17f75a52320>]"
      ]
     },
     "execution_count": 179,
     "metadata": {},
     "output_type": "execute_result"
    },
    {
     "data": {
      "image/png": "[encoded data removed]",
      "text/plain": [
       "<Figure size 432x288 with 1 Axes>"
      ]
     },
     "metadata": {
      "needs_background": "light"
     },
     "output_type": "display_data"
    }
   ],
   "source": [
    "df1_2 = df1[df1['year'] > 1979.9]\n",
    "x2 = df1_2[['hp']]\n",
    "y2 = df1_2[['time-to-60']]\n",
    "\n",
    "from sklearn.linear_model import LinearRegression\n",
    "reg2 = LinearRegression()\n",
    "reg2.fit(x2,y2)\n",
    "print('1980s: y = %fx + %f'%(reg2.coef_, reg2.intercept_))\n",
    "\n",
    "plt.scatter(x2, y2)\n",
    "xmin = x2.min()\n",
    "xmax = x2.max()\n",
    "plt.plot([xmin,xmax],reg2.predict([xmin,xmax]), 'r')\n"
   ]
  },
  {
   "cell_type": "code",
   "execution_count": null,
   "metadata": {},
   "outputs": [],
   "source": []
  },
  {
   "cell_type": "code",
   "execution_count": null,
   "metadata": {},
   "outputs": [],
   "source": []
  },
  {
   "cell_type": "code",
   "execution_count": null,
   "metadata": {},
   "outputs": [],
   "source": []
  },
  {
   "cell_type": "code",
   "execution_count": null,
   "metadata": {},
   "outputs": [],
   "source": []
  },
  {
   "cell_type": "code",
   "execution_count": null,
   "metadata": {},
   "outputs": [],
   "source": []
  }
 ],
 "metadata": {
  "kernelspec": {
   "display_name": "Python 3",
   "language": "python",
   "name": "python3"
  },
  "language_info": {
   "codemirror_mode": {
    "name": "ipython",
    "version": 3
   },
   "file_extension": ".py",
   "mimetype": "text/x-python",
   "name": "python",
   "nbconvert_exporter": "python",
   "pygments_lexer": "ipython3",
   "version": "3.7.1"
  }
 },
 "nbformat": 4,
 "nbformat_minor": 2
}
