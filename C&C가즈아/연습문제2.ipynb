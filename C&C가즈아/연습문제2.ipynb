{
 "cells": [
  {
   "cell_type": "code",
   "execution_count": 1,
   "metadata": {},
   "outputs": [],
   "source": [
    "import pandas as pd\n",
    "import scipy as sp\n",
    "import matplotlib.pyplot as plt\n",
    "from scipy import stats\n",
    "\n",
    "import numpy as np"
   ]
  },
  {
   "cell_type": "markdown",
   "metadata": {},
   "source": [
    "### Ex0) 데이터 전처리\n",
    "\n",
    "다음의 순서대로 전처리를 하시오\n",
    "\n",
    "- population.csv를 불러온다\n",
    "- 결측치가 있는 경우 해당 행을 삭제하시오\n",
    "- Age변수에서 20세 이하와 40세 이상 범위 밖의 데이터는 제거하시오\n",
    "- District.Code, Neighborhood.Code, Gender의 경우 Dummy variable로 변환하시오"
   ]
  },
  {
   "cell_type": "code",
   "execution_count": 2,
   "metadata": {},
   "outputs": [
    {
     "name": "stdout",
     "output_type": "stream",
     "text": [
      "      Year District.Name  Neighborhood.Code  \\\n",
      "1460  2017  Ciutat Vella                  1   \n",
      "1461  2017  Ciutat Vella                  2   \n",
      "1462  2017  Ciutat Vella                  3   \n",
      "1463  2017  Ciutat Vella                  4   \n",
      "1464  2017      Eixample                  5   \n",
      "\n",
      "                          Neighborhood.Name    Age  Number  Gender_Male  \\\n",
      "1460                               el Raval  20-24     259            1   \n",
      "1461                         el Barri Gòtic  20-24      56            1   \n",
      "1462                         la Barceloneta  20-24      67            1   \n",
      "1463  Sant Pere, Santa Caterina i la Ribera  20-24     104            1   \n",
      "1464                          el Fort Pienc  20-24     129            1   \n",
      "\n",
      "      District.Code_2  District.Code_3  District.Code_4  District.Code_5  \\\n",
      "1460                0                0                0                0   \n",
      "1461                0                0                0                0   \n",
      "1462                0                0                0                0   \n",
      "1463                0                0                0                0   \n",
      "1464                1                0                0                0   \n",
      "\n",
      "      District.Code_6  District.Code_7  District.Code_8  District.Code_9  \\\n",
      "1460                0                0                0                0   \n",
      "1461                0                0                0                0   \n",
      "1462                0                0                0                0   \n",
      "1463                0                0                0                0   \n",
      "1464                0                0                0                0   \n",
      "\n",
      "      District.Code_10  \n",
      "1460                 0  \n",
      "1461                 0  \n",
      "1462                 0  \n",
      "1463                 0  \n",
      "1464                 0  \n",
      "14600\n"
     ]
    }
   ],
   "source": [
    "df = pd.read_csv('./population.csv')\n",
    "df.isnull().sum() #결측치 없음\n",
    "\n",
    "idx = []\n",
    "for i in df.index:\n",
    "    if df['Age'][i] in ['0-4', '5-9', '10-14', '15-19','40-44', '45-49', '50-54', '55-59', '60-64', '65-69', '70-74',\n",
    "       '75-79', '80-84', '85-89', '90-94', '>=95']:\n",
    "        idx.append(i)\n",
    "        \n",
    "df = df.drop(index=idx)\n",
    "\n",
    "df = pd.get_dummies(df, columns=['Gender', 'District.Code'], drop_first=True)\n",
    "\n",
    "print(df.head())\n",
    "print(len(df))"
   ]
  },
  {
   "cell_type": "markdown",
   "metadata": {},
   "source": [
    "### Ex1) Number 변수에서 이상치를 평균에서 1.8표준편차보다 큰 값 혹은 작은 값으로 정의하자. 이에 대해 데이터에서 Number의 이상치를 제거한 후 Range(최대-최소)를 구하시오"
   ]
  },
  {
   "cell_type": "code",
   "execution_count": 3,
   "metadata": {},
   "outputs": [
    {
     "name": "stdout",
     "output_type": "stream",
     "text": [
      "range is  371\n"
     ]
    }
   ],
   "source": [
    "mu = df['Number'].mean()\n",
    "std = df['Number'].std()\n",
    "\n",
    "idx = []\n",
    "for i in df.index:\n",
    "    if df['Number'][i] < (mu - 1.8*std) or df['Number'][i] > (mu + 1.8*std):\n",
    "        idx.append(i)\n",
    "\n",
    "df = df.drop(index=idx)\n",
    "print(\"range is \",df['Number'].max() - df['Number'].min())"
   ]
  },
  {
   "cell_type": "markdown",
   "metadata": {},
   "source": [
    "### Ex2) Age의 값을 Range의 평균값으로 대체(ex 20-24면 (20+24)/2)하고, Age값과 Number사이의 상관관계를 알아보고자 한다.\n",
    "\n",
    "Number가 3사분위수 이상인 자들에 대하여 Age와 Number의 상관계수 값을 구하시오"
   ]
  },
  {
   "cell_type": "code",
   "execution_count": 4,
   "metadata": {},
   "outputs": [
    {
     "name": "stderr",
     "output_type": "stream",
     "text": [
      "C:\\Users\\yalhl\\Anaconda3\\lib\\site-packages\\ipykernel_launcher.py:5: SettingWithCopyWarning: \n",
      "A value is trying to be set on a copy of a slice from a DataFrame\n",
      "\n",
      "See the caveats in the documentation: http://pandas.pydata.org/pandas-docs/stable/indexing.html#indexing-view-versus-copy\n",
      "  \"\"\"\n"
     ]
    }
   ],
   "source": [
    "def age(str):\n",
    "    return sp.mean([int(str[:2]), int(str[-2:])])\n",
    "\n",
    "for i in df['Age'].unique():\n",
    "    df['Age'][df['Age'] == i] = age(df['Age'][df['Age'] == i].iloc[0])"
   ]
  },
  {
   "cell_type": "code",
   "execution_count": null,
   "metadata": {
    "scrolled": true
   },
   "outputs": [],
   "source": [
    "df['Number'].describe()"
   ]
  },
  {
   "cell_type": "code",
   "execution_count": null,
   "metadata": {},
   "outputs": [],
   "source": [
    "df1 = df[df[\"Number\"] > 189]\n",
    "sp.stats.pearsonr(df1['Age'], df1['Number'])"
   ]
  },
  {
   "cell_type": "code",
   "execution_count": null,
   "metadata": {},
   "outputs": [],
   "source": [
    "df1"
   ]
  },
  {
   "cell_type": "markdown",
   "metadata": {},
   "source": [
    "### Ex3) Number가 180이상여부가 Age와 독립적인지 파악할 수 있는 가설 검정을 유의수준 5%에서 검증하고 p-value롤 계산하시오."
   ]
  },
  {
   "cell_type": "code",
   "execution_count": 16,
   "metadata": {},
   "outputs": [
    {
     "data": {
      "text/plain": [
       "Year                                                          19924540\n",
       "District.Name        Ciutat VellaCiutat VellaCiutat VellaEixampleEi...\n",
       "Neighborhood.Code                                               408696\n",
       "Neighborhood.Name    el Barri Gòticla BarcelonetaSant Pere, Santa C...\n",
       "Number                                                          864780\n",
       "Gender_Male                                                       4937\n",
       "District.Code_2                                                    101\n",
       "District.Code_3                                                   1006\n",
       "District.Code_4                                                    371\n",
       "District.Code_5                                                    838\n",
       "District.Code_6                                                    663\n",
       "District.Code_7                                                   1764\n",
       "District.Code_8                                                   2405\n",
       "District.Code_9                                                   1058\n",
       "District.Code_10                                                  1361\n",
       "Age_22.0                                                          3112\n",
       "Age_27.0                                                          2593\n",
       "Age_32.0                                                          2224\n",
       "Age_37.0                                                          1959\n",
       "dtype: object"
      ]
     },
     "execution_count": 16,
     "metadata": {},
     "output_type": "execute_result"
    }
   ],
   "source": [
    "df1 = pd.get_dummies(df, columns=['Age'])\n",
    "df1_1 = df1[df1[\"Number\"]>=180]\n",
    "df1_2 = df1[df1[\"Number\"]<180]\n",
    "\n",
    "df1_2.sum()"
   ]
  },
  {
   "cell_type": "code",
   "execution_count": 17,
   "metadata": {},
   "outputs": [],
   "source": [
    "con_table = [[525, 889, 1061, 1287], [3112, 2593, 2224, 1959]]"
   ]
  },
  {
   "cell_type": "code",
   "execution_count": 18,
   "metadata": {},
   "outputs": [
    {
     "data": {
      "text/plain": [
       "(595.5444927453743,\n",
       " 9.317107702221041e-129,\n",
       " 3,\n",
       " array([[1002.37318681,  959.65450549,  905.36043956,  894.61186813],\n",
       "        [2634.62681319, 2522.34549451, 2379.63956044, 2351.38813187]]))"
      ]
     },
     "execution_count": 18,
     "metadata": {},
     "output_type": "execute_result"
    }
   ],
   "source": [
    "sp.stats.chi2_contingency(con_table)"
   ]
  },
  {
   "cell_type": "markdown",
   "metadata": {},
   "source": [
    "### Ex4) Cars데이터 이용: mpg(종속변수)예측을 위해 cylinder, hp, weightlbs(입력변수)를 사용할거다. \n",
    "\n",
    "- 종속변수로 log10 함수를 적용한 값을 사용하여 회귀모형을 만들어라\n",
    "- time-to-60 가 17초 이하인 데이터를 훈련데이터로 사용, 17초 초과인 데이터를 테스트 데이터로 사용하시오\n",
    "- 선형회귀식, train, test R2계산"
   ]
  },
  {
   "cell_type": "code",
   "execution_count": 46,
   "metadata": {},
   "outputs": [
    {
     "data": {
      "text/html": [
       "<div>\n",
       "<style scoped>\n",
       "    .dataframe tbody tr th:only-of-type {\n",
       "        vertical-align: middle;\n",
       "    }\n",
       "\n",
       "    .dataframe tbody tr th {\n",
       "        vertical-align: top;\n",
       "    }\n",
       "\n",
       "    .dataframe thead th {\n",
       "        text-align: right;\n",
       "    }\n",
       "</style>\n",
       "<table border=\"1\" class=\"dataframe\">\n",
       "  <thead>\n",
       "    <tr style=\"text-align: right;\">\n",
       "      <th></th>\n",
       "      <th>mpg</th>\n",
       "      <th>cylinders</th>\n",
       "      <th>cubicinches</th>\n",
       "      <th>hp</th>\n",
       "      <th>weightlbs</th>\n",
       "      <th>time-to-60</th>\n",
       "      <th>year</th>\n",
       "      <th>brand</th>\n",
       "    </tr>\n",
       "  </thead>\n",
       "  <tbody>\n",
       "    <tr>\n",
       "      <th>0</th>\n",
       "      <td>14.0</td>\n",
       "      <td>8</td>\n",
       "      <td>350</td>\n",
       "      <td>165</td>\n",
       "      <td>4209</td>\n",
       "      <td>12</td>\n",
       "      <td>1972</td>\n",
       "      <td>US.</td>\n",
       "    </tr>\n",
       "    <tr>\n",
       "      <th>1</th>\n",
       "      <td>31.9</td>\n",
       "      <td>4</td>\n",
       "      <td>89</td>\n",
       "      <td>71</td>\n",
       "      <td>1925</td>\n",
       "      <td>14</td>\n",
       "      <td>1980</td>\n",
       "      <td>Europe.</td>\n",
       "    </tr>\n",
       "    <tr>\n",
       "      <th>2</th>\n",
       "      <td>17.0</td>\n",
       "      <td>8</td>\n",
       "      <td>302</td>\n",
       "      <td>140</td>\n",
       "      <td>3449</td>\n",
       "      <td>11</td>\n",
       "      <td>1971</td>\n",
       "      <td>US.</td>\n",
       "    </tr>\n",
       "    <tr>\n",
       "      <th>3</th>\n",
       "      <td>15.0</td>\n",
       "      <td>8</td>\n",
       "      <td>400</td>\n",
       "      <td>150</td>\n",
       "      <td>3761</td>\n",
       "      <td>10</td>\n",
       "      <td>1971</td>\n",
       "      <td>US.</td>\n",
       "    </tr>\n",
       "    <tr>\n",
       "      <th>4</th>\n",
       "      <td>30.5</td>\n",
       "      <td>4</td>\n",
       "      <td>98</td>\n",
       "      <td>63</td>\n",
       "      <td>2051</td>\n",
       "      <td>17</td>\n",
       "      <td>1978</td>\n",
       "      <td>US.</td>\n",
       "    </tr>\n",
       "  </tbody>\n",
       "</table>\n",
       "</div>"
      ],
      "text/plain": [
       "    mpg  cylinders cubicinches   hp weightlbs  time-to-60  year     brand\n",
       "0  14.0          8         350  165      4209          12  1972       US.\n",
       "1  31.9          4          89   71      1925          14  1980   Europe.\n",
       "2  17.0          8         302  140      3449          11  1971       US.\n",
       "3  15.0          8         400  150      3761          10  1971       US.\n",
       "4  30.5          4          98   63      2051          17  1978       US."
      ]
     },
     "execution_count": 46,
     "metadata": {},
     "output_type": "execute_result"
    }
   ],
   "source": [
    "df1 = pd.read_csv('./cars.csv')\n",
    "df1.columns\n",
    "df1.rename(index=str, columns={'mpg':'mpg', ' cylinders':'cylinders', ' cubicinches':'cubicinches', ' hp':'hp', ' weightlbs':'weightlbs',' time-to-60': 'time-to-60',\n",
    "       ' year':'year', ' brand': 'brand'}, inplace = True)\n",
    "idx = []\n",
    "for j in list(df1.columns):\n",
    "    for i in df1[j].index:\n",
    "        if df1[j][i] == ' ':\n",
    "            idx.append(i)\n",
    "idx\n",
    "\n",
    "df1 = df1.drop(index=idx)\n",
    "df1.head()"
   ]
  },
  {
   "cell_type": "code",
   "execution_count": 52,
   "metadata": {},
   "outputs": [
    {
     "data": {
      "text/html": [
       "<div>\n",
       "<style scoped>\n",
       "    .dataframe tbody tr th:only-of-type {\n",
       "        vertical-align: middle;\n",
       "    }\n",
       "\n",
       "    .dataframe tbody tr th {\n",
       "        vertical-align: top;\n",
       "    }\n",
       "\n",
       "    .dataframe thead th {\n",
       "        text-align: right;\n",
       "    }\n",
       "</style>\n",
       "<table border=\"1\" class=\"dataframe\">\n",
       "  <thead>\n",
       "    <tr style=\"text-align: right;\">\n",
       "      <th></th>\n",
       "      <th>mpg</th>\n",
       "      <th>cylinders</th>\n",
       "      <th>cubicinches</th>\n",
       "      <th>hp</th>\n",
       "      <th>weightlbs</th>\n",
       "      <th>time-to-60</th>\n",
       "      <th>year</th>\n",
       "      <th>brand</th>\n",
       "      <th>log_mpg</th>\n",
       "    </tr>\n",
       "  </thead>\n",
       "  <tbody>\n",
       "    <tr>\n",
       "      <th>0</th>\n",
       "      <td>14.0</td>\n",
       "      <td>8</td>\n",
       "      <td>350</td>\n",
       "      <td>165</td>\n",
       "      <td>4209</td>\n",
       "      <td>12</td>\n",
       "      <td>1972</td>\n",
       "      <td>US.</td>\n",
       "      <td>1.146128</td>\n",
       "    </tr>\n",
       "    <tr>\n",
       "      <th>1</th>\n",
       "      <td>31.9</td>\n",
       "      <td>4</td>\n",
       "      <td>89</td>\n",
       "      <td>71</td>\n",
       "      <td>1925</td>\n",
       "      <td>14</td>\n",
       "      <td>1980</td>\n",
       "      <td>Europe.</td>\n",
       "      <td>1.503791</td>\n",
       "    </tr>\n",
       "    <tr>\n",
       "      <th>2</th>\n",
       "      <td>17.0</td>\n",
       "      <td>8</td>\n",
       "      <td>302</td>\n",
       "      <td>140</td>\n",
       "      <td>3449</td>\n",
       "      <td>11</td>\n",
       "      <td>1971</td>\n",
       "      <td>US.</td>\n",
       "      <td>1.230449</td>\n",
       "    </tr>\n",
       "    <tr>\n",
       "      <th>3</th>\n",
       "      <td>15.0</td>\n",
       "      <td>8</td>\n",
       "      <td>400</td>\n",
       "      <td>150</td>\n",
       "      <td>3761</td>\n",
       "      <td>10</td>\n",
       "      <td>1971</td>\n",
       "      <td>US.</td>\n",
       "      <td>1.176091</td>\n",
       "    </tr>\n",
       "    <tr>\n",
       "      <th>4</th>\n",
       "      <td>30.5</td>\n",
       "      <td>4</td>\n",
       "      <td>98</td>\n",
       "      <td>63</td>\n",
       "      <td>2051</td>\n",
       "      <td>17</td>\n",
       "      <td>1978</td>\n",
       "      <td>US.</td>\n",
       "      <td>1.484300</td>\n",
       "    </tr>\n",
       "  </tbody>\n",
       "</table>\n",
       "</div>"
      ],
      "text/plain": [
       "    mpg  cylinders cubicinches   hp weightlbs  time-to-60  year     brand  \\\n",
       "0  14.0          8         350  165      4209          12  1972       US.   \n",
       "1  31.9          4          89   71      1925          14  1980   Europe.   \n",
       "2  17.0          8         302  140      3449          11  1971       US.   \n",
       "3  15.0          8         400  150      3761          10  1971       US.   \n",
       "4  30.5          4          98   63      2051          17  1978       US.   \n",
       "\n",
       "    log_mpg  \n",
       "0  1.146128  \n",
       "1  1.503791  \n",
       "2  1.230449  \n",
       "3  1.176091  \n",
       "4  1.484300  "
      ]
     },
     "execution_count": 52,
     "metadata": {},
     "output_type": "execute_result"
    }
   ],
   "source": [
    "df1['log_mpg'] = sp.log10(df1['mpg'])\n",
    "df1.head()"
   ]
  },
  {
   "cell_type": "code",
   "execution_count": 54,
   "metadata": {},
   "outputs": [],
   "source": [
    "train = df1[df1['time-to-60'] <= 17]\n",
    "test = df1[df1['time-to-60'] > 17]"
   ]
  },
  {
   "cell_type": "code",
   "execution_count": 55,
   "metadata": {},
   "outputs": [],
   "source": [
    "X_train = train[['cylinders', 'hp', 'weightlbs']]\n",
    "y_train = train[['log_mpg']]\n",
    "X_test = test[['cylinders', 'hp', 'weightlbs']]\n",
    "y_test = test[['log_mpg']]"
   ]
  },
  {
   "cell_type": "code",
   "execution_count": 56,
   "metadata": {},
   "outputs": [
    {
     "data": {
      "text/plain": [
       "LinearRegression(copy_X=True, fit_intercept=True, n_jobs=None,\n",
       "         normalize=False)"
      ]
     },
     "execution_count": 56,
     "metadata": {},
     "output_type": "execute_result"
    }
   ],
   "source": [
    "from sklearn.linear_model import LinearRegression\n",
    "reg = LinearRegression()\n",
    "reg.fit(X_train, y_train)"
   ]
  },
  {
   "cell_type": "code",
   "execution_count": 57,
   "metadata": {},
   "outputs": [
    {
     "name": "stdout",
     "output_type": "stream",
     "text": [
      "train R2 Score is  0.8075189594685002\n",
      "test R2 Score is  0.48731513363434154\n",
      "Regression function is y = 1.762008 + (-0.011742)(x_clinders) + (-0.000790)(x_hp) +(-0.000092)(x_weightlbs)\n"
     ]
    }
   ],
   "source": [
    "print(\"train R2 Score is \",reg.score(X_train, y_train))\n",
    "print(\"test R2 Score is \",reg.score(X_test, y_test))\n",
    "print(\"Regression function is y = %f + (%f)(x_clinders) + (%f)(x_hp) +(%f)(x_weightlbs)\"%(reg.intercept_[0], reg.coef_[0][0],\n",
    "                                                                                    reg.coef_[0][1], reg.coef_[0][2]))"
   ]
  },
  {
   "cell_type": "markdown",
   "metadata": {},
   "source": [
    "### Ex5) 테스트 데이터에 대한 RMSE를 계산하시오"
   ]
  },
  {
   "cell_type": "code",
   "execution_count": 59,
   "metadata": {},
   "outputs": [],
   "source": [
    "def RMSE(y, yhat):\n",
    "    return sp.sqrt(sp.mean(sp.square(y-yhat)))"
   ]
  },
  {
   "cell_type": "code",
   "execution_count": 60,
   "metadata": {},
   "outputs": [
    {
     "data": {
      "text/plain": [
       "array([0.08793706])"
      ]
     },
     "execution_count": 60,
     "metadata": {},
     "output_type": "execute_result"
    }
   ],
   "source": [
    "RMSE(y_test, reg.predict(X_test))"
   ]
  },
  {
   "cell_type": "code",
   "execution_count": 63,
   "metadata": {},
   "outputs": [
    {
     "data": {
      "text/plain": [
       "0.08793705988774528"
      ]
     },
     "execution_count": 63,
     "metadata": {},
     "output_type": "execute_result"
    }
   ],
   "source": [
    "from sklearn.metrics import mean_squared_error\n",
    "sp.sqrt(mean_squared_error(y_test, reg.predict(X_test)))"
   ]
  }
 ],
 "metadata": {
  "kernelspec": {
   "display_name": "Python 3",
   "language": "python",
   "name": "python3"
  },
  "language_info": {
   "codemirror_mode": {
    "name": "ipython",
    "version": 3
   },
   "file_extension": ".py",
   "mimetype": "text/x-python",
   "name": "python",
   "nbconvert_exporter": "python",
   "pygments_lexer": "ipython3",
   "version": "3.7.1"
  }
 },
 "nbformat": 4,
 "nbformat_minor": 2
}
