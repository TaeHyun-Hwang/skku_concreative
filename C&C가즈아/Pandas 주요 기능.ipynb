{
 "cells": [
  {
   "cell_type": "code",
   "execution_count": 1,
   "metadata": {
    "collapsed": true
   },
   "outputs": [],
   "source": [
    "from pandas import Series, DataFrame\n",
    "import pandas as pd\n",
    "import numpy as np"
   ]
  },
  {
   "cell_type": "markdown",
   "metadata": {},
   "source": [
    "# row, colum 추가 및 삭제"
   ]
  },
  {
   "cell_type": "code",
   "execution_count": 7,
   "metadata": {},
   "outputs": [
    {
     "name": "stdout",
     "output_type": "stream",
     "text": [
      "a    0\n",
      "b    1\n",
      "c    2\n",
      "d    3\n",
      "e    4\n",
      "dtype: int32\n",
      "a    0\n",
      "b    1\n",
      "d    3\n",
      "e    4\n",
      "dtype: int32\n",
      "a    0\n",
      "b    1\n",
      "e    4\n",
      "dtype: int32\n"
     ]
    }
   ],
   "source": [
    "#Series 행삭제\n",
    "obj = Series(np.arange(5), index = ['a','b','c','d','e'])\n",
    "print(obj)\n",
    "print(obj.drop('c'))\n",
    "print(obj.drop(['d','c']))"
   ]
  },
  {
   "cell_type": "code",
   "execution_count": 15,
   "metadata": {},
   "outputs": [
    {
     "name": "stdout",
     "output_type": "stream",
     "text": [
      "          one  two  three  four\n",
      "Ohio        0    1      2     3\n",
      "Colorado    4    5      6     7\n",
      "Utah        8    9     10    11\n",
      "NewYork    12   13     14    15\n",
      "         one  two  three  four\n",
      "Ohio       0    1      2     3\n",
      "Utah       8    9     10    11\n",
      "NewYork   12   13     14    15\n",
      "         one  two  three  four\n",
      "Utah       8    9     10    11\n",
      "NewYork   12   13     14    15\n",
      "          one  three  four\n",
      "Ohio        0      2     3\n",
      "Colorado    4      6     7\n",
      "Utah        8     10    11\n",
      "NewYork    12     14    15\n",
      "          one  four\n",
      "Ohio        0     3\n",
      "Colorado    4     7\n",
      "Utah        8    11\n",
      "NewYork    12    15\n"
     ]
    }
   ],
   "source": [
    "#DataFrame 행,렬 삭제\n",
    "data = DataFrame(np.arange(16).reshape((4,4)), index=['Ohio', 'Colorado', 'Utah','NewYork'], columns = ['one', 'two', 'three', 'four'])\n",
    "print(data)\n",
    "print(data.drop('Colorado'))\n",
    "print(data.drop(['Colorado', 'Ohio']))\n",
    "print(data.drop('two', axis=1))\n",
    "print(data.drop(['two','three'], axis=1))"
   ]
  },
  {
   "cell_type": "markdown",
   "metadata": {},
   "source": [
    "# 인덱싱, 슬라이싱"
   ]
  },
  {
   "cell_type": "markdown",
   "metadata": {},
   "source": [
    "## Series"
   ]
  },
  {
   "cell_type": "code",
   "execution_count": 75,
   "metadata": {},
   "outputs": [
    {
     "name": "stdout",
     "output_type": "stream",
     "text": [
      "a    0\n",
      "b    1\n",
      "c    2\n",
      "d    3\n",
      "dtype: int32\n",
      "1\n",
      "1\n",
      "c    2\n",
      "d    3\n",
      "dtype: int32\n",
      "b    1\n",
      "c    2\n",
      "d    3\n",
      "dtype: int32\n",
      "b    1\n",
      "a    0\n",
      "d    3\n",
      "dtype: int32\n",
      "a    0\n",
      "b    1\n",
      "dtype: int32\n"
     ]
    }
   ],
   "source": [
    "obj = Series(np.arange(4), index=['a','b','c','d'])\n",
    "print(obj)\n",
    "print(obj['b'])\n",
    "print(obj[1])\n",
    "print(obj[2:4]) #index가 2에서 (4-1)까지 -> 2개 나옴\n",
    "print(obj['b':'d']) #index가 b에서 d까지!! -> 3개 나옴\n",
    "print(obj[['b','a','d']])\n",
    "print(obj[obj<2])"
   ]
  },
  {
   "cell_type": "markdown",
   "metadata": {},
   "source": [
    "## DataFrame"
   ]
  },
  {
   "cell_type": "code",
   "execution_count": 76,
   "metadata": {},
   "outputs": [
    {
     "name": "stdout",
     "output_type": "stream",
     "text": [
      "          one  two  three  four\n",
      "Ohio        0    1      2     3\n",
      "Colorado    4    5      6     7\n",
      "Utah        8    9     10    11\n",
      "NewYork    12   13     14    15\n",
      "-----------------\n",
      "Ohio         1\n",
      "Colorado     5\n",
      "Utah         9\n",
      "NewYork     13\n",
      "Name: two, dtype: int32\n",
      "-----------------\n",
      "          two  four\n",
      "Ohio        1     3\n",
      "Colorado    5     7\n",
      "Utah        9    11\n",
      "NewYork    13    15\n",
      "-----------------\n",
      "          one  two  three  four\n",
      "Ohio        0    1      2     3\n",
      "Colorado    4    5      6     7\n",
      "-----------------\n",
      "one      4\n",
      "two      5\n",
      "three    6\n",
      "four     7\n",
      "Name: Colorado, dtype: int32\n",
      "-----------------\n",
      "         one  two  three  four\n",
      "Utah       8    9     10    11\n",
      "NewYork   12   13     14    15\n"
     ]
    }
   ],
   "source": [
    "data = DataFrame(np.arange(16).reshape((4,4)), index=['Ohio', 'Colorado', 'Utah','NewYork'], columns = ['one', 'two', 'three', 'four'])\n",
    "print(data)\n",
    "print('-----------------')\n",
    "print(data['two'])\n",
    "print('-----------------')\n",
    "print(data[['two','four']])\n",
    "print('-----------------')\n",
    "print(data[:2])\n",
    "print('-----------------')\n",
    "#print(data[2]) #이건 에러 남 대신 단일 row은 ix(loc)을 사용하것\n",
    "print(data.loc['Colorado'])\n",
    "print('-----------------')\n",
    "print(data[data['three'] > 7])"
   ]
  },
  {
   "cell_type": "code",
   "execution_count": 47,
   "metadata": {},
   "outputs": [
    {
     "name": "stdout",
     "output_type": "stream",
     "text": [
      "            one    two  three   four\n",
      "Ohio       True   True   True   True\n",
      "Colorado   True  False  False  False\n",
      "Utah      False  False  False  False\n",
      "NewYork   False  False  False  False\n",
      "-----------------\n",
      "          one  two  three  four\n",
      "Ohio      0.0  0.0    0.0   0.0\n",
      "Colorado  0.0  NaN    NaN   NaN\n",
      "Utah      NaN  NaN    NaN   NaN\n",
      "NewYork   NaN  NaN    NaN   NaN\n",
      "-----------------\n",
      "          one  two  three  four\n",
      "Ohio        0    0      0     0\n",
      "Colorado    0    5      6     7\n",
      "Utah        8    9     10    11\n",
      "NewYork    12   13     14    15\n"
     ]
    }
   ],
   "source": [
    "print(data < 5)\n",
    "print('-----------------')\n",
    "print(data[data<5])\n",
    "print('-----------------')\n",
    "data[data<5] = 0\n",
    "print(data)"
   ]
  },
  {
   "cell_type": "code",
   "execution_count": 74,
   "metadata": {},
   "outputs": [
    {
     "name": "stdout",
     "output_type": "stream",
     "text": [
      "three    10\n",
      "four     11\n",
      "Name: Utah, dtype: int32\n",
      "[10 11]\n",
      "-----------------\n",
      "two      5\n",
      "three    6\n",
      "Name: Colorado, dtype: int32\n",
      "-----------------\n",
      "three    6\n",
      "two      5\n",
      "Name: Colorado, dtype: int32\n",
      "-----------------\n"
     ]
    }
   ],
   "source": [
    "print(data.iloc[2, 2:4]) #iloc는 숫자로만... 변수 위치를 잘 기억한다면 이게 유용할 듯 하다\n",
    "print(data.iloc[2, 2:4].values)\n",
    "print('-----------------')\n",
    "print(data.loc['Colorado', ['two', 'three']]) #loc는 라벨로만 접근한다\n",
    "print('-----------------')\n",
    "print(data.ix['Colorado', [2, 1]]) #ix는 둘다 섞어서 가능하다\n",
    "print('-----------------')\n"
   ]
  },
  {
   "cell_type": "markdown",
   "metadata": {},
   "source": [
    "# 기본 산수"
   ]
  },
  {
   "cell_type": "code",
   "execution_count": 132,
   "metadata": {},
   "outputs": [
    {
     "name": "stdout",
     "output_type": "stream",
     "text": [
      "          one  two  three  four\n",
      "Ohio        0    1      2     3\n",
      "Colorado    4    5      6     7\n",
      "Utah        8    9     10    11\n",
      "NewYork    12   13     14    15\n",
      "-----------------\n",
      "Ohio         1.5\n",
      "Colorado     5.5\n",
      "Utah         9.5\n",
      "NewYork     13.5\n",
      "dtype: float64\n",
      "-----------------\n",
      "one      6.0\n",
      "two      7.0\n",
      "three    8.0\n",
      "four     9.0\n",
      "dtype: float64\n",
      "-----------------\n"
     ]
    }
   ],
   "source": [
    "# 평균\n",
    "print(data)\n",
    "print('-----------------')\n",
    "print(data.mean(axis=1))\n",
    "print('-----------------')\n",
    "print(data.mean(axis=0))\n",
    "print('-----------------')"
   ]
  },
  {
   "cell_type": "code",
   "execution_count": 135,
   "metadata": {},
   "outputs": [
    {
     "name": "stdout",
     "output_type": "stream",
     "text": [
      "one      24\n",
      "two      28\n",
      "three    32\n",
      "four     36\n",
      "dtype: int64\n",
      "-----------------\n",
      "Ohio         6\n",
      "Colorado    22\n",
      "Utah        38\n",
      "NewYork     54\n",
      "dtype: int64\n"
     ]
    }
   ],
   "source": [
    "# sum\n",
    "print(data.sum())\n",
    "print('-----------------')\n",
    "print(data.sum(axis=1))"
   ]
  },
  {
   "cell_type": "code",
   "execution_count": 140,
   "metadata": {},
   "outputs": [
    {
     "name": "stdout",
     "output_type": "stream",
     "text": [
      "          one  two  three  four\n",
      "Ohio        0    1      2     3\n",
      "Colorado    4    5      6     7\n",
      "Utah        8    9     10    11\n",
      "NewYork    12   13     14    15\n",
      "-----------------\n",
      "one      NewYork\n",
      "two      NewYork\n",
      "three    NewYork\n",
      "four     NewYork\n",
      "dtype: object\n",
      "-----------------\n",
      "Ohio        four\n",
      "Colorado    four\n",
      "Utah        four\n",
      "NewYork     four\n",
      "dtype: object\n"
     ]
    }
   ],
   "source": [
    "# maximal index\n",
    "print(data)\n",
    "print('-----------------')\n",
    "print(data.idxmax())\n",
    "print('-----------------')\n",
    "print(data.idxmax(axis=1))"
   ]
  },
  {
   "cell_type": "code",
   "execution_count": 142,
   "metadata": {},
   "outputs": [
    {
     "name": "stdout",
     "output_type": "stream",
     "text": [
      "             one        two      three       four\n",
      "count   4.000000   4.000000   4.000000   4.000000\n",
      "mean    6.000000   7.000000   8.000000   9.000000\n",
      "std     5.163978   5.163978   5.163978   5.163978\n",
      "min     0.000000   1.000000   2.000000   3.000000\n",
      "25%     3.000000   4.000000   5.000000   6.000000\n",
      "50%     6.000000   7.000000   8.000000   9.000000\n",
      "75%     9.000000  10.000000  11.000000  12.000000\n",
      "max    12.000000  13.000000  14.000000  15.000000\n"
     ]
    }
   ],
   "source": [
    "print(data.describe()) #전체적인 통계량"
   ]
  },
  {
   "cell_type": "markdown",
   "metadata": {},
   "source": [
    "# 정렬, 순위"
   ]
  },
  {
   "cell_type": "code",
   "execution_count": 99,
   "metadata": {},
   "outputs": [
    {
     "name": "stdout",
     "output_type": "stream",
     "text": [
      "d    0\n",
      "a    1\n",
      "b    2\n",
      "c    3\n",
      "dtype: int32\n",
      "-----------------\n",
      "a    1\n",
      "b    2\n",
      "c    3\n",
      "d    0\n",
      "dtype: int32\n",
      "-----------------\n",
      "d    0\n",
      "a    1\n",
      "b    2\n",
      "c    3\n",
      "dtype: int32\n"
     ]
    }
   ],
   "source": [
    "obj = Series(range(4), index=list('dabc'))\n",
    "print(obj)\n",
    "print('-----------------')\n",
    "print(obj.sort_index())\n",
    "print('-----------------')\n",
    "print(obj.sort_values())"
   ]
  },
  {
   "cell_type": "code",
   "execution_count": 117,
   "metadata": {},
   "outputs": [
    {
     "name": "stdout",
     "output_type": "stream",
     "text": [
      "   a  b\n",
      "b  0  4\n",
      "a  1  7\n",
      "c  0 -3\n",
      "d  1  2\n",
      "-----------------\n",
      "   a  b\n",
      "a  1  7\n",
      "b  0  4\n",
      "c  0 -3\n",
      "d  1  2\n",
      "-----------------\n",
      "   a  b\n",
      "b  0  4\n",
      "a  1  7\n",
      "c  0 -3\n",
      "d  1  2\n",
      "-----------------\n",
      "   b  a\n",
      "b  4  0\n",
      "a  7  1\n",
      "c -3  0\n",
      "d  2  1\n",
      "-----------------\n",
      "   a  b\n",
      "c  0 -3\n",
      "d  1  2\n",
      "b  0  4\n",
      "a  1  7\n",
      "-----------------\n",
      "   a  b\n",
      "c  0 -3\n",
      "b  0  4\n",
      "d  1  2\n",
      "a  1  7\n"
     ]
    }
   ],
   "source": [
    "frame = DataFrame({'b': [4, 7, -3, 2], 'a': [0, 1, 0, 1]}, index=list('bacd'))\n",
    "print(frame)\n",
    "print('-----------------')\n",
    "print(frame.sort_index())\n",
    "print('-----------------')\n",
    "print(frame.sort_index(axis=1))\n",
    "print('-----------------')\n",
    "print(frame.sort_index(axis=1, ascending=False)) #내림차순\n",
    "print('-----------------')\n",
    "print(frame.sort_values(by='b')) #b 열의 값의 크기 순서대로\n",
    "print('-----------------')\n",
    "print(frame.sort_values(by=['a','b'])) #같이 안움직이고 따로 정렬함"
   ]
  },
  {
   "cell_type": "code",
   "execution_count": 125,
   "metadata": {},
   "outputs": [
    {
     "name": "stdout",
     "output_type": "stream",
     "text": [
      "0    7\n",
      "1   -5\n",
      "2    7\n",
      "3    4\n",
      "4    2\n",
      "5    0\n",
      "6    4\n",
      "dtype: int64\n",
      "-----------------\n",
      "0    6.5\n",
      "1    1.0\n",
      "2    6.5\n",
      "3    4.5\n",
      "4    3.0\n",
      "5    2.0\n",
      "6    4.5\n",
      "dtype: float64\n",
      "-----------------\n",
      "0    6.0\n",
      "1    1.0\n",
      "2    7.0\n",
      "3    4.0\n",
      "4    3.0\n",
      "5    2.0\n",
      "6    5.0\n",
      "dtype: float64\n",
      "-----------------\n",
      "0    2.0\n",
      "1    7.0\n",
      "2    2.0\n",
      "3    4.0\n",
      "4    5.0\n",
      "5    6.0\n",
      "6    4.0\n",
      "dtype: float64\n"
     ]
    }
   ],
   "source": [
    "obj = Series([7,-5,7,4,2,0,4])\n",
    "print(obj)\n",
    "print('-----------------')\n",
    "print(obj.rank()) #value의 크기를 작은순서대로 np.argsort에 해당하는 내용 근데 동률인 경우 평균 순위 제공\n",
    "print('-----------------')\n",
    "print(obj.rank(method='first')) #똑같은 순위의 경우 먼저나온 녀석이 앞섬\n",
    "print('-----------------')\n",
    "print(obj.rank(ascending=False, method='max')) #내림 차순 + max는 동률인 경우 둘다 높은 순위로 메김 ex 공동1등이면 둘다 2등으로"
   ]
  },
  {
   "cell_type": "code",
   "execution_count": 131,
   "metadata": {},
   "outputs": [
    {
     "name": "stdout",
     "output_type": "stream",
     "text": [
      "   a    b    c\n",
      "0  0  4.3 -2.0\n",
      "1  1  7.0  5.0\n",
      "2  0 -3.0  8.0\n",
      "3  1  2.0 -2.5\n",
      "-----------------\n",
      "     a    b    c\n",
      "0  1.0  3.0  2.0\n",
      "1  3.0  4.0  3.0\n",
      "2  1.0  1.0  4.0\n",
      "3  3.0  2.0  1.0\n",
      "-----------------\n",
      "     a    b    c\n",
      "0  2.0  3.0  1.0\n",
      "1  1.0  3.0  2.0\n",
      "2  2.0  1.0  3.0\n",
      "3  2.0  3.0  1.0\n"
     ]
    }
   ],
   "source": [
    "frame = DataFrame({'b': [4.3, 7, -3, 2], 'a': [0, 1, 0, 1], 'c': [-2, 5, 8, -2.5]})\n",
    "print(frame)\n",
    "print('-----------------')\n",
    "print(frame.rank(method='min')) #행 기준\n",
    "print('-----------------')\n",
    "print(frame.rank(method='min', axis=1)) #열 기준"
   ]
  },
  {
   "cell_type": "code",
   "execution_count": null,
   "metadata": {
    "collapsed": true
   },
   "outputs": [],
   "source": []
  }
 ],
 "metadata": {
  "kernelspec": {
   "display_name": "Python 3",
   "language": "python",
   "name": "python3"
  },
  "language_info": {
   "codemirror_mode": {
    "name": "ipython",
    "version": 3
   },
   "file_extension": ".py",
   "mimetype": "text/x-python",
   "name": "python",
   "nbconvert_exporter": "python",
   "pygments_lexer": "ipython3",
   "version": "3.7.1"
  }
 },
 "nbformat": 4,
 "nbformat_minor": 2
}
