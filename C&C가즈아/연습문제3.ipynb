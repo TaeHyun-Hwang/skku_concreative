{
 "cells": [
  {
   "cell_type": "code",
   "execution_count": 82,
   "metadata": {},
   "outputs": [],
   "source": [
    "import pandas as pd\n",
    "import scipy as sp\n",
    "from scipy import stats\n",
    "\n",
    "import numpy as np"
   ]
  },
  {
   "cell_type": "markdown",
   "metadata": {},
   "source": [
    "## Ex 0) 전처리\n",
    "\n",
    "- cars.csv와 cars2.csv를 로드한다.\n",
    "- mpg를 기준으로 두 데이터를 합친다\n",
    "- 결측치는 삭제한다."
   ]
  },
  {
   "cell_type": "code",
   "execution_count": 75,
   "metadata": {},
   "outputs": [
    {
     "name": "stdout",
     "output_type": "stream",
     "text": [
      "mpg             0\n",
      "cylinders       0\n",
      "cubicinches     2\n",
      "hp              0\n",
      "weightlbs       3\n",
      "time-to-60      0\n",
      "year            0\n",
      "brand           0\n",
      "acceleration    0\n",
      "displacement    0\n",
      "dtype: int64\n",
      "     mpg  cylinders  cubicinches   hp  weightlbs  time-to-60  year    brand  \\\n",
      "ID                                                                            \n",
      "1   14.0          8        350.0  165     4209.0          12  1972      US.   \n",
      "2   31.9          4         89.0   71     1925.0          14  1980  Europe.   \n",
      "3   17.0          8        302.0  140     3449.0          11  1971      US.   \n",
      "4   15.0          8        400.0  150     3761.0          10  1971      US.   \n",
      "5   30.5          4         98.0   63     2051.0          17  1978      US.   \n",
      "\n",
      "    acceleration  displacement  \n",
      "ID                              \n",
      "1           12.0         307.0  \n",
      "2           11.5         350.0  \n",
      "3           11.0         318.0  \n",
      "4           12.0         304.0  \n",
      "5           10.5         302.0  \n",
      "256\n"
     ]
    }
   ],
   "source": [
    "df1 = pd.read_csv('./cars.csv', index_col=\"ID\")\n",
    "df2 = pd.read_csv('./cars_2.csv', index_col=\"ID\")\n",
    "\n",
    "df2 = df2.sort_index()\n",
    "\n",
    "\n",
    "df2 = df2.drop(columns='mpg')\n",
    "\n",
    "df = pd.concat([df1, df2], axis=1)\n",
    "\n",
    "print(df.isnull().sum())\n",
    "df = df.dropna()\n",
    "print(df.head())\n",
    "print(len(df))"
   ]
  },
  {
   "cell_type": "markdown",
   "metadata": {},
   "source": [
    "## Ex1) Brand_US와 Brand_Europe에 따라 mpg가 차이가 있는지 통계적으로 검정하고자 한다. 이때 p-value를 구하시오. (단 brand에 따른 mpg의 분산은 같다고 가정)"
   ]
  },
  {
   "cell_type": "code",
   "execution_count": 80,
   "metadata": {},
   "outputs": [],
   "source": [
    "x1 = df[df['brand'] == 'US.'][['mpg']]\n",
    "x2 = df[df['brand'] == 'Europe.'][['mpg']]"
   ]
  },
  {
   "cell_type": "code",
   "execution_count": 83,
   "metadata": {},
   "outputs": [
    {
     "data": {
      "text/plain": [
       "Ttest_indResult(statistic=array([-7.26607868]), pvalue=array([7.8010861e-12]))"
      ]
     },
     "execution_count": 83,
     "metadata": {},
     "output_type": "execute_result"
    }
   ],
   "source": [
    "sp.stats.ttest_ind(x1, x2)"
   ]
  },
  {
   "cell_type": "code",
   "execution_count": 84,
   "metadata": {},
   "outputs": [
    {
     "data": {
      "text/plain": [
       "F_onewayResult(statistic=array([52.79589933]), pvalue=array([7.8010861e-12]))"
      ]
     },
     "execution_count": 84,
     "metadata": {},
     "output_type": "execute_result"
    }
   ],
   "source": [
    "sp.stats.f_oneway(x1, x2)"
   ]
  },
  {
   "cell_type": "markdown",
   "metadata": {},
   "source": [
    "## Ex2) 연도(year)에 따른 hp에 유의한 차이가 있는지 분산분석(ANOVA)을 통해 검정하고 F-value와 p-value의 값을 구하시오"
   ]
  },
  {
   "cell_type": "code",
   "execution_count": 95,
   "metadata": {},
   "outputs": [],
   "source": [
    "temp = []\n",
    "for i in df['year'].unique():\n",
    "    temp.append(df[df['year']==i][['hp']])"
   ]
  },
  {
   "cell_type": "code",
   "execution_count": 98,
   "metadata": {},
   "outputs": [
    {
     "data": {
      "text/plain": [
       "F_onewayResult(statistic=array([7.68819817]), pvalue=array([4.5746319e-12]))"
      ]
     },
     "execution_count": 98,
     "metadata": {},
     "output_type": "execute_result"
    }
   ],
   "source": [
    "sp.stats.f_oneway(*temp)"
   ]
  },
  {
   "cell_type": "markdown",
   "metadata": {},
   "source": [
    "## Ex3) 선형회귀분석을 통해 mpg를 예측하는 모델을 만든다\n",
    "\n",
    "- mpg를 종속변수로 하고 독립변수는 year, cylinder빼고 전부다 사용\n",
    "- 연속형 변수에 대해서는 mpg와의 Pearson 상관계수의 절대값이 0.3 이상인 것들을 독립변수로 사용\n",
    "- 범주형 변수(brand)는 모두 dummy 변수로 바꿔서 사용. 이때 k개의 더미변수는 k-1개로\n",
    "- 모델 계수의 유의성검정??? 유의수준 5%를 기준으로 검정\n",
    "- train R2를 계산하시오"
   ]
  },
  {
   "cell_type": "code",
   "execution_count": 114,
   "metadata": {},
   "outputs": [
    {
     "data": {
      "text/html": [
       "<div>\n",
       "<style scoped>\n",
       "    .dataframe tbody tr th:only-of-type {\n",
       "        vertical-align: middle;\n",
       "    }\n",
       "\n",
       "    .dataframe tbody tr th {\n",
       "        vertical-align: top;\n",
       "    }\n",
       "\n",
       "    .dataframe thead th {\n",
       "        text-align: right;\n",
       "    }\n",
       "</style>\n",
       "<table border=\"1\" class=\"dataframe\">\n",
       "  <thead>\n",
       "    <tr style=\"text-align: right;\">\n",
       "      <th></th>\n",
       "      <th>mpg</th>\n",
       "      <th>cubicinches</th>\n",
       "      <th>hp</th>\n",
       "      <th>weightlbs</th>\n",
       "      <th>time-to-60</th>\n",
       "      <th>acceleration</th>\n",
       "      <th>displacement</th>\n",
       "    </tr>\n",
       "  </thead>\n",
       "  <tbody>\n",
       "    <tr>\n",
       "      <th>mpg</th>\n",
       "      <td>True</td>\n",
       "      <td>True</td>\n",
       "      <td>True</td>\n",
       "      <td>True</td>\n",
       "      <td>True</td>\n",
       "      <td>False</td>\n",
       "      <td>False</td>\n",
       "    </tr>\n",
       "    <tr>\n",
       "      <th>cubicinches</th>\n",
       "      <td>True</td>\n",
       "      <td>True</td>\n",
       "      <td>True</td>\n",
       "      <td>True</td>\n",
       "      <td>True</td>\n",
       "      <td>False</td>\n",
       "      <td>False</td>\n",
       "    </tr>\n",
       "    <tr>\n",
       "      <th>hp</th>\n",
       "      <td>True</td>\n",
       "      <td>True</td>\n",
       "      <td>True</td>\n",
       "      <td>True</td>\n",
       "      <td>True</td>\n",
       "      <td>False</td>\n",
       "      <td>False</td>\n",
       "    </tr>\n",
       "    <tr>\n",
       "      <th>weightlbs</th>\n",
       "      <td>True</td>\n",
       "      <td>True</td>\n",
       "      <td>True</td>\n",
       "      <td>True</td>\n",
       "      <td>True</td>\n",
       "      <td>False</td>\n",
       "      <td>False</td>\n",
       "    </tr>\n",
       "    <tr>\n",
       "      <th>time-to-60</th>\n",
       "      <td>True</td>\n",
       "      <td>True</td>\n",
       "      <td>True</td>\n",
       "      <td>True</td>\n",
       "      <td>True</td>\n",
       "      <td>False</td>\n",
       "      <td>False</td>\n",
       "    </tr>\n",
       "    <tr>\n",
       "      <th>acceleration</th>\n",
       "      <td>False</td>\n",
       "      <td>False</td>\n",
       "      <td>False</td>\n",
       "      <td>False</td>\n",
       "      <td>False</td>\n",
       "      <td>True</td>\n",
       "      <td>True</td>\n",
       "    </tr>\n",
       "    <tr>\n",
       "      <th>displacement</th>\n",
       "      <td>False</td>\n",
       "      <td>False</td>\n",
       "      <td>False</td>\n",
       "      <td>False</td>\n",
       "      <td>False</td>\n",
       "      <td>True</td>\n",
       "      <td>True</td>\n",
       "    </tr>\n",
       "  </tbody>\n",
       "</table>\n",
       "</div>"
      ],
      "text/plain": [
       "                mpg  cubicinches     hp  weightlbs  time-to-60  acceleration  \\\n",
       "mpg            True         True   True       True        True         False   \n",
       "cubicinches    True         True   True       True        True         False   \n",
       "hp             True         True   True       True        True         False   \n",
       "weightlbs      True         True   True       True        True         False   \n",
       "time-to-60     True         True   True       True        True         False   \n",
       "acceleration  False        False  False      False       False          True   \n",
       "displacement  False        False  False      False       False          True   \n",
       "\n",
       "              displacement  \n",
       "mpg                  False  \n",
       "cubicinches          False  \n",
       "hp                   False  \n",
       "weightlbs            False  \n",
       "time-to-60           False  \n",
       "acceleration          True  \n",
       "displacement          True  "
      ]
     },
     "execution_count": 114,
     "metadata": {},
     "output_type": "execute_result"
    }
   ],
   "source": [
    "df1 = df[['mpg', 'cubicinches', 'hp', 'weightlbs', 'time-to-60',\n",
    "        'brand', 'acceleration', 'displacement']]\n",
    "sp.absolute(df1.corr())>0.3"
   ]
  },
  {
   "cell_type": "code",
   "execution_count": 125,
   "metadata": {},
   "outputs": [],
   "source": [
    "X = df1[['cubicinches', 'hp', 'weightlbs', 'time-to-60','brand']]\n",
    "y = df1[['mpg']]\n",
    "\n",
    "X = pd.get_dummies(X, columns=['brand'], drop_first=True)"
   ]
  },
  {
   "cell_type": "code",
   "execution_count": 142,
   "metadata": {},
   "outputs": [
    {
     "name": "stdout",
     "output_type": "stream",
     "text": [
      "0.7116671807461821\n",
      "[[ 0.00191701 -0.0377519  -0.00524088  0.22241863  1.76000782 -0.79671226]]\n"
     ]
    }
   ],
   "source": [
    "from sklearn.linear_model import LinearRegression\n",
    "reg = LinearRegression()\n",
    "\n",
    "reg.fit(X,y)\n",
    "print(reg.score(X,y))\n",
    "print(reg.coef_)"
   ]
  },
  {
   "cell_type": "code",
   "execution_count": 138,
   "metadata": {},
   "outputs": [
    {
     "data": {
      "text/html": [
       "<table class=\"simpletable\">\n",
       "<caption>OLS Regression Results</caption>\n",
       "<tr>\n",
       "  <th>Dep. Variable:</th>           <td>mpg</td>       <th>  R-squared:         </th> <td>   0.712</td>\n",
       "</tr>\n",
       "<tr>\n",
       "  <th>Model:</th>                   <td>OLS</td>       <th>  Adj. R-squared:    </th> <td>   0.705</td>\n",
       "</tr>\n",
       "<tr>\n",
       "  <th>Method:</th>             <td>Least Squares</td>  <th>  F-statistic:       </th> <td>   102.4</td>\n",
       "</tr>\n",
       "<tr>\n",
       "  <th>Date:</th>             <td>Sat, 30 Mar 2019</td> <th>  Prob (F-statistic):</th> <td>2.31e-64</td>\n",
       "</tr>\n",
       "<tr>\n",
       "  <th>Time:</th>                 <td>18:41:23</td>     <th>  Log-Likelihood:    </th> <td> -731.72</td>\n",
       "</tr>\n",
       "<tr>\n",
       "  <th>No. Observations:</th>      <td>   256</td>      <th>  AIC:               </th> <td>   1477.</td>\n",
       "</tr>\n",
       "<tr>\n",
       "  <th>Df Residuals:</th>          <td>   249</td>      <th>  BIC:               </th> <td>   1502.</td>\n",
       "</tr>\n",
       "<tr>\n",
       "  <th>Df Model:</th>              <td>     6</td>      <th>                     </th>     <td> </td>   \n",
       "</tr>\n",
       "<tr>\n",
       "  <th>Covariance Type:</th>      <td>nonrobust</td>    <th>                     </th>     <td> </td>   \n",
       "</tr>\n",
       "</table>\n",
       "<table class=\"simpletable\">\n",
       "<tr>\n",
       "        <td></td>          <th>coef</th>     <th>std err</th>      <th>t</th>      <th>P>|t|</th>  <th>[0.025</th>    <th>0.975]</th>  \n",
       "</tr>\n",
       "<tr>\n",
       "  <th>const</th>        <td>   39.2840</td> <td>    3.323</td> <td>   11.822</td> <td> 0.000</td> <td>   32.739</td> <td>   45.829</td>\n",
       "</tr>\n",
       "<tr>\n",
       "  <th>cubicinches</th>  <td>    0.0019</td> <td>    0.009</td> <td>    0.210</td> <td> 0.834</td> <td>   -0.016</td> <td>    0.020</td>\n",
       "</tr>\n",
       "<tr>\n",
       "  <th>hp</th>           <td>   -0.0378</td> <td>    0.021</td> <td>   -1.770</td> <td> 0.078</td> <td>   -0.080</td> <td>    0.004</td>\n",
       "</tr>\n",
       "<tr>\n",
       "  <th>weightlbs</th>    <td>   -0.0052</td> <td>    0.001</td> <td>   -5.447</td> <td> 0.000</td> <td>   -0.007</td> <td>   -0.003</td>\n",
       "</tr>\n",
       "<tr>\n",
       "  <th>time-to-60</th>   <td>    0.2224</td> <td>    0.158</td> <td>    1.407</td> <td> 0.161</td> <td>   -0.089</td> <td>    0.534</td>\n",
       "</tr>\n",
       "<tr>\n",
       "  <th>brand_Japan.</th> <td>    1.7600</td> <td>    0.879</td> <td>    2.002</td> <td> 0.046</td> <td>    0.028</td> <td>    3.492</td>\n",
       "</tr>\n",
       "<tr>\n",
       "  <th>brand_US.</th>    <td>   -0.7967</td> <td>    0.910</td> <td>   -0.875</td> <td> 0.382</td> <td>   -2.590</td> <td>    0.996</td>\n",
       "</tr>\n",
       "</table>\n",
       "<table class=\"simpletable\">\n",
       "<tr>\n",
       "  <th>Omnibus:</th>       <td>28.780</td> <th>  Durbin-Watson:     </th> <td>   1.998</td>\n",
       "</tr>\n",
       "<tr>\n",
       "  <th>Prob(Omnibus):</th> <td> 0.000</td> <th>  Jarque-Bera (JB):  </th> <td>  41.089</td>\n",
       "</tr>\n",
       "<tr>\n",
       "  <th>Skew:</th>          <td> 0.718</td> <th>  Prob(JB):          </th> <td>1.20e-09</td>\n",
       "</tr>\n",
       "<tr>\n",
       "  <th>Kurtosis:</th>      <td> 4.338</td> <th>  Cond. No.          </th> <td>3.92e+04</td>\n",
       "</tr>\n",
       "</table><br/><br/>Warnings:<br/>[1] Standard Errors assume that the covariance matrix of the errors is correctly specified.<br/>[2] The condition number is large, 3.92e+04. This might indicate that there are<br/>strong multicollinearity or other numerical problems."
      ],
      "text/plain": [
       "<class 'statsmodels.iolib.summary.Summary'>\n",
       "\"\"\"\n",
       "                            OLS Regression Results                            \n",
       "==============================================================================\n",
       "Dep. Variable:                    mpg   R-squared:                       0.712\n",
       "Model:                            OLS   Adj. R-squared:                  0.705\n",
       "Method:                 Least Squares   F-statistic:                     102.4\n",
       "Date:                Sat, 30 Mar 2019   Prob (F-statistic):           2.31e-64\n",
       "Time:                        18:41:23   Log-Likelihood:                -731.72\n",
       "No. Observations:                 256   AIC:                             1477.\n",
       "Df Residuals:                     249   BIC:                             1502.\n",
       "Df Model:                           6                                         \n",
       "Covariance Type:            nonrobust                                         \n",
       "================================================================================\n",
       "                   coef    std err          t      P>|t|      [0.025      0.975]\n",
       "--------------------------------------------------------------------------------\n",
       "const           39.2840      3.323     11.822      0.000      32.739      45.829\n",
       "cubicinches      0.0019      0.009      0.210      0.834      -0.016       0.020\n",
       "hp              -0.0378      0.021     -1.770      0.078      -0.080       0.004\n",
       "weightlbs       -0.0052      0.001     -5.447      0.000      -0.007      -0.003\n",
       "time-to-60       0.2224      0.158      1.407      0.161      -0.089       0.534\n",
       "brand_Japan.     1.7600      0.879      2.002      0.046       0.028       3.492\n",
       "brand_US.       -0.7967      0.910     -0.875      0.382      -2.590       0.996\n",
       "==============================================================================\n",
       "Omnibus:                       28.780   Durbin-Watson:                   1.998\n",
       "Prob(Omnibus):                  0.000   Jarque-Bera (JB):               41.089\n",
       "Skew:                           0.718   Prob(JB):                     1.20e-09\n",
       "Kurtosis:                       4.338   Cond. No.                     3.92e+04\n",
       "==============================================================================\n",
       "\n",
       "Warnings:\n",
       "[1] Standard Errors assume that the covariance matrix of the errors is correctly specified.\n",
       "[2] The condition number is large, 3.92e+04. This might indicate that there are\n",
       "strong multicollinearity or other numerical problems.\n",
       "\"\"\""
      ]
     },
     "execution_count": 138,
     "metadata": {},
     "output_type": "execute_result"
    }
   ],
   "source": [
    "import statsmodels.api as sm\n",
    "\n",
    "X1 = sm.add_constant(X)\n",
    "model = sm.OLS(y, X1).fit()\n",
    "model.summary()"
   ]
  },
  {
   "cell_type": "code",
   "execution_count": 189,
   "metadata": {},
   "outputs": [],
   "source": [
    "def SSE(yhat, y):\n",
    "    return sp.mean((yhat-sp.mean(y)[0]*sp.ones(len(y)))**2)"
   ]
  },
  {
   "cell_type": "code",
   "execution_count": 190,
   "metadata": {},
   "outputs": [],
   "source": [
    "yhat = reg.predict(X).reshape(1,-1)[0]"
   ]
  },
  {
   "cell_type": "code",
   "execution_count": 175,
   "metadata": {},
   "outputs": [],
   "source": [
    "from sklearn.metrics import mean_squared_error as mse"
   ]
  },
  {
   "cell_type": "code",
   "execution_count": 192,
   "metadata": {},
   "outputs": [],
   "source": [
    "sse = SSE(yhat, y)\n",
    "ssr = mse(y, yhat)*len(y)"
   ]
  },
  {
   "cell_type": "code",
   "execution_count": 193,
   "metadata": {},
   "outputs": [],
   "source": [
    "F = (ssr/len(reg.coef_[0])) / sse/(len(X)-len(reg.coef_[0])-1)"
   ]
  },
  {
   "cell_type": "code",
   "execution_count": 194,
   "metadata": {},
   "outputs": [
    {
     "data": {
      "text/plain": [
       "0.06942350047432252"
      ]
     },
     "execution_count": 194,
     "metadata": {},
     "output_type": "execute_result"
    }
   ],
   "source": [
    "F"
   ]
  },
  {
   "cell_type": "code",
   "execution_count": 195,
   "metadata": {},
   "outputs": [
    {
     "data": {
      "text/plain": [
       "256"
      ]
     },
     "execution_count": 195,
     "metadata": {},
     "output_type": "execute_result"
    }
   ],
   "source": [
    "len(X)"
   ]
  },
  {
   "cell_type": "code",
   "execution_count": 196,
   "metadata": {},
   "outputs": [
    {
     "data": {
      "text/plain": [
       "<scipy.stats._distn_infrastructure.rv_frozen at 0x22730141b38>"
      ]
     },
     "execution_count": 196,
     "metadata": {},
     "output_type": "execute_result"
    }
   ],
   "source": [
    "sp.stats.f(102.4, 7, len(X)-7-1)"
   ]
  }
 ],
 "metadata": {
  "kernelspec": {
   "display_name": "Python 3",
   "language": "python",
   "name": "python3"
  },
  "language_info": {
   "codemirror_mode": {
    "name": "ipython",
    "version": 3
   },
   "file_extension": ".py",
   "mimetype": "text/x-python",
   "name": "python",
   "nbconvert_exporter": "python",
   "pygments_lexer": "ipython3",
   "version": "3.7.1"
  }
 },
 "nbformat": 4,
 "nbformat_minor": 2
}
