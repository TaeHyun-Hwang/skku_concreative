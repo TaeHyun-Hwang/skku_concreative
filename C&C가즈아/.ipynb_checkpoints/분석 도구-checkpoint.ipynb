{
 "cells": [
  {
   "cell_type": "markdown",
   "metadata": {},
   "source": [
    "# Library"
   ]
  },
  {
   "cell_type": "code",
   "execution_count": 1,
   "metadata": {
    "collapsed": true
   },
   "outputs": [],
   "source": [
    "# 사용가능한 Library\n",
    "import pandas as pd\n",
    "import matplotlib.pyplot as plt\n",
    "import scipy as sp\n",
    "\n",
    "#\n",
    "import numpy as np"
   ]
  },
  {
   "cell_type": "markdown",
   "metadata": {},
   "source": [
    "# Data preprocessing, 전처리\n",
    "\n",
    "## Classification 용 데이터\n",
    "1. iris Data"
   ]
  },
  {
   "cell_type": "code",
   "execution_count": 4,
   "metadata": {},
   "outputs": [
    {
     "data": {
      "text/html": [
       "<div>\n",
       "<style>\n",
       "    .dataframe thead tr:only-child th {\n",
       "        text-align: right;\n",
       "    }\n",
       "\n",
       "    .dataframe thead th {\n",
       "        text-align: left;\n",
       "    }\n",
       "\n",
       "    .dataframe tbody tr th {\n",
       "        vertical-align: top;\n",
       "    }\n",
       "</style>\n",
       "<table border=\"1\" class=\"dataframe\">\n",
       "  <thead>\n",
       "    <tr style=\"text-align: right;\">\n",
       "      <th></th>\n",
       "      <th>sepal length</th>\n",
       "      <th>sepal width</th>\n",
       "      <th>petal length</th>\n",
       "      <th>petal width</th>\n",
       "      <th>class</th>\n",
       "    </tr>\n",
       "  </thead>\n",
       "  <tbody>\n",
       "    <tr>\n",
       "      <th>0</th>\n",
       "      <td>5.1</td>\n",
       "      <td>3.5</td>\n",
       "      <td>1.4</td>\n",
       "      <td>0.2</td>\n",
       "      <td>Iris-setosa</td>\n",
       "    </tr>\n",
       "    <tr>\n",
       "      <th>1</th>\n",
       "      <td>4.9</td>\n",
       "      <td>3.0</td>\n",
       "      <td>1.4</td>\n",
       "      <td>0.2</td>\n",
       "      <td>Iris-setosa</td>\n",
       "    </tr>\n",
       "    <tr>\n",
       "      <th>2</th>\n",
       "      <td>4.7</td>\n",
       "      <td>3.2</td>\n",
       "      <td>1.3</td>\n",
       "      <td>0.2</td>\n",
       "      <td>Iris-setosa</td>\n",
       "    </tr>\n",
       "    <tr>\n",
       "      <th>3</th>\n",
       "      <td>4.6</td>\n",
       "      <td>3.1</td>\n",
       "      <td>1.5</td>\n",
       "      <td>0.2</td>\n",
       "      <td>Iris-setosa</td>\n",
       "    </tr>\n",
       "    <tr>\n",
       "      <th>4</th>\n",
       "      <td>5.0</td>\n",
       "      <td>3.6</td>\n",
       "      <td>1.4</td>\n",
       "      <td>0.2</td>\n",
       "      <td>Iris-setosa</td>\n",
       "    </tr>\n",
       "  </tbody>\n",
       "</table>\n",
       "</div>"
      ],
      "text/plain": [
       "   sepal length  sepal width  petal length  petal width        class\n",
       "0           5.1          3.5           1.4          0.2  Iris-setosa\n",
       "1           4.9          3.0           1.4          0.2  Iris-setosa\n",
       "2           4.7          3.2           1.3          0.2  Iris-setosa\n",
       "3           4.6          3.1           1.5          0.2  Iris-setosa\n",
       "4           5.0          3.6           1.4          0.2  Iris-setosa"
      ]
     },
     "execution_count": 4,
     "metadata": {},
     "output_type": "execute_result"
    }
   ],
   "source": [
    "df_iris = pd.read_csv('./iris.csv') #encoding='latin', utf-8 #header = None\n",
    "df_iris.head()"
   ]
  },
  {
   "cell_type": "markdown",
   "metadata": {},
   "source": [
    "auto-mpg\n",
    "\n",
    "- 'mpg'값을 target_value로 사용할 것\n",
    "- DataFrame의 index는 car name으로 할것\n",
    "- *표시가 되어있는 feature들은 모두 dummy variable로 전환\n",
    "- Na값이 포함된 행은 모두 삭제할 것.\n"
   ]
  },
  {
   "cell_type": "code",
   "execution_count": 9,
   "metadata": {},
   "outputs": [
    {
     "data": {
      "text/html": [
       "<div>\n",
       "<style>\n",
       "    .dataframe thead tr:only-child th {\n",
       "        text-align: right;\n",
       "    }\n",
       "\n",
       "    .dataframe thead th {\n",
       "        text-align: left;\n",
       "    }\n",
       "\n",
       "    .dataframe tbody tr th {\n",
       "        vertical-align: top;\n",
       "    }\n",
       "</style>\n",
       "<table border=\"1\" class=\"dataframe\">\n",
       "  <thead>\n",
       "    <tr style=\"text-align: right;\">\n",
       "      <th></th>\n",
       "      <th>mpg</th>\n",
       "      <th>displacement</th>\n",
       "      <th>horsepower</th>\n",
       "      <th>weight</th>\n",
       "      <th>acceleration</th>\n",
       "      <th>cylinders*_4</th>\n",
       "      <th>cylinders*_5</th>\n",
       "      <th>cylinders*_6</th>\n",
       "      <th>cylinders*_8</th>\n",
       "      <th>model year*_71</th>\n",
       "      <th>...</th>\n",
       "      <th>model year*_75</th>\n",
       "      <th>model year*_76</th>\n",
       "      <th>model year*_77</th>\n",
       "      <th>model year*_78</th>\n",
       "      <th>model year*_79</th>\n",
       "      <th>model year*_80</th>\n",
       "      <th>model year*_81</th>\n",
       "      <th>model year*_82</th>\n",
       "      <th>origin*_2.0</th>\n",
       "      <th>origin*_3.0</th>\n",
       "    </tr>\n",
       "    <tr>\n",
       "      <th>car name</th>\n",
       "      <th></th>\n",
       "      <th></th>\n",
       "      <th></th>\n",
       "      <th></th>\n",
       "      <th></th>\n",
       "      <th></th>\n",
       "      <th></th>\n",
       "      <th></th>\n",
       "      <th></th>\n",
       "      <th></th>\n",
       "      <th></th>\n",
       "      <th></th>\n",
       "      <th></th>\n",
       "      <th></th>\n",
       "      <th></th>\n",
       "      <th></th>\n",
       "      <th></th>\n",
       "      <th></th>\n",
       "      <th></th>\n",
       "      <th></th>\n",
       "      <th></th>\n",
       "    </tr>\n",
       "  </thead>\n",
       "  <tbody>\n",
       "    <tr>\n",
       "      <th>chevrolet chevelle malibu</th>\n",
       "      <td>18.0</td>\n",
       "      <td>307.0</td>\n",
       "      <td>130.0</td>\n",
       "      <td>3504</td>\n",
       "      <td>12.0</td>\n",
       "      <td>0</td>\n",
       "      <td>0</td>\n",
       "      <td>0</td>\n",
       "      <td>1</td>\n",
       "      <td>0</td>\n",
       "      <td>...</td>\n",
       "      <td>0</td>\n",
       "      <td>0</td>\n",
       "      <td>0</td>\n",
       "      <td>0</td>\n",
       "      <td>0</td>\n",
       "      <td>0</td>\n",
       "      <td>0</td>\n",
       "      <td>0</td>\n",
       "      <td>0</td>\n",
       "      <td>0</td>\n",
       "    </tr>\n",
       "    <tr>\n",
       "      <th>buick skylark 320</th>\n",
       "      <td>15.0</td>\n",
       "      <td>350.0</td>\n",
       "      <td>165.0</td>\n",
       "      <td>3693</td>\n",
       "      <td>11.5</td>\n",
       "      <td>0</td>\n",
       "      <td>0</td>\n",
       "      <td>0</td>\n",
       "      <td>1</td>\n",
       "      <td>0</td>\n",
       "      <td>...</td>\n",
       "      <td>0</td>\n",
       "      <td>0</td>\n",
       "      <td>0</td>\n",
       "      <td>0</td>\n",
       "      <td>0</td>\n",
       "      <td>0</td>\n",
       "      <td>0</td>\n",
       "      <td>0</td>\n",
       "      <td>0</td>\n",
       "      <td>0</td>\n",
       "    </tr>\n",
       "    <tr>\n",
       "      <th>plymouth satellite</th>\n",
       "      <td>18.0</td>\n",
       "      <td>318.0</td>\n",
       "      <td>150.0</td>\n",
       "      <td>3436</td>\n",
       "      <td>11.0</td>\n",
       "      <td>0</td>\n",
       "      <td>0</td>\n",
       "      <td>0</td>\n",
       "      <td>1</td>\n",
       "      <td>0</td>\n",
       "      <td>...</td>\n",
       "      <td>0</td>\n",
       "      <td>0</td>\n",
       "      <td>0</td>\n",
       "      <td>0</td>\n",
       "      <td>0</td>\n",
       "      <td>0</td>\n",
       "      <td>0</td>\n",
       "      <td>0</td>\n",
       "      <td>0</td>\n",
       "      <td>0</td>\n",
       "    </tr>\n",
       "    <tr>\n",
       "      <th>amc rebel sst</th>\n",
       "      <td>16.0</td>\n",
       "      <td>304.0</td>\n",
       "      <td>150.0</td>\n",
       "      <td>3433</td>\n",
       "      <td>12.0</td>\n",
       "      <td>0</td>\n",
       "      <td>0</td>\n",
       "      <td>0</td>\n",
       "      <td>1</td>\n",
       "      <td>0</td>\n",
       "      <td>...</td>\n",
       "      <td>0</td>\n",
       "      <td>0</td>\n",
       "      <td>0</td>\n",
       "      <td>0</td>\n",
       "      <td>0</td>\n",
       "      <td>0</td>\n",
       "      <td>0</td>\n",
       "      <td>0</td>\n",
       "      <td>0</td>\n",
       "      <td>0</td>\n",
       "    </tr>\n",
       "    <tr>\n",
       "      <th>ford torino</th>\n",
       "      <td>17.0</td>\n",
       "      <td>302.0</td>\n",
       "      <td>140.0</td>\n",
       "      <td>3449</td>\n",
       "      <td>10.5</td>\n",
       "      <td>0</td>\n",
       "      <td>0</td>\n",
       "      <td>0</td>\n",
       "      <td>1</td>\n",
       "      <td>0</td>\n",
       "      <td>...</td>\n",
       "      <td>0</td>\n",
       "      <td>0</td>\n",
       "      <td>0</td>\n",
       "      <td>0</td>\n",
       "      <td>0</td>\n",
       "      <td>0</td>\n",
       "      <td>0</td>\n",
       "      <td>0</td>\n",
       "      <td>0</td>\n",
       "      <td>0</td>\n",
       "    </tr>\n",
       "  </tbody>\n",
       "</table>\n",
       "<p>5 rows × 23 columns</p>\n",
       "</div>"
      ],
      "text/plain": [
       "                            mpg  displacement  horsepower  weight  \\\n",
       "car name                                                            \n",
       "chevrolet chevelle malibu  18.0         307.0       130.0    3504   \n",
       "buick skylark 320          15.0         350.0       165.0    3693   \n",
       "plymouth satellite         18.0         318.0       150.0    3436   \n",
       "amc rebel sst              16.0         304.0       150.0    3433   \n",
       "ford torino                17.0         302.0       140.0    3449   \n",
       "\n",
       "                           acceleration  cylinders*_4  cylinders*_5  \\\n",
       "car name                                                              \n",
       "chevrolet chevelle malibu          12.0             0             0   \n",
       "buick skylark 320                  11.5             0             0   \n",
       "plymouth satellite                 11.0             0             0   \n",
       "amc rebel sst                      12.0             0             0   \n",
       "ford torino                        10.5             0             0   \n",
       "\n",
       "                           cylinders*_6  cylinders*_8  model year*_71  \\\n",
       "car name                                                                \n",
       "chevrolet chevelle malibu             0             1               0   \n",
       "buick skylark 320                     0             1               0   \n",
       "plymouth satellite                    0             1               0   \n",
       "amc rebel sst                         0             1               0   \n",
       "ford torino                           0             1               0   \n",
       "\n",
       "                              ...       model year*_75  model year*_76  \\\n",
       "car name                      ...                                        \n",
       "chevrolet chevelle malibu     ...                    0               0   \n",
       "buick skylark 320             ...                    0               0   \n",
       "plymouth satellite            ...                    0               0   \n",
       "amc rebel sst                 ...                    0               0   \n",
       "ford torino                   ...                    0               0   \n",
       "\n",
       "                           model year*_77  model year*_78  model year*_79  \\\n",
       "car name                                                                    \n",
       "chevrolet chevelle malibu               0               0               0   \n",
       "buick skylark 320                       0               0               0   \n",
       "plymouth satellite                      0               0               0   \n",
       "amc rebel sst                           0               0               0   \n",
       "ford torino                             0               0               0   \n",
       "\n",
       "                           model year*_80  model year*_81  model year*_82  \\\n",
       "car name                                                                    \n",
       "chevrolet chevelle malibu               0               0               0   \n",
       "buick skylark 320                       0               0               0   \n",
       "plymouth satellite                      0               0               0   \n",
       "amc rebel sst                           0               0               0   \n",
       "ford torino                             0               0               0   \n",
       "\n",
       "                           origin*_2.0  origin*_3.0  \n",
       "car name                                             \n",
       "chevrolet chevelle malibu            0            0  \n",
       "buick skylark 320                    0            0  \n",
       "plymouth satellite                   0            0  \n",
       "amc rebel sst                        0            0  \n",
       "ford torino                          0            0  \n",
       "\n",
       "[5 rows x 23 columns]"
      ]
     },
     "execution_count": 9,
     "metadata": {},
     "output_type": "execute_result"
    }
   ],
   "source": [
    "df_auto = pd.read_csv('./auto-mpg.csv')\n",
    "df_auto.set_index('car name', inplace = True)\n",
    "df_auto = pd.get_dummies(df_auto, columns=['cylinders*', 'model year*', 'origin*'], drop_first=True)\n",
    "\n",
    "# df2 = pd.get_dummies(df_auto, columns=['cylinders*', 'model year*', 'origin*'], drop_first=False)\n",
    "#drop_first = True는 k개의 dummy variable을 k-1개로 낮춰서 다룸\n",
    "\n",
    "df_auto.dropna(inplace = True) #Na값 제거\n",
    "\n",
    "df_auto.head()"
   ]
  },
  {
   "cell_type": "code",
   "execution_count": 126,
   "metadata": {
    "scrolled": true
   },
   "outputs": [
    {
     "name": "stdout",
     "output_type": "stream",
     "text": [
      "car name\n",
      "chevrolet chevelle malibu    8\n",
      "buick skylark 320            8\n",
      "plymouth satellite           8\n",
      "amc rebel sst                8\n",
      "ford torino                  8\n",
      "Name: cylinders*, dtype: int64\n",
      "                           3  4  5  6  8\n",
      "car name                                \n",
      "chevrolet chevelle malibu  0  0  0  0  1\n",
      "buick skylark 320          0  0  0  0  1\n",
      "plymouth satellite         0  0  0  0  1\n",
      "amc rebel sst              0  0  0  0  1\n",
      "ford torino                0  0  0  0  1\n",
      "[  1.   2.   3.  nan]\n",
      "                            mpg  displacement  horsepower  weight  \\\n",
      "car name                                                            \n",
      "chevrolet chevelle malibu  18.0         307.0       130.0    3504   \n",
      "buick skylark 320          15.0         350.0       165.0    3693   \n",
      "plymouth satellite         18.0         318.0       150.0    3436   \n",
      "amc rebel sst              16.0         304.0       150.0    3433   \n",
      "ford torino                17.0         302.0       140.0    3449   \n",
      "\n",
      "                           acceleration  cylinder3  cylinder4  cylinder5  \\\n",
      "car name                                                                   \n",
      "chevrolet chevelle malibu          12.0          0          0          0   \n",
      "buick skylark 320                  11.5          0          0          0   \n",
      "plymouth satellite                 11.0          0          0          0   \n",
      "amc rebel sst                      12.0          0          0          0   \n",
      "ford torino                        10.5          0          0          0   \n",
      "\n",
      "                           cylinder6  cylinder8 ...   76  77  78  79  80  81  \\\n",
      "car name                                        ...                            \n",
      "chevrolet chevelle malibu          0          1 ...    0   0   0   0   0   0   \n",
      "buick skylark 320                  0          1 ...    0   0   0   0   0   0   \n",
      "plymouth satellite                 0          1 ...    0   0   0   0   0   0   \n",
      "amc rebel sst                      0          1 ...    0   0   0   0   0   0   \n",
      "ford torino                        0          1 ...    0   0   0   0   0   0   \n",
      "\n",
      "                           82  1.0  2.0  3.0  \n",
      "car name                                      \n",
      "chevrolet chevelle malibu   0    1    0    0  \n",
      "buick skylark 320           0    1    0    0  \n",
      "plymouth satellite          0    1    0    0  \n",
      "amc rebel sst               0    1    0    0  \n",
      "ford torino                 0    1    0    0  \n",
      "\n",
      "[5 rows x 26 columns]\n"
     ]
    }
   ],
   "source": [
    "# 참고 dummy variable 바꾸는 방법 수동...\n",
    "df1 = auto_mpg_data.copy()[\"cylinders*\"]\n",
    "print(df1.head())\n",
    "df1 = pd.get_dummies(df1)\n",
    "print(df1.head())\n",
    "\n",
    "a = pd.concat([auto_mpg_data, df1], axis=1)\n",
    "\n",
    "dict={3:'cylinder3',4:'cylinder4',5:'cylinder5',6:'cylinder6',8:'cylinder8'}\n",
    "a.rename(columns=dict, inplace=True)\n",
    "\n",
    "a.drop(\"cylinders*\", axis=1, inplace=True)\n",
    "a.head()\n",
    "# print(a.head())\n",
    "\n",
    "df2 = auto_mpg_data.copy()[\"model year*\"]\n",
    "df2 = pd.get_dummies(df2)\n",
    "\n",
    "a = pd.concat([a, df2], axis=1)\n",
    "\n",
    "a.drop(\"model year*\", axis=1, inplace=True)\n",
    "\n",
    "\n",
    "df3 = auto_mpg_data.copy()[\"origin*\"]\n",
    "df3 = pd.get_dummies(df3)\n",
    "\n",
    "a = pd.concat([a, df3], axis=1)\n",
    "\n",
    "print(a[\"origin*\"].unique())\n",
    "a.drop(\"origin*\", axis=1, inplace=True)\n",
    "print(a.head())"
   ]
  },
  {
   "cell_type": "code",
   "execution_count": 129,
   "metadata": {
    "collapsed": true
   },
   "outputs": [],
   "source": [
    "a.dropna(inplace=True)"
   ]
  },
  {
   "cell_type": "code",
   "execution_count": 132,
   "metadata": {
    "collapsed": true
   },
   "outputs": [],
   "source": [
    "a.isnull()\n",
    "auto_mpg_data = a.copy()"
   ]
  },
  {
   "cell_type": "markdown",
   "metadata": {},
   "source": [
    "# Regression\n",
    "\n",
    "1. Linear Regression"
   ]
  },
  {
   "cell_type": "code",
   "execution_count": 20,
   "metadata": {},
   "outputs": [
    {
     "name": "stdout",
     "output_type": "stream",
     "text": [
      "     sepal length  sepal width  petal length  petal width\n",
      "23            5.1          3.3           1.7          0.5\n",
      "147           6.5          3.0           5.2          2.0\n",
      "55            5.7          2.8           4.5          1.3\n",
      "49            5.0          3.3           1.4          0.2\n",
      "136           6.3          3.4           5.6          2.4\n",
      "-----------------------------------------------------------------\n",
      "               class\n",
      "23       Iris-setosa\n",
      "147   Iris-virginica\n",
      "55   Iris-versicolor\n",
      "49       Iris-setosa\n",
      "136   Iris-virginica\n"
     ]
    }
   ],
   "source": [
    "#Data Partition\n",
    "from sklearn.model_selection import train_test_split\n",
    "X_iris = df_iris[['sepal length', 'sepal width', 'petal length','petal width']]\n",
    "#X_iris = df_iris.loc[:, 'sepal length':'petal width'] #loc index를 받고, iloc는 index 숫자를 받음\n",
    "y_iris = df_iris[['class']] # df[\"컬럼이름\"]은 Series, df[[\"컬럼이름\"]]은 DataFrame\n",
    "\n",
    "X_train, X_test, y_train, y_test = train_test_split(X_iris, y_iris, test_size = 0.3)\n",
    "# X_train, X_test, y_train, y_test = train_test_split(iris_data[['sepal length', 'sepal width', 'petal length','petal width']],\n",
    "#                                                     iris_data[['class']], test_size=0.3)\n",
    "#\n",
    "#input: X, y, test_size\n",
    "#output: X_train, X_test, y_train, y_test\n",
    "\n",
    "print(X_train.head())\n",
    "print('-----------------------------------------------------------------')\n",
    "print(y_train.head())"
   ]
  },
  {
   "cell_type": "markdown",
   "metadata": {},
   "source": [
    "Ex1) Iris 데이터 Feature중 correlation이 가장 큰 변수는 무엇인가?\n",
    "\n",
    "Ans) Petal length, petal width, correlation 계수 0.9628"
   ]
  },
  {
   "cell_type": "code",
   "execution_count": 12,
   "metadata": {},
   "outputs": [
    {
     "name": "stdout",
     "output_type": "stream",
     "text": [
      "              sepal length  sepal width  petal length  petal width\n",
      "sepal length      1.000000    -0.109369      0.871754     0.817954\n",
      "sepal width      -0.109369     1.000000     -0.420516    -0.356544\n",
      "petal length      0.871754    -0.420516      1.000000     0.962757\n",
      "petal width       0.817954    -0.356544      0.962757     1.000000\n"
     ]
    }
   ],
   "source": [
    "iris_corr = X_iris.corr() #Data Correlation matrix\n",
    "print(iris_corr)"
   ]
  },
  {
   "cell_type": "markdown",
   "metadata": {},
   "source": [
    "Ex2) X=petal_width, Y=petal length로 하여 회귀 관계식 계산"
   ]
  },
  {
   "cell_type": "code",
   "execution_count": 44,
   "metadata": {},
   "outputs": [
    {
     "name": "stdout",
     "output_type": "stream",
     "text": [
      "   petal width\n",
      "0          0.2\n",
      "1          0.2\n",
      "2          0.2\n",
      "3          0.2\n",
      "4          0.2\n",
      "   petal length\n",
      "0           1.4\n",
      "1           1.4\n",
      "2           1.3\n",
      "3           1.5\n",
      "4           1.4\n",
      "train R2 is 0.926901\n",
      "선형 회귀식: y = 2.225885x+ 1.090572\n"
     ]
    }
   ],
   "source": [
    "x = X_iris[['petal width']]\n",
    "y = X_iris[['petal length']]\n",
    "print(x[:5])\n",
    "print(y[:5])\n",
    "\n",
    "from sklearn.linear_model import LinearRegression\n",
    "reg = LinearRegression()\n",
    "reg.fit(x, y)\n",
    "print(\"train R2 is %f\"%(reg.score(x,y)))\n",
    "print(\"선형 회귀식: y = %fx+ %f\"%(reg.coef_, reg.intercept_))"
   ]
  },
  {
   "cell_type": "code",
   "execution_count": 47,
   "metadata": {},
   "outputs": [
    {
     "data": {
      "text/plain": [
       "array([[ 1.31316068],\n",
       "       [ 6.65528541]])"
      ]
     },
     "execution_count": 47,
     "metadata": {},
     "output_type": "execute_result"
    }
   ],
   "source": [
    "reg.predict([x_min, x_max])"
   ]
  },
  {
   "cell_type": "code",
   "execution_count": 52,
   "metadata": {},
   "outputs": [
    {
     "data": {
      "image/png": "[encoded data removed]",
      "text/plain": [
       "<matplotlib.figure.Figure at 0xb9f56be5c0>"
      ]
     },
     "metadata": {},
     "output_type": "display_data"
    }
   ],
   "source": [
    "plt.figure(figsize=(10,10))\n",
    "plt.plot(x,y, 'ro', markersize=1)\n",
    "plt.xlabel('petal width')\n",
    "plt.ylabel('petal length')\n",
    "x_min = x.min()\n",
    "x_max = x.max()\n",
    "plt.plot([x_min, x_max], reg.predict([x_min, x_max]))\n",
    "plt.show()"
   ]
  },
  {
   "cell_type": "markdown",
   "metadata": {},
   "source": [
    "Ex3) setosa에 대해서 X=petal width, Y=petal length로 하여 회귀식 및 R^2"
   ]
  },
  {
   "cell_type": "code",
   "execution_count": 30,
   "metadata": {},
   "outputs": [
    {
     "name": "stdout",
     "output_type": "stream",
     "text": [
      "   petal width\n",
      "0          0.2\n",
      "1          0.2\n",
      "2          0.2\n",
      "3          0.2\n",
      "4          0.2\n",
      "   petal length\n",
      "0           1.4\n",
      "1           1.4\n",
      "2           1.3\n",
      "3           1.5\n",
      "4           1.4\n",
      "train R2 is 0.093825\n",
      "선형 회귀식: y = 0.495739x+ 1.343040\n"
     ]
    }
   ],
   "source": [
    "x = X_iris[y_iris[\"class\"] == \"Iris-setosa\"][['petal width']]\n",
    "y = X_iris[y_iris[\"class\"] == \"Iris-setosa\"][['petal length']]\n",
    "print(x[:5])\n",
    "print(y[:5])\n",
    "\n",
    "from sklearn.linear_model import LinearRegression\n",
    "reg = LinearRegression()\n",
    "reg.fit(x, y)\n",
    "print(\"train R2 is %f\"%(reg.score(x,y)))\n",
    "print(\"선형 회귀식: y = %fx+ %f\"%(reg.coef_, reg.intercept_))"
   ]
  },
  {
   "cell_type": "code",
   "execution_count": 28,
   "metadata": {
    "collapsed": true
   },
   "outputs": [],
   "source": [
    "#K-fold cross validation\n",
    "from sklearn.model_selection import cross_val_score \n",
    "#나중에 모델 있을 때 확인\n",
    "#cross_val_score(model, X, y, cv=k)"
   ]
  },
  {
   "cell_type": "code",
   "execution_count": 42,
   "metadata": {},
   "outputs": [
    {
     "name": "stdout",
     "output_type": "stream",
     "text": [
      "[[0 1]\n",
      " [1 2]]\n",
      "-----------------------------------------------------------------\n",
      "태우`s precision score is 0.6666666666666666\n",
      "태현`s precision score is 0.666667\n",
      "-----------------------------------------------------------------\n",
      "recall score is 0.6666666666666666\n",
      "-----------------------------------------------------------------\n",
      "F1 score is 0.666667\n",
      "F1 score is 0.6666666666666666\n"
     ]
    }
   ],
   "source": [
    "#Model evaluation, confusion matrix\n",
    "from sklearn.metrics import confusion_matrix\n",
    "\n",
    "y_true = np.array([1,0,1,1])\n",
    "y_pred = np.array([1,1,1,0])\n",
    "\n",
    "con_mat = confusion_matrix(y_true, y_pred)\n",
    "print(con_mat) #tn, fp, fn, tp\n",
    "print('-----------------------------------------------------------------')\n",
    "from sklearn.metrics import precision_score, recall_score, f1_score\n",
    "print(f'태우`s precision score is {precision_score(y_true,y_pred)}')\n",
    "print(\"태현`s precision score is %f\"%(precision_score(y_true, y_pred)))\n",
    "print('-----------------------------------------------------------------')\n",
    "print(f'recall score is {recall_score(y_true, y_pred)}')\n",
    "print('-----------------------------------------------------------------')\n",
    "print('F1 score is %f'%(f1_score(y_true, y_pred)))\n",
    "print('F1 score is {}'.format(f1_score(y_true, y_pred)))"
   ]
  },
  {
   "cell_type": "markdown",
   "metadata": {},
   "source": [
    "ROC curve"
   ]
  },
  {
   "cell_type": "code",
   "execution_count": 151,
   "metadata": {
    "collapsed": true
   },
   "outputs": [],
   "source": [
    "#Regression\n",
    "X = auto_mpg_data.drop('mpg',axis=1)\n",
    "y = auto_mpg_data['mpg']\n",
    "X_train, X_test, y_train, y_test = train_test_split(X, y, test_size=0.3)"
   ]
  },
  {
   "cell_type": "code",
   "execution_count": 152,
   "metadata": {},
   "outputs": [
    {
     "name": "stdout",
     "output_type": "stream",
     "text": [
      "[  1.86729536e-02  -2.00193188e-02  -5.93123281e-03   1.37659865e-01\n",
      "  -5.98417331e+00   1.46224783e+00   5.86530677e+00  -1.37928752e+00\n",
      "   3.59062368e-02  -3.19228758e+00  -2.07632803e+00  -3.64894817e+00\n",
      "  -3.53862249e+00  -1.34279169e+00  -1.70526316e+00  -1.24780971e+00\n",
      "   3.58072650e-01  -1.32151482e-01   2.33269296e+00   6.02256103e+00\n",
      "   4.08922955e+00   4.08164611e+00  -1.01915885e+01  -8.05790605e+00\n",
      "  -7.41778288e+00] 46.409610703\n",
      "0.858037445663\n"
     ]
    }
   ],
   "source": [
    "#기본 Linear regression\n",
    "from sklearn.linear_model import LinearRegression\n",
    "reg = LinearRegression()\n",
    "reg.fit(X_train, y_train)\n",
    "print(reg.coef_, reg.intercept_)\n",
    "print(reg.score(X_test, y_test)) #R^2 계수"
   ]
  },
  {
   "cell_type": "code",
   "execution_count": 161,
   "metadata": {},
   "outputs": [
    {
     "name": "stdout",
     "output_type": "stream",
     "text": [
      "[ 0.01597994 -0.04307308 -0.00569998  0.12673181 -0.          1.337056    0.\n",
      " -1.51913105  0.         -0.08057578 -0.         -1.3201096  -1.38329385\n",
      " -0.         -0.         -0.          0.          0.10940508  1.62590546\n",
      "  5.16768018  3.23776234  2.92261143 -1.53681665 -0.          0.        ] 39.8122262308\n",
      "0.841461739989\n"
     ]
    }
   ],
   "source": [
    "# Lasso regression\n",
    "from sklearn.linear_model import Lasso\n",
    "\n",
    "reg = Lasso(alpha = 0.1)\n",
    "reg.fit(X_train, y_train)\n",
    "print(reg.coef_, reg.intercept_)\n",
    "print(reg.score(X_test, y_test)) #R^2 계수"
   ]
  },
  {
   "cell_type": "code",
   "execution_count": 165,
   "metadata": {},
   "outputs": [
    {
     "name": "stdout",
     "output_type": "stream",
     "text": [
      "[ 0.02010831 -0.03648688 -0.005749    0.16029876 -1.99521002  1.88186876\n",
      "  1.17036737 -1.32717778  0.27015168 -2.10078494 -1.54468084 -2.90470159\n",
      " -2.82481639 -1.14966212 -1.45402589 -1.1157307   0.20275832  0.36105741\n",
      "  1.81146992  4.63179231  3.10649134  2.98083317 -2.3626569  -0.41006333\n",
      "  0.12788812] 38.9371798861\n",
      "0.861278831463\n"
     ]
    }
   ],
   "source": [
    "# Ridge regression\n",
    "from sklearn.linear_model import Ridge\n",
    "\n",
    "reg = Ridge(alpha = 5)\n",
    "reg.fit(X_train, y_train)\n",
    "print(reg.coef_, reg.intercept_)\n",
    "print(reg.score(X_test, y_test)) #R^2 계수"
   ]
  },
  {
   "cell_type": "markdown",
   "metadata": {
    "collapsed": true
   },
   "source": [
    "# Classification\n",
    "\n",
    "1. Logistic Regression"
   ]
  },
  {
   "cell_type": "code",
   "execution_count": 81,
   "metadata": {},
   "outputs": [],
   "source": [
    "#Data Partition\n",
    "from sklearn.model_selection import train_test_split\n",
    "X_iris = df_iris[['sepal length', 'sepal width', 'petal length','petal width']][df_iris['class'] != 'Iris-setosa']\n",
    "#X_iris = df_iris.loc[:, 'sepal length':'petal width'] #loc index를 받고, iloc는 index 숫자를 받음\n",
    "y_iris = df_iris[['class']][df_iris['class'] != 'Iris-setosa']\n",
    "# y_iris = df_iris[['class']] # df[\"컬럼이름\"]은 Series, df[[\"컬럼이름\"]]은 DataFrame\n",
    "\n",
    "X_train, X_test, y_train, y_test = train_test_split(X_iris, y_iris, test_size = 0.3)"
   ]
  },
  {
   "cell_type": "code",
   "execution_count": 90,
   "metadata": {},
   "outputs": [
    {
     "name": "stdout",
     "output_type": "stream",
     "text": [
      "[ 0.85952479  0.14047521]\n",
      "[[-1.70690955 -1.53277945  2.46921149  2.5563083 ]]\n",
      "[-1.21565523]\n",
      "[-1.70690955 -1.53277945  2.46921149  2.5563083 ]\n"
     ]
    },
    {
     "name": "stderr",
     "output_type": "stream",
     "text": [
      "C:\\Users\\TaeHyun\\Anaconda3\\lib\\site-packages\\sklearn\\utils\\validation.py:578: DataConversionWarning: A column-vector y was passed when a 1d array was expected. Please change the shape of y to (n_samples, ), for example using ravel().\n",
      "  y = column_or_1d(y, warn=True)\n"
     ]
    }
   ],
   "source": [
    "#로지스틱\n",
    "from sklearn.linear_model import LogisticRegression\n",
    "\n",
    "clf = LogisticRegression()\n",
    "clf.fit(X_iris, y_iris)\n",
    "\n",
    "# print(clf.predict_log_proba(X_iris)) #train data에 대한 log p값\n",
    "print(clf.predict_proba(X_iris)[2]) #train data에 대한 p값 벡터\n",
    "\n",
    "coef = clf.coef_\n",
    "incp = clf.intercept_\n",
    "print(clf.coef_) #회귀 계수\n",
    "print(clf.intercept_) #회귀 절편\n",
    "\n",
    "print(coef[0])\n",
    "# print(coef, incp)\n",
    "# print(sum(X_iris.iloc[2]*coef[0]) + incp[0])\n",
    "# a = sum(X_iris.iloc[2]*coef[0]) + incp[0]\n",
    "# print('======================================')\n",
    "# aa = sp.exp(a)/(1+sp.exp(a))\n",
    "\n",
    "# print(sum(X_iris.iloc[2]*coef[1]) + incp[1])\n",
    "# b = sum(X_iris.iloc[2]*coef[1]) + incp[1]\n",
    "# print('======================================')\n",
    "# bb = sp.exp(b)/(1+sp.exp(b))\n",
    "\n",
    "# print(sum(X_iris.iloc[2]*coef[2]) + incp[2])\n",
    "# c = sum(X_iris.iloc[2]*coef[2]) + incp[2]\n",
    "# print('======================================')\n",
    "# cc = sp.exp(c)/(1+sp.exp(c))\n",
    "\n",
    "# print(aa/(aa+bb+cc))"
   ]
  },
  {
   "cell_type": "markdown",
   "metadata": {},
   "source": [
    "각 case별로 Odds를 계산해보시오"
   ]
  },
  {
   "cell_type": "code",
   "execution_count": 98,
   "metadata": {},
   "outputs": [
    {
     "name": "stdout",
     "output_type": "stream",
     "text": [
      "[  1.78998204e+01   8.15683659e+00   6.11869386e+00   2.53198537e+00\n",
      "   4.09396707e+00   2.23037474e+00   3.78850046e+00   1.28517049e+01\n",
      "   9.43800860e+00   2.77689380e+00   5.03902873e+00   5.36345955e+00\n",
      "   1.09799737e+01   2.43205907e+00   2.02275786e+01   1.93018958e+01\n",
      "   1.53230462e+00   1.31202877e+01   1.25194089e+00   8.70966545e+00\n",
      "   7.69315370e-01   1.51733285e+01   8.75933811e-01   3.47892023e+00\n",
      "   1.40711492e+01   1.39605350e+01   5.38369984e+00   1.74805893e+00\n",
      "   2.60194376e+00   4.17507622e+01   8.06380581e+00   1.33289400e+01\n",
      "   1.28937197e+01   3.37073305e-01   1.08914282e+00   4.33628358e+00\n",
      "   7.12642026e+00   3.69450569e+00   6.86008032e+00   3.44030323e+00\n",
      "   1.92857964e+00   3.62892821e+00   8.64119822e+00   1.30774515e+01\n",
      "   3.38368098e+00   8.20808615e+00   5.45324590e+00   1.00015955e+01\n",
      "   3.42356997e+01   5.98857935e+00   1.53186823e-02   1.11277383e-01\n",
      "   1.34856523e-01   1.33361272e-01   4.80074407e-02   5.62169408e-02\n",
      "   1.29287693e-01   1.30519583e-01   8.72581978e-02   8.80763835e-02\n",
      "   6.12544510e-01   1.89110114e-01   2.16983900e-01   6.84476694e-02\n",
      "   3.61309495e-02   1.46378520e-01   2.79958893e-01   1.37494056e-01\n",
      "   1.03271073e-02   2.58905383e-01   1.27991780e-01   1.16995273e-01\n",
      "   4.95044663e-02   5.52776594e-01   1.76818492e-01   3.65559701e-01\n",
      "   6.95382512e-01   6.22289774e-01   6.30282032e-02   7.35078778e-01\n",
      "   1.68535727e-01   6.76537384e-01   4.88107935e-02   8.46645497e-01\n",
      "   1.66395810e-01   1.37449035e-01   6.19090594e-02   2.75126164e-01\n",
      "   6.71581953e-01   3.84027132e-01   7.73697988e-02   4.83095808e-01\n",
      "   1.11277383e-01   6.58535139e-02   6.35991700e-02   2.30127612e-01\n",
      "   2.46126606e-01   3.52180761e-01   1.10437384e-01   2.69935124e-01]\n"
     ]
    }
   ],
   "source": [
    "p0 = clf.predict_proba(X_iris).T[0]\n",
    "p1 = clf.predict_proba(X_iris).T[1]\n",
    "\n",
    "print(p0/p1)\n",
    "# print(p1/p0)\n",
    "# print('==========================================')\n",
    "# print(sp.log(p0/p1))\n",
    "# print(sp.log(p1/p0))"
   ]
  },
  {
   "cell_type": "markdown",
   "metadata": {},
   "source": [
    "2\\. kNN"
   ]
  },
  {
   "cell_type": "code",
   "execution_count": 99,
   "metadata": {
    "collapsed": true
   },
   "outputs": [],
   "source": [
    "#Data Partition\n",
    "from sklearn.model_selection import train_test_split\n",
    "X_iris = df_iris[['sepal length', 'sepal width', 'petal length','petal width']]\n",
    "y_iris = df_iris[['class']]\n",
    "\n",
    "X_train, X_test, y_train, y_test = train_test_split(X_iris, y_iris, test_size = 0.2)"
   ]
  },
  {
   "cell_type": "code",
   "execution_count": 108,
   "metadata": {},
   "outputs": [
    {
     "name": "stdout",
     "output_type": "stream",
     "text": [
      "[1.0, 0.96666666666666667, 0.96666666666666667]\n"
     ]
    },
    {
     "name": "stderr",
     "output_type": "stream",
     "text": [
      "C:\\Users\\TaeHyun\\Anaconda3\\lib\\site-packages\\ipykernel_launcher.py:7: DataConversionWarning: A column-vector y was passed when a 1d array was expected. Please change the shape of y to (n_samples, ), for example using ravel().\n",
      "  import sys\n"
     ]
    }
   ],
   "source": [
    "# knn\n",
    "from sklearn.neighbors import KNeighborsClassifier\n",
    "\n",
    "scores = []\n",
    "for k in [5, 10, 35, 50, 100]:\n",
    "    knn = KNeighborsClassifier(n_neighbors=k)\n",
    "    knn.fit(X_train, y_train)\n",
    "    scores.append(knn.score(X_test, y_test))\n",
    "\n",
    "print(scores)"
   ]
  },
  {
   "cell_type": "code",
   "execution_count": 110,
   "metadata": {},
   "outputs": [
    {
     "name": "stdout",
     "output_type": "stream",
     "text": [
      "[[ 0.          0.77142857  0.22857143]]\n",
      "========================================\n",
      "(array([[ 0.24494897,  0.28284271,  0.33166248,  0.36055513,  0.37416574,\n",
      "         0.38729833,  0.38729833,  0.46904158,  0.47958315,  0.47958315]]), array([[ 79,  23,  86,  36,  40, 119,  30, 100,  43,  10]], dtype=int64))\n",
      "========================================\n",
      "    sepal length  sepal width  petal length  petal width\n",
      "92           5.8          2.6           4.0          1.2\n",
      "82           5.8          2.7           3.9          1.2\n",
      "99           5.7          2.8           4.1          1.3\n",
      "69           5.6          2.5           3.9          1.1\n",
      "94           5.6          2.7           4.2          1.3\n",
      "95           5.7          3.0           4.2          1.2\n",
      "96           5.7          2.9           4.2          1.3\n",
      "88           5.6          3.0           4.1          1.3\n",
      "89           5.5          2.5           4.0          1.3\n",
      "90           5.5          2.6           4.4          1.2\n"
     ]
    },
    {
     "name": "stderr",
     "output_type": "stream",
     "text": [
      "C:\\Users\\TaeHyun\\Anaconda3\\lib\\site-packages\\ipykernel_launcher.py:1: FutureWarning: reshape is deprecated and will raise in a subsequent release. Please use .values.reshape(...) instead\n",
      "  \"\"\"Entry point for launching an IPython kernel.\n",
      "C:\\Users\\TaeHyun\\Anaconda3\\lib\\site-packages\\ipykernel_launcher.py:3: FutureWarning: reshape is deprecated and will raise in a subsequent release. Please use .values.reshape(...) instead\n",
      "  This is separate from the ipykernel package so we can avoid doing imports until\n",
      "C:\\Users\\TaeHyun\\Anaconda3\\lib\\site-packages\\ipykernel_launcher.py:5: FutureWarning: reshape is deprecated and will raise in a subsequent release. Please use .values.reshape(...) instead\n",
      "  \"\"\"\n"
     ]
    }
   ],
   "source": [
    "print(knn.predict_proba(X_test.iloc[10].reshape(1,-1))) #각 클래스에 속할 확률\n",
    "print('========================================')\n",
    "print(knn.kneighbors(X_test.iloc[0].reshape(1,-1), n_neighbors=10)) #distance, index 순서로\n",
    "print('========================================')\n",
    "print(X_train.iloc[knn.kneighbors(X_test.iloc[0].reshape(1,-1), n_neighbors=10, return_distance=False)[0]]) #가장 가까운 10개 데이터"
   ]
  },
  {
   "cell_type": "markdown",
   "metadata": {
    "collapsed": true
   },
   "source": [
    "3 \\. Naive Bayes"
   ]
  },
  {
   "cell_type": "code",
   "execution_count": 111,
   "metadata": {
    "collapsed": true
   },
   "outputs": [],
   "source": [
    "#Data Partition\n",
    "from sklearn.model_selection import train_test_split\n",
    "X_iris = df_iris[['sepal length', 'sepal width', 'petal length','petal width']]\n",
    "y_iris = df_iris[['class']]\n",
    "\n",
    "X_train, X_test, y_train, y_test = train_test_split(X_iris, y_iris, test_size = 0.2)"
   ]
  },
  {
   "cell_type": "code",
   "execution_count": 126,
   "metadata": {},
   "outputs": [
    {
     "name": "stdout",
     "output_type": "stream",
     "text": [
      "0.966666666667\n",
      "0.9\n",
      "===============================\n",
      "[[ 0.75229108  0.16455058  0.08315835]]\n"
     ]
    },
    {
     "name": "stderr",
     "output_type": "stream",
     "text": [
      "C:\\Users\\TaeHyun\\Anaconda3\\lib\\site-packages\\sklearn\\utils\\validation.py:578: DataConversionWarning: A column-vector y was passed when a 1d array was expected. Please change the shape of y to (n_samples, ), for example using ravel().\n",
      "  y = column_or_1d(y, warn=True)\n",
      "C:\\Users\\TaeHyun\\Anaconda3\\lib\\site-packages\\ipykernel_launcher.py:7: FutureWarning: reshape is deprecated and will raise in a subsequent release. Please use .values.reshape(...) instead\n",
      "  import sys\n"
     ]
    }
   ],
   "source": [
    "from sklearn.naive_bayes import MultinomialNB\n",
    "clf = MultinomialNB(alpha=1) #alpha는 Laplace smoothing\n",
    "clf.fit(X_train, y_train)\n",
    "print(clf.score(X_train,y_train)) #train acc\n",
    "print(clf.score(X_test, y_test)) #test acc\n",
    "print('===============================')\n",
    "print(clf.predict_proba(X_train.iloc[0].reshape(1,-1)))\n"
   ]
  },
  {
   "cell_type": "markdown",
   "metadata": {
    "collapsed": true
   },
   "source": [
    "4 \\. Decision Tree"
   ]
  },
  {
   "cell_type": "code",
   "execution_count": 127,
   "metadata": {
    "collapsed": true
   },
   "outputs": [],
   "source": [
    "#Data Partition\n",
    "from sklearn.model_selection import train_test_split\n",
    "X_iris = df_iris[['sepal length', 'sepal width', 'petal length','petal width']]\n",
    "y_iris = df_iris[['class']]\n",
    "\n",
    "X_train, X_test, y_train, y_test = train_test_split(X_iris, y_iris, test_size = 0.2)"
   ]
  },
  {
   "cell_type": "code",
   "execution_count": 147,
   "metadata": {},
   "outputs": [
    {
     "name": "stdout",
     "output_type": "stream",
     "text": [
      "1.0\n",
      "1.0\n"
     ]
    }
   ],
   "source": [
    "from sklearn.tree import DecisionTreeClassifier\n",
    "clf = DecisionTreeClassifier(criterion='gini', max_depth=6) #gini, entropy\n",
    "clf.fit(X_train, y_train)\n",
    "print(clf.score(X_train, y_train))\n",
    "print(clf.score(X_test, y_test))"
   ]
  },
  {
   "cell_type": "code",
   "execution_count": 167,
   "metadata": {
    "collapsed": true
   },
   "outputs": [],
   "source": [
    "from sklearn.tree import export_graphviz\n",
    "# Export as dot file\n",
    "dot_data = export_graphviz(clf, out_file=None, \n",
    "                feature_names = X_iris.columns,\n",
    "                class_names = y_iris['class'].unique(),\n",
    "                rounded = True, proportion = False, \n",
    "                precision = 2, filled = True)"
   ]
  },
  {
   "cell_type": "code",
   "execution_count": 168,
   "metadata": {
    "scrolled": true
   },
   "outputs": [
    {
     "name": "stdout",
     "output_type": "stream",
     "text": [
      "digraph Tree {\n",
      "node [shape=box] ;\n",
      "0 [label=\"petal length <= 2.45\\ngini = 0.666\\nsamples = 120\\nvalue = [42, 37, 41]\\nclass = Iris-setosa\"] ;\n",
      "1 [label=\"gini = 0.0\\nsamples = 42\\nvalue = [42, 0, 0]\\nclass = Iris-setosa\"] ;\n",
      "0 -> 1 [labeldistance=2.5, labelangle=45, headlabel=\"True\"] ;\n",
      "2 [label=\"petal width <= 1.75\\ngini = 0.499\\nsamples = 78\\nvalue = [0, 37, 41]\\nclass = Iris-virginica\"] ;\n",
      "0 -> 2 [labeldistance=2.5, labelangle=-45, headlabel=\"False\"] ;\n",
      "3 [label=\"petal length <= 4.95\\ngini = 0.214\\nsamples = 41\\nvalue = [0, 36, 5]\\nclass = Iris-versicolor\"] ;\n",
      "2 -> 3 ;\n",
      "4 [label=\"petal width <= 1.65\\ngini = 0.056\\nsamples = 35\\nvalue = [0, 34, 1]\\nclass = Iris-versicolor\"] ;\n",
      "3 -> 4 ;\n",
      "5 [label=\"gini = 0.0\\nsamples = 34\\nvalue = [0, 34, 0]\\nclass = Iris-versicolor\"] ;\n",
      "4 -> 5 ;\n",
      "6 [label=\"gini = 0.0\\nsamples = 1\\nvalue = [0, 0, 1]\\nclass = Iris-virginica\"] ;\n",
      "4 -> 6 ;\n",
      "7 [label=\"petal width <= 1.55\\ngini = 0.444\\nsamples = 6\\nvalue = [0, 2, 4]\\nclass = Iris-virginica\"] ;\n",
      "3 -> 7 ;\n",
      "8 [label=\"gini = 0.0\\nsamples = 3\\nvalue = [0, 0, 3]\\nclass = Iris-virginica\"] ;\n",
      "7 -> 8 ;\n",
      "9 [label=\"petal length <= 5.45\\ngini = 0.444\\nsamples = 3\\nvalue = [0, 2, 1]\\nclass = Iris-versicolor\"] ;\n",
      "7 -> 9 ;\n",
      "10 [label=\"gini = 0.0\\nsamples = 2\\nvalue = [0, 2, 0]\\nclass = Iris-versicolor\"] ;\n",
      "9 -> 10 ;\n",
      "11 [label=\"gini = 0.0\\nsamples = 1\\nvalue = [0, 0, 1]\\nclass = Iris-virginica\"] ;\n",
      "9 -> 11 ;\n",
      "12 [label=\"petal length <= 4.85\\ngini = 0.053\\nsamples = 37\\nvalue = [0, 1, 36]\\nclass = Iris-virginica\"] ;\n",
      "2 -> 12 ;\n",
      "13 [label=\"sepal width <= 3.1\\ngini = 0.5\\nsamples = 2\\nvalue = [0, 1, 1]\\nclass = Iris-versicolor\"] ;\n",
      "12 -> 13 ;\n",
      "14 [label=\"gini = 0.0\\nsamples = 1\\nvalue = [0, 0, 1]\\nclass = Iris-virginica\"] ;\n",
      "13 -> 14 ;\n",
      "15 [label=\"gini = 0.0\\nsamples = 1\\nvalue = [0, 1, 0]\\nclass = Iris-versicolor\"] ;\n",
      "13 -> 15 ;\n",
      "16 [label=\"gini = 0.0\\nsamples = 35\\nvalue = [0, 0, 35]\\nclass = Iris-virginica\"] ;\n",
      "12 -> 16 ;\n",
      "}\n"
     ]
    }
   ],
   "source": [
    "print(dot_data)"
   ]
  },
  {
   "cell_type": "code",
   "execution_count": null,
   "metadata": {
    "collapsed": true
   },
   "outputs": [],
   "source": []
  },
  {
   "cell_type": "code",
   "execution_count": 164,
   "metadata": {
    "scrolled": true
   },
   "outputs": [
    {
     "name": "stdout",
     "output_type": "stream",
     "text": [
      "digraph Tree {\n",
      "node [shape=box, style=\"filled, rounded\", color=\"black\", fontname=helvetica] ;\n",
      "edge [fontname=helvetica] ;\n",
      "0 [label=\"petal length <= 2.45\\ngini = 0.67\\nsamples = 120\\nvalue = [42, 37, 41]\\nclass = Iris-setosa\", fillcolor=\"#e5813903\"] ;\n",
      "1 [label=\"gini = 0.0\\nsamples = 42\\nvalue = [42, 0, 0]\\nclass = Iris-setosa\", fillcolor=\"#e58139ff\"] ;\n",
      "0 -> 1 [labeldistance=2.5, labelangle=45, headlabel=\"True\"] ;\n",
      "2 [label=\"petal width <= 1.75\\ngini = 0.5\\nsamples = 78\\nvalue = [0, 37, 41]\\nclass = Iris-virginica\", fillcolor=\"#8139e519\"] ;\n",
      "0 -> 2 [labeldistance=2.5, labelangle=-45, headlabel=\"False\"] ;\n",
      "3 [label=\"petal length <= 4.95\\ngini = 0.21\\nsamples = 41\\nvalue = [0, 36, 5]\\nclass = Iris-versicolor\", fillcolor=\"#39e581dc\"] ;\n",
      "2 -> 3 ;\n",
      "4 [label=\"petal width <= 1.65\\ngini = 0.06\\nsamples = 35\\nvalue = [0, 34, 1]\\nclass = Iris-versicolor\", fillcolor=\"#39e581f8\"] ;\n",
      "3 -> 4 ;\n",
      "5 [label=\"gini = 0.0\\nsamples = 34\\nvalue = [0, 34, 0]\\nclass = Iris-versicolor\", fillcolor=\"#39e581ff\"] ;\n",
      "4 -> 5 ;\n",
      "6 [label=\"gini = 0.0\\nsamples = 1\\nvalue = [0, 0, 1]\\nclass = Iris-virginica\", fillcolor=\"#8139e5ff\"] ;\n",
      "4 -> 6 ;\n",
      "7 [label=\"petal width <= 1.55\\ngini = 0.44\\nsamples = 6\\nvalue = [0, 2, 4]\\nclass = Iris-virginica\", fillcolor=\"#8139e57f\"] ;\n",
      "3 -> 7 ;\n",
      "8 [label=\"gini = 0.0\\nsamples = 3\\nvalue = [0, 0, 3]\\nclass = Iris-virginica\", fillcolor=\"#8139e5ff\"] ;\n",
      "7 -> 8 ;\n",
      "9 [label=\"petal length <= 5.45\\ngini = 0.44\\nsamples = 3\\nvalue = [0, 2, 1]\\nclass = Iris-versicolor\", fillcolor=\"#39e5817f\"] ;\n",
      "7 -> 9 ;\n",
      "10 [label=\"gini = 0.0\\nsamples = 2\\nvalue = [0, 2, 0]\\nclass = Iris-versicolor\", fillcolor=\"#39e581ff\"] ;\n",
      "9 -> 10 ;\n",
      "11 [label=\"gini = 0.0\\nsamples = 1\\nvalue = [0, 0, 1]\\nclass = Iris-virginica\", fillcolor=\"#8139e5ff\"] ;\n",
      "9 -> 11 ;\n",
      "12 [label=\"petal length <= 4.85\\ngini = 0.05\\nsamples = 37\\nvalue = [0, 1, 36]\\nclass = Iris-virginica\", fillcolor=\"#8139e5f8\"] ;\n",
      "2 -> 12 ;\n",
      "13 [label=\"sepal width <= 3.1\\ngini = 0.5\\nsamples = 2\\nvalue = [0, 1, 1]\\nclass = Iris-versicolor\", fillcolor=\"#39e58100\"] ;\n",
      "12 -> 13 ;\n",
      "14 [label=\"gini = 0.0\\nsamples = 1\\nvalue = [0, 0, 1]\\nclass = Iris-virginica\", fillcolor=\"#8139e5ff\"] ;\n",
      "13 -> 14 ;\n",
      "15 [label=\"gini = 0.0\\nsamples = 1\\nvalue = [0, 1, 0]\\nclass = Iris-versicolor\", fillcolor=\"#39e581ff\"] ;\n",
      "13 -> 15 ;\n",
      "16 [label=\"gini = 0.0\\nsamples = 35\\nvalue = [0, 0, 35]\\nclass = Iris-virginica\", fillcolor=\"#8139e5ff\"] ;\n",
      "12 -> 16 ;\n",
      "}\n"
     ]
    }
   ],
   "source": [
    "print(dot_data)"
   ]
  },
  {
   "cell_type": "code",
   "execution_count": null,
   "metadata": {
    "collapsed": true
   },
   "outputs": [],
   "source": []
  },
  {
   "cell_type": "code",
   "execution_count": null,
   "metadata": {
    "collapsed": true
   },
   "outputs": [],
   "source": []
  },
  {
   "cell_type": "code",
   "execution_count": null,
   "metadata": {
    "collapsed": true
   },
   "outputs": [],
   "source": []
  },
  {
   "cell_type": "code",
   "execution_count": null,
   "metadata": {
    "collapsed": true
   },
   "outputs": [],
   "source": []
  },
  {
   "cell_type": "code",
   "execution_count": null,
   "metadata": {
    "collapsed": true
   },
   "outputs": [],
   "source": []
  },
  {
   "cell_type": "code",
   "execution_count": null,
   "metadata": {
    "collapsed": true
   },
   "outputs": [],
   "source": []
  },
  {
   "cell_type": "code",
   "execution_count": null,
   "metadata": {
    "collapsed": true
   },
   "outputs": [],
   "source": []
  },
  {
   "cell_type": "code",
   "execution_count": null,
   "metadata": {
    "collapsed": true
   },
   "outputs": [],
   "source": []
  },
  {
   "cell_type": "code",
   "execution_count": null,
   "metadata": {
    "collapsed": true
   },
   "outputs": [],
   "source": []
  },
  {
   "cell_type": "code",
   "execution_count": null,
   "metadata": {
    "collapsed": true
   },
   "outputs": [],
   "source": []
  },
  {
   "cell_type": "code",
   "execution_count": null,
   "metadata": {
    "collapsed": true
   },
   "outputs": [],
   "source": []
  },
  {
   "cell_type": "code",
   "execution_count": null,
   "metadata": {
    "collapsed": true
   },
   "outputs": [],
   "source": []
  },
  {
   "cell_type": "code",
   "execution_count": null,
   "metadata": {
    "collapsed": true
   },
   "outputs": [],
   "source": []
  },
  {
   "cell_type": "code",
   "execution_count": null,
   "metadata": {
    "collapsed": true
   },
   "outputs": [],
   "source": []
  },
  {
   "cell_type": "code",
   "execution_count": null,
   "metadata": {
    "collapsed": true
   },
   "outputs": [],
   "source": []
  },
  {
   "cell_type": "code",
   "execution_count": null,
   "metadata": {
    "collapsed": true
   },
   "outputs": [],
   "source": []
  },
  {
   "cell_type": "code",
   "execution_count": null,
   "metadata": {
    "collapsed": true
   },
   "outputs": [],
   "source": []
  },
  {
   "cell_type": "code",
   "execution_count": null,
   "metadata": {
    "collapsed": true
   },
   "outputs": [],
   "source": []
  },
  {
   "cell_type": "code",
   "execution_count": null,
   "metadata": {
    "collapsed": true
   },
   "outputs": [],
   "source": []
  },
  {
   "cell_type": "code",
   "execution_count": null,
   "metadata": {
    "collapsed": true
   },
   "outputs": [],
   "source": []
  },
  {
   "cell_type": "code",
   "execution_count": null,
   "metadata": {
    "collapsed": true
   },
   "outputs": [],
   "source": []
  },
  {
   "cell_type": "code",
   "execution_count": null,
   "metadata": {
    "collapsed": true
   },
   "outputs": [],
   "source": []
  },
  {
   "cell_type": "code",
   "execution_count": null,
   "metadata": {
    "collapsed": true
   },
   "outputs": [],
   "source": []
  }
 ],
 "metadata": {
  "kernelspec": {
   "display_name": "Python 3",
   "language": "python",
   "name": "python3"
  },
  "language_info": {
   "codemirror_mode": {
    "name": "ipython",
    "version": 3
   },
   "file_extension": ".py",
   "mimetype": "text/x-python",
   "name": "python",
   "nbconvert_exporter": "python",
   "pygments_lexer": "ipython3",
   "version": "3.6.3"
  }
 },
 "nbformat": 4,
 "nbformat_minor": 2
}
