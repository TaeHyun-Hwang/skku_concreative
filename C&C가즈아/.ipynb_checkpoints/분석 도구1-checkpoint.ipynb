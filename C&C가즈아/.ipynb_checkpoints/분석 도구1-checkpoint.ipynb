{
 "cells": [
  {
   "cell_type": "markdown",
   "metadata": {},
   "source": [
    "# Library"
   ]
  },
  {
   "cell_type": "code",
   "execution_count": 2,
   "metadata": {},
   "outputs": [],
   "source": [
    "# 사용가능한 Library\n",
    "import pandas as pd\n",
    "import matplotlib.pyplot as plt\n",
    "import scipy as sp\n",
    "\n",
    "#\n",
    "import numpy as np"
   ]
  },
  {
   "cell_type": "markdown",
   "metadata": {},
   "source": [
    "# Data preprocessing, 전처리\n",
    "\n",
    "## Classification 용 데이터\n",
    "1. iris Data"
   ]
  },
  {
   "cell_type": "code",
   "execution_count": 3,
   "metadata": {},
   "outputs": [
    {
     "data": {
      "text/html": [
       "<div>\n",
       "<style scoped>\n",
       "    .dataframe tbody tr th:only-of-type {\n",
       "        vertical-align: middle;\n",
       "    }\n",
       "\n",
       "    .dataframe tbody tr th {\n",
       "        vertical-align: top;\n",
       "    }\n",
       "\n",
       "    .dataframe thead th {\n",
       "        text-align: right;\n",
       "    }\n",
       "</style>\n",
       "<table border=\"1\" class=\"dataframe\">\n",
       "  <thead>\n",
       "    <tr style=\"text-align: right;\">\n",
       "      <th></th>\n",
       "      <th>sepal length</th>\n",
       "      <th>sepal width</th>\n",
       "      <th>petal length</th>\n",
       "      <th>petal width</th>\n",
       "      <th>class</th>\n",
       "    </tr>\n",
       "  </thead>\n",
       "  <tbody>\n",
       "    <tr>\n",
       "      <th>0</th>\n",
       "      <td>5.1</td>\n",
       "      <td>3.5</td>\n",
       "      <td>1.4</td>\n",
       "      <td>0.2</td>\n",
       "      <td>Iris-setosa</td>\n",
       "    </tr>\n",
       "    <tr>\n",
       "      <th>1</th>\n",
       "      <td>4.9</td>\n",
       "      <td>3.0</td>\n",
       "      <td>1.4</td>\n",
       "      <td>0.2</td>\n",
       "      <td>Iris-setosa</td>\n",
       "    </tr>\n",
       "    <tr>\n",
       "      <th>2</th>\n",
       "      <td>4.7</td>\n",
       "      <td>3.2</td>\n",
       "      <td>1.3</td>\n",
       "      <td>0.2</td>\n",
       "      <td>Iris-setosa</td>\n",
       "    </tr>\n",
       "    <tr>\n",
       "      <th>3</th>\n",
       "      <td>4.6</td>\n",
       "      <td>3.1</td>\n",
       "      <td>1.5</td>\n",
       "      <td>0.2</td>\n",
       "      <td>Iris-setosa</td>\n",
       "    </tr>\n",
       "    <tr>\n",
       "      <th>4</th>\n",
       "      <td>5.0</td>\n",
       "      <td>3.6</td>\n",
       "      <td>1.4</td>\n",
       "      <td>0.2</td>\n",
       "      <td>Iris-setosa</td>\n",
       "    </tr>\n",
       "  </tbody>\n",
       "</table>\n",
       "</div>"
      ],
      "text/plain": [
       "   sepal length  sepal width  petal length  petal width        class\n",
       "0           5.1          3.5           1.4          0.2  Iris-setosa\n",
       "1           4.9          3.0           1.4          0.2  Iris-setosa\n",
       "2           4.7          3.2           1.3          0.2  Iris-setosa\n",
       "3           4.6          3.1           1.5          0.2  Iris-setosa\n",
       "4           5.0          3.6           1.4          0.2  Iris-setosa"
      ]
     },
     "execution_count": 3,
     "metadata": {},
     "output_type": "execute_result"
    }
   ],
   "source": [
    "df_iris = pd.read_csv('./iris.csv') #encoding='latin', utf-8 #header = None\n",
    "df_iris.head()"
   ]
  },
  {
   "cell_type": "markdown",
   "metadata": {},
   "source": [
    "auto-mpg\n",
    "\n",
    "- 'mpg'값을 target_value로 사용할 것\n",
    "- DataFrame의 index는 car name으로 할것\n",
    "- *표시가 되어있는 feature들은 모두 dummy variable로 전환\n",
    "- Na값이 포함된 행은 모두 삭제할 것.\n"
   ]
  },
  {
   "cell_type": "code",
   "execution_count": 4,
   "metadata": {},
   "outputs": [
    {
     "data": {
      "text/html": [
       "<div>\n",
       "<style scoped>\n",
       "    .dataframe tbody tr th:only-of-type {\n",
       "        vertical-align: middle;\n",
       "    }\n",
       "\n",
       "    .dataframe tbody tr th {\n",
       "        vertical-align: top;\n",
       "    }\n",
       "\n",
       "    .dataframe thead th {\n",
       "        text-align: right;\n",
       "    }\n",
       "</style>\n",
       "<table border=\"1\" class=\"dataframe\">\n",
       "  <thead>\n",
       "    <tr style=\"text-align: right;\">\n",
       "      <th></th>\n",
       "      <th>mpg</th>\n",
       "      <th>displacement</th>\n",
       "      <th>horsepower</th>\n",
       "      <th>weight</th>\n",
       "      <th>acceleration</th>\n",
       "      <th>cylinders*_4</th>\n",
       "      <th>cylinders*_5</th>\n",
       "      <th>cylinders*_6</th>\n",
       "      <th>cylinders*_8</th>\n",
       "      <th>model year*_71</th>\n",
       "      <th>...</th>\n",
       "      <th>model year*_75</th>\n",
       "      <th>model year*_76</th>\n",
       "      <th>model year*_77</th>\n",
       "      <th>model year*_78</th>\n",
       "      <th>model year*_79</th>\n",
       "      <th>model year*_80</th>\n",
       "      <th>model year*_81</th>\n",
       "      <th>model year*_82</th>\n",
       "      <th>origin*_2.0</th>\n",
       "      <th>origin*_3.0</th>\n",
       "    </tr>\n",
       "    <tr>\n",
       "      <th>car name</th>\n",
       "      <th></th>\n",
       "      <th></th>\n",
       "      <th></th>\n",
       "      <th></th>\n",
       "      <th></th>\n",
       "      <th></th>\n",
       "      <th></th>\n",
       "      <th></th>\n",
       "      <th></th>\n",
       "      <th></th>\n",
       "      <th></th>\n",
       "      <th></th>\n",
       "      <th></th>\n",
       "      <th></th>\n",
       "      <th></th>\n",
       "      <th></th>\n",
       "      <th></th>\n",
       "      <th></th>\n",
       "      <th></th>\n",
       "      <th></th>\n",
       "      <th></th>\n",
       "    </tr>\n",
       "  </thead>\n",
       "  <tbody>\n",
       "    <tr>\n",
       "      <th>chevrolet chevelle malibu</th>\n",
       "      <td>18.0</td>\n",
       "      <td>307.0</td>\n",
       "      <td>130.0</td>\n",
       "      <td>3504</td>\n",
       "      <td>12.0</td>\n",
       "      <td>0</td>\n",
       "      <td>0</td>\n",
       "      <td>0</td>\n",
       "      <td>1</td>\n",
       "      <td>0</td>\n",
       "      <td>...</td>\n",
       "      <td>0</td>\n",
       "      <td>0</td>\n",
       "      <td>0</td>\n",
       "      <td>0</td>\n",
       "      <td>0</td>\n",
       "      <td>0</td>\n",
       "      <td>0</td>\n",
       "      <td>0</td>\n",
       "      <td>0</td>\n",
       "      <td>0</td>\n",
       "    </tr>\n",
       "    <tr>\n",
       "      <th>buick skylark 320</th>\n",
       "      <td>15.0</td>\n",
       "      <td>350.0</td>\n",
       "      <td>165.0</td>\n",
       "      <td>3693</td>\n",
       "      <td>11.5</td>\n",
       "      <td>0</td>\n",
       "      <td>0</td>\n",
       "      <td>0</td>\n",
       "      <td>1</td>\n",
       "      <td>0</td>\n",
       "      <td>...</td>\n",
       "      <td>0</td>\n",
       "      <td>0</td>\n",
       "      <td>0</td>\n",
       "      <td>0</td>\n",
       "      <td>0</td>\n",
       "      <td>0</td>\n",
       "      <td>0</td>\n",
       "      <td>0</td>\n",
       "      <td>0</td>\n",
       "      <td>0</td>\n",
       "    </tr>\n",
       "    <tr>\n",
       "      <th>plymouth satellite</th>\n",
       "      <td>18.0</td>\n",
       "      <td>318.0</td>\n",
       "      <td>150.0</td>\n",
       "      <td>3436</td>\n",
       "      <td>11.0</td>\n",
       "      <td>0</td>\n",
       "      <td>0</td>\n",
       "      <td>0</td>\n",
       "      <td>1</td>\n",
       "      <td>0</td>\n",
       "      <td>...</td>\n",
       "      <td>0</td>\n",
       "      <td>0</td>\n",
       "      <td>0</td>\n",
       "      <td>0</td>\n",
       "      <td>0</td>\n",
       "      <td>0</td>\n",
       "      <td>0</td>\n",
       "      <td>0</td>\n",
       "      <td>0</td>\n",
       "      <td>0</td>\n",
       "    </tr>\n",
       "    <tr>\n",
       "      <th>amc rebel sst</th>\n",
       "      <td>16.0</td>\n",
       "      <td>304.0</td>\n",
       "      <td>150.0</td>\n",
       "      <td>3433</td>\n",
       "      <td>12.0</td>\n",
       "      <td>0</td>\n",
       "      <td>0</td>\n",
       "      <td>0</td>\n",
       "      <td>1</td>\n",
       "      <td>0</td>\n",
       "      <td>...</td>\n",
       "      <td>0</td>\n",
       "      <td>0</td>\n",
       "      <td>0</td>\n",
       "      <td>0</td>\n",
       "      <td>0</td>\n",
       "      <td>0</td>\n",
       "      <td>0</td>\n",
       "      <td>0</td>\n",
       "      <td>0</td>\n",
       "      <td>0</td>\n",
       "    </tr>\n",
       "    <tr>\n",
       "      <th>ford torino</th>\n",
       "      <td>17.0</td>\n",
       "      <td>302.0</td>\n",
       "      <td>140.0</td>\n",
       "      <td>3449</td>\n",
       "      <td>10.5</td>\n",
       "      <td>0</td>\n",
       "      <td>0</td>\n",
       "      <td>0</td>\n",
       "      <td>1</td>\n",
       "      <td>0</td>\n",
       "      <td>...</td>\n",
       "      <td>0</td>\n",
       "      <td>0</td>\n",
       "      <td>0</td>\n",
       "      <td>0</td>\n",
       "      <td>0</td>\n",
       "      <td>0</td>\n",
       "      <td>0</td>\n",
       "      <td>0</td>\n",
       "      <td>0</td>\n",
       "      <td>0</td>\n",
       "    </tr>\n",
       "  </tbody>\n",
       "</table>\n",
       "<p>5 rows × 23 columns</p>\n",
       "</div>"
      ],
      "text/plain": [
       "                            mpg  displacement  horsepower  weight  \\\n",
       "car name                                                            \n",
       "chevrolet chevelle malibu  18.0         307.0       130.0    3504   \n",
       "buick skylark 320          15.0         350.0       165.0    3693   \n",
       "plymouth satellite         18.0         318.0       150.0    3436   \n",
       "amc rebel sst              16.0         304.0       150.0    3433   \n",
       "ford torino                17.0         302.0       140.0    3449   \n",
       "\n",
       "                           acceleration  cylinders*_4  cylinders*_5  \\\n",
       "car name                                                              \n",
       "chevrolet chevelle malibu          12.0             0             0   \n",
       "buick skylark 320                  11.5             0             0   \n",
       "plymouth satellite                 11.0             0             0   \n",
       "amc rebel sst                      12.0             0             0   \n",
       "ford torino                        10.5             0             0   \n",
       "\n",
       "                           cylinders*_6  cylinders*_8  model year*_71  \\\n",
       "car name                                                                \n",
       "chevrolet chevelle malibu             0             1               0   \n",
       "buick skylark 320                     0             1               0   \n",
       "plymouth satellite                    0             1               0   \n",
       "amc rebel sst                         0             1               0   \n",
       "ford torino                           0             1               0   \n",
       "\n",
       "                              ...       model year*_75  model year*_76  \\\n",
       "car name                      ...                                        \n",
       "chevrolet chevelle malibu     ...                    0               0   \n",
       "buick skylark 320             ...                    0               0   \n",
       "plymouth satellite            ...                    0               0   \n",
       "amc rebel sst                 ...                    0               0   \n",
       "ford torino                   ...                    0               0   \n",
       "\n",
       "                           model year*_77  model year*_78  model year*_79  \\\n",
       "car name                                                                    \n",
       "chevrolet chevelle malibu               0               0               0   \n",
       "buick skylark 320                       0               0               0   \n",
       "plymouth satellite                      0               0               0   \n",
       "amc rebel sst                           0               0               0   \n",
       "ford torino                             0               0               0   \n",
       "\n",
       "                           model year*_80  model year*_81  model year*_82  \\\n",
       "car name                                                                    \n",
       "chevrolet chevelle malibu               0               0               0   \n",
       "buick skylark 320                       0               0               0   \n",
       "plymouth satellite                      0               0               0   \n",
       "amc rebel sst                           0               0               0   \n",
       "ford torino                             0               0               0   \n",
       "\n",
       "                           origin*_2.0  origin*_3.0  \n",
       "car name                                             \n",
       "chevrolet chevelle malibu            0            0  \n",
       "buick skylark 320                    0            0  \n",
       "plymouth satellite                   0            0  \n",
       "amc rebel sst                        0            0  \n",
       "ford torino                          0            0  \n",
       "\n",
       "[5 rows x 23 columns]"
      ]
     },
     "execution_count": 4,
     "metadata": {},
     "output_type": "execute_result"
    }
   ],
   "source": [
    "df_auto = pd.read_csv('./auto-mpg.csv')\n",
    "df_auto.set_index('car name', inplace = True)\n",
    "df_auto = pd.get_dummies(df_auto, columns=['cylinders*', 'model year*', 'origin*'], drop_first=True)\n",
    "\n",
    "# df2 = pd.get_dummies(df_auto, columns=['cylinders*', 'model year*', 'origin*'], drop_first=False)\n",
    "#drop_first = True는 k개의 dummy variable을 k-1개로 낮춰서 다룸\n",
    "\n",
    "df_auto.dropna(inplace = True) #Na값 제거\n",
    "\n",
    "df_auto.head()"
   ]
  },
  {
   "cell_type": "code",
   "execution_count": null,
   "metadata": {
    "scrolled": true
   },
   "outputs": [],
   "source": [
    "# 참고 dummy variable 바꾸는 방법 수동...\n",
    "df1 = auto_mpg_data.copy()[\"cylinders*\"]\n",
    "print(df1.head())\n",
    "df1 = pd.get_dummies(df1)\n",
    "print(df1.head())\n",
    "\n",
    "a = pd.concat([auto_mpg_data, df1], axis=1)\n",
    "\n",
    "dict={3:'cylinder3',4:'cylinder4',5:'cylinder5',6:'cylinder6',8:'cylinder8'}\n",
    "a.rename(columns=dict, inplace=True)\n",
    "\n",
    "a.drop(\"cylinders*\", axis=1, inplace=True)\n",
    "a.head()\n",
    "# print(a.head())\n",
    "\n",
    "df2 = auto_mpg_data.copy()[\"model year*\"]\n",
    "df2 = pd.get_dummies(df2)\n",
    "\n",
    "a = pd.concat([a, df2], axis=1)\n",
    "\n",
    "a.drop(\"model year*\", axis=1, inplace=True)\n",
    "\n",
    "\n",
    "df3 = auto_mpg_data.copy()[\"origin*\"]\n",
    "df3 = pd.get_dummies(df3)\n",
    "\n",
    "a = pd.concat([a, df3], axis=1)\n",
    "\n",
    "print(a[\"origin*\"].unique())\n",
    "a.drop(\"origin*\", axis=1, inplace=True)\n",
    "print(a.head())"
   ]
  },
  {
   "cell_type": "code",
   "execution_count": null,
   "metadata": {},
   "outputs": [],
   "source": [
    "a.dropna(inplace=True)"
   ]
  },
  {
   "cell_type": "code",
   "execution_count": null,
   "metadata": {},
   "outputs": [],
   "source": [
    "a.isnull()\n",
    "auto_mpg_data = a.copy()"
   ]
  },
  {
   "cell_type": "markdown",
   "metadata": {},
   "source": [
    "# Regression\n",
    "\n",
    "1. Linear Regression"
   ]
  },
  {
   "cell_type": "code",
   "execution_count": 5,
   "metadata": {},
   "outputs": [
    {
     "name": "stdout",
     "output_type": "stream",
     "text": [
      "    sepal length  sepal width  petal length  petal width\n",
      "14           5.8          4.0           1.2          0.2\n",
      "29           4.7          3.2           1.6          0.2\n",
      "33           5.5          4.2           1.4          0.2\n",
      "2            4.7          3.2           1.3          0.2\n",
      "96           5.7          2.9           4.2          1.3\n",
      "-----------------------------------------------------------------\n",
      "              class\n",
      "14      Iris-setosa\n",
      "29      Iris-setosa\n",
      "33      Iris-setosa\n",
      "2       Iris-setosa\n",
      "96  Iris-versicolor\n"
     ]
    }
   ],
   "source": [
    "#Data Partition\n",
    "from sklearn.model_selection import train_test_split\n",
    "X_iris = df_iris[['sepal length', 'sepal width', 'petal length','petal width']]\n",
    "#X_iris = df_iris.loc[:, 'sepal length':'petal width'] #loc index를 받고, iloc는 index 숫자를 받음\n",
    "y_iris = df_iris[['class']] # df[\"컬럼이름\"]은 Series, df[[\"컬럼이름\"]]은 DataFrame\n",
    "\n",
    "X_train, X_test, y_train, y_test = train_test_split(X_iris, y_iris, test_size = 0.3)\n",
    "# X_train, X_test, y_train, y_test = train_test_split(iris_data[['sepal length', 'sepal width', 'petal length','petal width']],\n",
    "#                                                     iris_data[['class']], test_size=0.3)\n",
    "#\n",
    "#input: X, y, test_size\n",
    "#output: X_train, X_test, y_train, y_test\n",
    "\n",
    "print(X_train.head())\n",
    "print('-----------------------------------------------------------------')\n",
    "print(y_train.head())"
   ]
  },
  {
   "cell_type": "markdown",
   "metadata": {},
   "source": [
    "Ex1) Iris 데이터 Feature중 correlation이 가장 큰 변수는 무엇인가?\n",
    "\n",
    "Ans) Petal length, petal width, correlation 계수 0.9628"
   ]
  },
  {
   "cell_type": "code",
   "execution_count": 8,
   "metadata": {},
   "outputs": [
    {
     "name": "stdout",
     "output_type": "stream",
     "text": [
      "              sepal length  sepal width  petal length  petal width\n",
      "sepal length      1.000000    -0.109369      0.871754     0.817954\n",
      "sepal width      -0.109369     1.000000     -0.420516    -0.356544\n",
      "petal length      0.871754    -0.420516      1.000000     0.962757\n",
      "petal width       0.817954    -0.356544      0.962757     1.000000\n"
     ]
    }
   ],
   "source": [
    "iris_corr = X_iris.corr() #Data Correlation matrix\n",
    "print(iris_corr)"
   ]
  },
  {
   "cell_type": "markdown",
   "metadata": {},
   "source": [
    "Ex2) X=petal_width, Y=petal length로 하여 회귀 관계식 계산"
   ]
  },
  {
   "cell_type": "code",
   "execution_count": 9,
   "metadata": {},
   "outputs": [
    {
     "name": "stdout",
     "output_type": "stream",
     "text": [
      "   petal width\n",
      "0          0.2\n",
      "1          0.2\n",
      "2          0.2\n",
      "3          0.2\n",
      "4          0.2\n",
      "   petal length\n",
      "0           1.4\n",
      "1           1.4\n",
      "2           1.3\n",
      "3           1.5\n",
      "4           1.4\n",
      "train R2 is 0.926901\n",
      "선형 회귀식: y = 2.225885x+ 1.090572\n"
     ]
    }
   ],
   "source": [
    "x = X_iris[['petal width']]\n",
    "y = X_iris[['petal length']]\n",
    "print(x[:5])\n",
    "print(y[:5])\n",
    "\n",
    "from sklearn.linear_model import LinearRegression\n",
    "reg = LinearRegression()\n",
    "reg.fit(x, y)\n",
    "print(\"train R2 is %f\"%(reg.score(x,y)))\n",
    "print(\"선형 회귀식: y = %fx+ %f\"%(reg.coef_, reg.intercept_))"
   ]
  },
  {
   "cell_type": "code",
   "execution_count": 10,
   "metadata": {},
   "outputs": [
    {
     "data": {
      "image/png": "[encoded data removed]",
      "text/plain": [
       "<Figure size 720x720 with 1 Axes>"
      ]
     },
     "metadata": {
      "needs_background": "light"
     },
     "output_type": "display_data"
    }
   ],
   "source": [
    "plt.figure(figsize=(10,10))\n",
    "plt.plot(x,y, 'ro', markersize=1)\n",
    "plt.xlabel('petal width')\n",
    "plt.ylabel('petal length')\n",
    "x_min = x.min()\n",
    "x_max = x.max()\n",
    "plt.plot([x_min, x_max], reg.predict([x_min, x_max]))\n",
    "plt.show()"
   ]
  },
  {
   "cell_type": "markdown",
   "metadata": {},
   "source": [
    "Ex3) setosa에 대해서 X=petal width, Y=petal length로 하여 회귀식 및 R^2"
   ]
  },
  {
   "cell_type": "code",
   "execution_count": null,
   "metadata": {},
   "outputs": [],
   "source": [
    "x = X_iris[y_iris[\"class\"] == \"Iris-setosa\"][['petal width']]\n",
    "y = X_iris[y_iris[\"class\"] == \"Iris-setosa\"][['petal length']]\n",
    "print(x[:5])\n",
    "print(y[:5])\n",
    "\n",
    "from sklearn.linear_model import LinearRegression\n",
    "reg = LinearRegression()\n",
    "reg.fit(x, y)\n",
    "print(\"train R2 is %f\"%(reg.score(x,y)))\n",
    "print(\"선형 회귀식: y = %fx+ %f\"%(reg.coef_, reg.intercept_))"
   ]
  },
  {
   "cell_type": "code",
   "execution_count": 12,
   "metadata": {},
   "outputs": [
    {
     "data": {
      "text/plain": [
       "array([-3.91588481,  0.93837407,  0.12062904,  0.64031122, -1.431193  ])"
      ]
     },
     "execution_count": 12,
     "metadata": {},
     "output_type": "execute_result"
    }
   ],
   "source": [
    "#K-fold cross validation\n",
    "from sklearn.model_selection import cross_val_score \n",
    "#나중에 모델 있을 때 확인\n",
    "cross_val_score(reg, x, y, cv=5)"
   ]
  },
  {
   "cell_type": "code",
   "execution_count": 15,
   "metadata": {
    "scrolled": true
   },
   "outputs": [
    {
     "name": "stdout",
     "output_type": "stream",
     "text": [
      "[[0 1]\n",
      " [1 2]]\n",
      "-----------------------------------------------------------------\n",
      "태우`s precision score is 0.6666666666666666\n",
      "태현`s precision score is 0.666667\n",
      "-----------------------------------------------------------------\n",
      "recall score is 0.6666666666666666\n",
      "-----------------------------------------------------------------\n",
      "F1 score is 0.666667\n",
      "F1 score is 0.6666666666666666\n"
     ]
    }
   ],
   "source": [
    "#Model evaluation, confusion matrix\n",
    "from sklearn.metrics import confusion_matrix\n",
    "\n",
    "y_true = np.array([1,0,1,1])\n",
    "y_pred = np.array([1,1,1,0])\n",
    "\n",
    "con_mat = confusion_matrix(y_true, y_pred)\n",
    "print(con_mat) #tn, fp, fn, tp\n",
    "print('-----------------------------------------------------------------')\n",
    "from sklearn.metrics import precision_score, recall_score, f1_score\n",
    "print(f'태우`s precision score is {precision_score(y_true,y_pred)}')\n",
    "print(\"태현`s precision score is %f\"%(precision_score(y_true, y_pred)))\n",
    "print('-----------------------------------------------------------------')\n",
    "print(f'recall score is {recall_score(y_true, y_pred)}')\n",
    "print('-----------------------------------------------------------------')\n",
    "print('F1 score is %f'%(f1_score(y_true, y_pred)))\n",
    "print('F1 score is {}'.format(f1_score(y_true, y_pred)))"
   ]
  },
  {
   "cell_type": "markdown",
   "metadata": {},
   "source": [
    "## ROC curve"
   ]
  },
  {
   "cell_type": "code",
   "execution_count": 17,
   "metadata": {},
   "outputs": [
    {
     "name": "stdout",
     "output_type": "stream",
     "text": [
      "0.3333333333333333\n"
     ]
    }
   ],
   "source": [
    "from sklearn.metrics import roc_auc_score\n",
    "score = roc_auc_score(y_true, y_pred)\n",
    "print(score)"
   ]
  },
  {
   "cell_type": "code",
   "execution_count": 32,
   "metadata": {},
   "outputs": [
    {
     "name": "stdout",
     "output_type": "stream",
     "text": [
      "                      displacement  horsepower  weight  acceleration  \\\n",
      "car name                                                               \n",
      "plymouth fury iii            318.0       150.0    4135          13.5   \n",
      "mazda rx-7 gs                 70.0       100.0    2420          12.5   \n",
      "ford fairmont futura         140.0        92.0    2865          16.4   \n",
      "plymouth satellite           318.0       150.0    3436          11.0   \n",
      "toyota cressida              168.0       116.0    2900          12.6   \n",
      "\n",
      "                      cylinders*_4  cylinders*_5  cylinders*_6  cylinders*_8  \\\n",
      "car name                                                                       \n",
      "plymouth fury iii                0             0             0             1   \n",
      "mazda rx-7 gs                    0             0             0             0   \n",
      "ford fairmont futura             1             0             0             0   \n",
      "plymouth satellite               0             0             0             1   \n",
      "toyota cressida                  0             0             1             0   \n",
      "\n",
      "                      model year*_71  model year*_72     ...       \\\n",
      "car name                                                 ...        \n",
      "plymouth fury iii                  0               1     ...        \n",
      "mazda rx-7 gs                      0               0     ...        \n",
      "ford fairmont futura               0               0     ...        \n",
      "plymouth satellite                 0               0     ...        \n",
      "toyota cressida                    0               0     ...        \n",
      "\n",
      "                      model year*_75  model year*_76  model year*_77  \\\n",
      "car name                                                               \n",
      "plymouth fury iii                  0               0               0   \n",
      "mazda rx-7 gs                      0               0               0   \n",
      "ford fairmont futura               0               0               0   \n",
      "plymouth satellite                 0               0               0   \n",
      "toyota cressida                    0               0               0   \n",
      "\n",
      "                      model year*_78  model year*_79  model year*_80  \\\n",
      "car name                                                               \n",
      "plymouth fury iii                  0               0               0   \n",
      "mazda rx-7 gs                      0               0               1   \n",
      "ford fairmont futura               0               0               0   \n",
      "plymouth satellite                 0               0               0   \n",
      "toyota cressida                    0               0               0   \n",
      "\n",
      "                      model year*_81  model year*_82  origin*_2.0  origin*_3.0  \n",
      "car name                                                                        \n",
      "plymouth fury iii                  0               0            0            0  \n",
      "mazda rx-7 gs                      0               0            0            1  \n",
      "ford fairmont futura               0               1            0            0  \n",
      "plymouth satellite                 0               0            0            0  \n",
      "toyota cressida                    1               0            0            1  \n",
      "\n",
      "[5 rows x 22 columns]\n"
     ]
    }
   ],
   "source": [
    "#Regression\n",
    "X = df_auto.drop('mpg',axis=1)\n",
    "y = df_auto['mpg']\n",
    "X_train, X_test, y_train, y_test = train_test_split(X, y, test_size=0.3)\n",
    "print(X_train.head())"
   ]
  },
  {
   "cell_type": "code",
   "execution_count": 22,
   "metadata": {},
   "outputs": [
    {
     "name": "stdout",
     "output_type": "stream",
     "text": [
      "[ 1.61618712e-02 -3.96882303e-02 -5.57346305e-03  3.39780494e-02\n",
      "  7.12021107e+00  1.75722218e+00  4.24191862e+00  6.41218099e+00\n",
      "  9.12542549e-01 -1.08946362e+00 -3.89148785e-01  1.09406983e+00\n",
      "  1.15338899e+00  1.41420239e+00  3.16753319e+00  3.23607459e+00\n",
      "  4.28286031e+00  8.92269336e+00  6.35038213e+00  8.75019244e+00\n",
      "  1.69729048e+00  2.18501598e+00] 30.812744779211503\n",
      "0.8613255722088344\n"
     ]
    }
   ],
   "source": [
    "#기본 Linear regression\n",
    "from sklearn.linear_model import LinearRegression\n",
    "reg = LinearRegression()\n",
    "reg.fit(X_train, y_train)\n",
    "print(reg.coef_, reg.intercept_)\n",
    "print(reg.score(X_test, y_test)) #R^2 계수"
   ]
  },
  {
   "cell_type": "code",
   "execution_count": 23,
   "metadata": {},
   "outputs": [
    {
     "name": "stdout",
     "output_type": "stream",
     "text": [
      "[ 1.09280215e-02 -5.63585991e-02 -4.95253842e-03  0.00000000e+00\n",
      "  1.56390393e+00 -0.00000000e+00 -1.29855312e+00  0.00000000e+00\n",
      " -0.00000000e+00 -1.51570062e+00 -9.33437834e-01 -0.00000000e+00\n",
      " -0.00000000e+00 -0.00000000e+00  0.00000000e+00  0.00000000e+00\n",
      "  7.10367168e-01  5.08127251e+00  2.83544210e+00  4.74064055e+00\n",
      "  0.00000000e+00  9.45619854e-01] 40.471211214496414\n",
      "0.848952848956965\n"
     ]
    }
   ],
   "source": [
    "# Lasso regression\n",
    "from sklearn.linear_model import Lasso\n",
    "\n",
    "reg = Lasso(alpha = 0.1)\n",
    "reg.fit(X_train, y_train)\n",
    "print(reg.coef_, reg.intercept_)\n",
    "print(reg.score(X_test, y_test)) #R^2 계수"
   ]
  },
  {
   "cell_type": "code",
   "execution_count": 24,
   "metadata": {},
   "outputs": [
    {
     "name": "stdout",
     "output_type": "stream",
     "text": [
      "[ 1.64924036e-02 -6.57094749e-02 -4.70495180e-03 -6.12025419e-03\n",
      "  2.63750992e+00 -3.51788366e-01 -8.53008855e-01  9.31095341e-01\n",
      " -1.12527697e+00 -2.65042801e+00 -2.01096029e+00 -1.09484345e+00\n",
      " -9.80471275e-01 -7.27809548e-01  4.40954738e-01  6.63128241e-01\n",
      "  1.46577981e+00  4.79743241e+00  2.98779169e+00  4.69728333e+00\n",
      "  9.14116950e-01  1.91150062e+00] 38.853381698824755\n",
      "0.8648649702558993\n"
     ]
    }
   ],
   "source": [
    "# Ridge regression\n",
    "from sklearn.linear_model import Ridge\n",
    "\n",
    "reg = Ridge(alpha = 5)\n",
    "reg.fit(X_train, y_train)\n",
    "print(reg.coef_, reg.intercept_)\n",
    "print(reg.score(X_test, y_test)) #R^2 계수"
   ]
  },
  {
   "cell_type": "markdown",
   "metadata": {
    "collapsed": true
   },
   "source": [
    "# Classification\n",
    "\n",
    "1. Logistic Regression"
   ]
  },
  {
   "cell_type": "code",
   "execution_count": 42,
   "metadata": {},
   "outputs": [],
   "source": [
    "#Data Partition\n",
    "from sklearn.model_selection import train_test_split\n",
    "X_iris = df_iris[['sepal length', 'sepal width', 'petal length','petal width']][df_iris['class'] != 'Iris-setosa']\n",
    "#X_iris = df_iris.loc[:, 'sepal length':'petal width'] #loc index를 받고, iloc는 index 숫자를 받음\n",
    "y_iris = df_iris[['class']][df_iris['class'] != 'Iris-setosa']\n",
    "# y_iris = df_iris[['class']] # df[\"컬럼이름\"]은 Series, df[[\"컬럼이름\"]]은 DataFrame\n",
    "\n",
    "X_train, X_test, y_train, y_test = train_test_split(X_iris, y_iris, test_size = 0.3)"
   ]
  },
  {
   "cell_type": "code",
   "execution_count": 41,
   "metadata": {},
   "outputs": [
    {
     "data": {
      "text/plain": [
       "array(['Iris-virginica', 'Iris-versicolor'], dtype=object)"
      ]
     },
     "execution_count": 41,
     "metadata": {},
     "output_type": "execute_result"
    }
   ],
   "source": [
    "y_train['class'].unique()"
   ]
  },
  {
   "cell_type": "code",
   "execution_count": 43,
   "metadata": {},
   "outputs": [
    {
     "name": "stdout",
     "output_type": "stream",
     "text": [
      "[0.85952479 0.14047521]\n",
      "[[-1.70690955 -1.53277945  2.46921149  2.5563083 ]]\n",
      "[-1.21565523]\n",
      "[-1.70690955 -1.53277945  2.46921149  2.5563083 ]\n"
     ]
    },
    {
     "name": "stderr",
     "output_type": "stream",
     "text": [
      "C:\\Users\\yalhl\\Anaconda3\\lib\\site-packages\\sklearn\\linear_model\\logistic.py:433: FutureWarning: Default solver will be changed to 'lbfgs' in 0.22. Specify a solver to silence this warning.\n",
      "  FutureWarning)\n",
      "C:\\Users\\yalhl\\Anaconda3\\lib\\site-packages\\sklearn\\utils\\validation.py:761: DataConversionWarning: A column-vector y was passed when a 1d array was expected. Please change the shape of y to (n_samples, ), for example using ravel().\n",
      "  y = column_or_1d(y, warn=True)\n"
     ]
    }
   ],
   "source": [
    "#로지스틱\n",
    "from sklearn.linear_model import LogisticRegression\n",
    "\n",
    "clf = LogisticRegression()\n",
    "clf.fit(X_iris, y_iris)\n",
    "\n",
    "# print(clf.predict_log_proba(X_iris)) #train data에 대한 log p값\n",
    "print(clf.predict_proba(X_iris)[2]) #train data에 대한 p값 벡터\n",
    "\n",
    "coef = clf.coef_\n",
    "incp = clf.intercept_\n",
    "print(clf.coef_) #회귀 계수\n",
    "print(clf.intercept_) #회귀 절편\n",
    "\n",
    "print(coef[0])\n",
    "# print(coef, incp)\n",
    "# print(sum(X_iris.iloc[2]*coef[0]) + incp[0])\n",
    "# a = sum(X_iris.iloc[2]*coef[0]) + incp[0]\n",
    "# print('======================================')\n",
    "# aa = sp.exp(a)/(1+sp.exp(a))\n",
    "\n",
    "# print(sum(X_iris.iloc[2]*coef[1]) + incp[1])\n",
    "# b = sum(X_iris.iloc[2]*coef[1]) + incp[1]\n",
    "# print('======================================')\n",
    "# bb = sp.exp(b)/(1+sp.exp(b))\n",
    "\n",
    "# print(sum(X_iris.iloc[2]*coef[2]) + incp[2])\n",
    "# c = sum(X_iris.iloc[2]*coef[2]) + incp[2]\n",
    "# print('======================================')\n",
    "# cc = sp.exp(c)/(1+sp.exp(c))\n",
    "\n",
    "# print(aa/(aa+bb+cc))"
   ]
  },
  {
   "cell_type": "markdown",
   "metadata": {},
   "source": [
    "## ROC curve for classification"
   ]
  },
  {
   "cell_type": "code",
   "execution_count": 57,
   "metadata": {},
   "outputs": [
    {
     "name": "stderr",
     "output_type": "stream",
     "text": [
      "C:\\Users\\yalhl\\Anaconda3\\lib\\site-packages\\sklearn\\linear_model\\logistic.py:433: FutureWarning: Default solver will be changed to 'lbfgs' in 0.22. Specify a solver to silence this warning.\n",
      "  FutureWarning)\n"
     ]
    }
   ],
   "source": [
    "trY = 1*( y_train['class'] == 'Iris-virginica')\n",
    "trY.head()\n",
    "teY = 1*( y_test['class'] == 'Iris-virginica')\n",
    "\n",
    "clf = LogisticRegression()\n",
    "clf.fit(X_train, trY)\n",
    "\n",
    "yhat = clf.predict(X_test)\n"
   ]
  },
  {
   "cell_type": "code",
   "execution_count": 66,
   "metadata": {},
   "outputs": [
    {
     "data": {
      "image/png": "[encoded data removed]",
      "text/plain": [
       "<Figure size 432x288 with 1 Axes>"
      ]
     },
     "metadata": {
      "needs_background": "light"
     },
     "output_type": "display_data"
    },
    {
     "name": "stdout",
     "output_type": "stream",
     "text": [
      "[2 1 0]\n"
     ]
    }
   ],
   "source": [
    "roc_auc_score(teY, yhat)\n",
    "fpr, tpr, ths = roc_curve(teY, yhat)\n",
    "plt.plot(fpr,tpr)\n",
    "plt.plot([0,1],[0,1], linestyle='--')\n",
    "plt.xlabel('FPR')\n",
    "plt.ylabel('TPR')\n",
    "plt.show()\n",
    "print(ths)"
   ]
  },
  {
   "cell_type": "markdown",
   "metadata": {},
   "source": [
    "각 case별로 Odds를 계산해보시오"
   ]
  },
  {
   "cell_type": "code",
   "execution_count": null,
   "metadata": {},
   "outputs": [],
   "source": [
    "p0 = clf.predict_proba(X_iris).T[0]\n",
    "p1 = clf.predict_proba(X_iris).T[1]\n",
    "\n",
    "print(p0/p1)\n",
    "# print(p1/p0)\n",
    "# print('==========================================')\n",
    "# print(sp.log(p0/p1))\n",
    "# print(sp.log(p1/p0))"
   ]
  },
  {
   "cell_type": "markdown",
   "metadata": {},
   "source": [
    "2\\. kNN"
   ]
  },
  {
   "cell_type": "code",
   "execution_count": null,
   "metadata": {},
   "outputs": [],
   "source": [
    "#Data Partition\n",
    "from sklearn.model_selection import train_test_split\n",
    "X_iris = df_iris[['sepal length', 'sepal width', 'petal length','petal width']]\n",
    "y_iris = df_iris[['class']]\n",
    "\n",
    "X_train, X_test, y_train, y_test = train_test_split(X_iris, y_iris, test_size = 0.2)"
   ]
  },
  {
   "cell_type": "code",
   "execution_count": null,
   "metadata": {},
   "outputs": [],
   "source": [
    "# knn\n",
    "from sklearn.neighbors import KNeighborsClassifier\n",
    "\n",
    "scores = []\n",
    "for k in [5, 10, 35, 50, 100]:\n",
    "    knn = KNeighborsClassifier(n_neighbors=k)\n",
    "    knn.fit(X_train, y_train)\n",
    "    scores.append(knn.score(X_test, y_test))\n",
    "\n",
    "print(scores)"
   ]
  },
  {
   "cell_type": "code",
   "execution_count": null,
   "metadata": {},
   "outputs": [],
   "source": [
    "print(knn.predict_proba(X_test.iloc[10].reshape(1,-1))) #각 클래스에 속할 확률\n",
    "print('========================================')\n",
    "print(knn.kneighbors(X_test.iloc[0].reshape(1,-1), n_neighbors=10)) #distance, index 순서로\n",
    "print('========================================')\n",
    "print(X_train.iloc[knn.kneighbors(X_test.iloc[0].reshape(1,-1), n_neighbors=10, return_distance=False)[0]]) #가장 가까운 10개 데이터"
   ]
  },
  {
   "cell_type": "markdown",
   "metadata": {
    "collapsed": true
   },
   "source": [
    "3 \\. Naive Bayes"
   ]
  },
  {
   "cell_type": "code",
   "execution_count": null,
   "metadata": {},
   "outputs": [],
   "source": [
    "#Data Partition\n",
    "from sklearn.model_selection import train_test_split\n",
    "X_iris = df_iris[['sepal length', 'sepal width', 'petal length','petal width']]\n",
    "y_iris = df_iris[['class']]\n",
    "\n",
    "X_train, X_test, y_train, y_test = train_test_split(X_iris, y_iris, test_size = 0.2)"
   ]
  },
  {
   "cell_type": "code",
   "execution_count": null,
   "metadata": {},
   "outputs": [],
   "source": [
    "from sklearn.naive_bayes import MultinomialNB\n",
    "clf = MultinomialNB(alpha=1) #alpha는 Laplace smoothing\n",
    "clf.fit(X_train, y_train)\n",
    "print(clf.score(X_train,y_train)) #train acc\n",
    "print(clf.score(X_test, y_test)) #test acc\n",
    "print('===============================')\n",
    "print(clf.predict_proba(X_train.iloc[0].reshape(1,-1)))\n"
   ]
  },
  {
   "cell_type": "markdown",
   "metadata": {
    "collapsed": true
   },
   "source": [
    "4 \\. Decision Tree"
   ]
  },
  {
   "cell_type": "code",
   "execution_count": null,
   "metadata": {},
   "outputs": [],
   "source": [
    "#Data Partition\n",
    "from sklearn.model_selection import train_test_split\n",
    "X_iris = df_iris[['sepal length', 'sepal width', 'petal length','petal width']]\n",
    "y_iris = df_iris[['class']]\n",
    "\n",
    "X_train, X_test, y_train, y_test = train_test_split(X_iris, y_iris, test_size = 0.2)"
   ]
  },
  {
   "cell_type": "code",
   "execution_count": null,
   "metadata": {},
   "outputs": [],
   "source": [
    "from sklearn.tree import DecisionTreeClassifier\n",
    "clf = DecisionTreeClassifier(criterion='gini', max_depth=6) #gini, entropy\n",
    "clf.fit(X_train, y_train)\n",
    "print(clf.score(X_train, y_train))\n",
    "print(clf.score(X_test, y_test))"
   ]
  },
  {
   "cell_type": "code",
   "execution_count": null,
   "metadata": {},
   "outputs": [],
   "source": [
    "from sklearn.tree import export_graphviz\n",
    "# Export as dot file\n",
    "dot_data = export_graphviz(clf, out_file=None, \n",
    "                feature_names = X_iris.columns,\n",
    "                class_names = y_iris['class'].unique(),\n",
    "                rounded = True, proportion = False, \n",
    "                precision = 2, filled = True)"
   ]
  },
  {
   "cell_type": "code",
   "execution_count": null,
   "metadata": {
    "scrolled": true
   },
   "outputs": [],
   "source": [
    "print(dot_data)"
   ]
  },
  {
   "cell_type": "markdown",
   "metadata": {
    "collapsed": true
   },
   "source": [
    "5 \\. Random Forest"
   ]
  },
  {
   "cell_type": "code",
   "execution_count": 64,
   "metadata": {},
   "outputs": [],
   "source": [
    "#Data Partition\n",
    "from sklearn.model_selection import train_test_split\n",
    "X_iris = df_iris[['sepal length', 'sepal width', 'petal length','petal width']]\n",
    "y_iris = df_iris[['class']]\n",
    "\n",
    "X_train, X_test, y_train, y_test = train_test_split(X_iris, y_iris, test_size = 0.2)"
   ]
  },
  {
   "cell_type": "code",
   "execution_count": 65,
   "metadata": {},
   "outputs": [
    {
     "name": "stdout",
     "output_type": "stream",
     "text": [
      "1.0\n",
      "0.9666666666666667\n"
     ]
    },
    {
     "name": "stderr",
     "output_type": "stream",
     "text": [
      "C:\\Users\\yalhl\\Anaconda3\\lib\\site-packages\\ipykernel_launcher.py:3: DataConversionWarning: A column-vector y was passed when a 1d array was expected. Please change the shape of y to (n_samples,), for example using ravel().\n",
      "  This is separate from the ipykernel package so we can avoid doing imports until\n"
     ]
    }
   ],
   "source": [
    "from sklearn.ensemble import RandomForestClassifier\n",
    "clf = RandomForestClassifier(n_estimators=100, criterion='gini') #n_estimators:# of trees / criterion:'gini', 'entropy'\n",
    "clf.fit(X_train, y_train)\n",
    "print(clf.score(X_train, y_train))\n",
    "print(clf.score(X_test, y_test))"
   ]
  },
  {
   "cell_type": "markdown",
   "metadata": {
    "collapsed": true
   },
   "source": [
    "# Clustering\n",
    "\n",
    "1. Hierarchical Clustering"
   ]
  },
  {
   "cell_type": "code",
   "execution_count": 5,
   "metadata": {},
   "outputs": [],
   "source": [
    "#Data Partition\n",
    "from sklearn.model_selection import train_test_split\n",
    "X_iris = df_iris[['sepal length', 'sepal width', 'petal length','petal width']]\n",
    "y_iris = df_iris[['class']]\n",
    "\n",
    "X_train, X_test, y_train, y_test = train_test_split(X_iris, y_iris, test_size = 0.2)"
   ]
  },
  {
   "cell_type": "code",
   "execution_count": 6,
   "metadata": {},
   "outputs": [
    {
     "name": "stdout",
     "output_type": "stream",
     "text": [
      "[1 2 0 1 2 0 0 2 1 2 0 0 0 0 0 0 1 2 2 0 1 2 0 0 0 0 0 2 2 0 2 0 0 0 1 2 0\n",
      " 1 0 0 0 1 0 0 0 1 1 1 2 0 1 0 2 0 0 0 0 2 2 0 2 1 2 1 1 0 1 1 0 1 0 2 0 0\n",
      " 2 1 1 1 1 0 2 0 1 0 0 2 1 2 1 2 2 1 1 2 0 1 1 1 1 1 0 0 1 2 0 1 0 0 0 0 1\n",
      " 0 0 1 1 0 0 0 2 2]\n",
      "[1 2 0 1 2 0 0 2 1 2 0 0 0 0 0 0 1 2 2 0 1 2 0 0 0 0 0 2 2 0 2 0 0 0 1 2 0\n",
      " 1 0 0 0 1 0 0 0 1 1 1 2 0 1 0 2 0 0 0 0 2 2 0 2 1 2 1 1 0 1 1 0 1 0 2 0 0\n",
      " 2 1 1 1 1 0 2 0 1 0 0 2 1 2 1 2 2 1 1 2 0 1 1 1 1 1 0 0 1 2 0 1 0 0 0 0 1\n",
      " 0 0 1 1 0 0 0 2 2]\n"
     ]
    }
   ],
   "source": [
    "from sklearn.cluster import AgglomerativeClustering\n",
    "clu = AgglomerativeClustering(n_clusters=3, affinity='euclidean', #affinity='euclidean', 'l1', '2l', 'manhattan', 'cosine', 'precomputed'\n",
    "                             linkage='ward') #linkage='ward', 'complete', 'average', 'single'\n",
    "clu.fit(X_train)\n",
    "print(clu.labels_)\n",
    "\n",
    "print(clu.fit_predict(X_train))\n",
    "\n",
    "# clu.fit() -> clu.labels_  == clu.fit_predict()"
   ]
  },
  {
   "cell_type": "markdown",
   "metadata": {
    "collapsed": true
   },
   "source": [
    "2 \\. K-means"
   ]
  },
  {
   "cell_type": "code",
   "execution_count": 7,
   "metadata": {},
   "outputs": [],
   "source": [
    "#Data Partition\n",
    "from sklearn.model_selection import train_test_split\n",
    "X_iris = df_iris[['sepal length', 'sepal width', 'petal length','petal width']]\n",
    "y_iris = df_iris[['class']]\n",
    "\n",
    "X_train, X_test, y_train, y_test = train_test_split(X_iris, y_iris, test_size = 0.2)"
   ]
  },
  {
   "cell_type": "code",
   "execution_count": 8,
   "metadata": {},
   "outputs": [
    {
     "name": "stdout",
     "output_type": "stream",
     "text": [
      "[0 2 2 1 0 1 0 0 1 1 0 2 1 2 1 2 1 1 0 2 2 0 0 2 2 0 1 1 2 0 0 0 0 0 1 2 2\n",
      " 1 0 1 1 1 2 1 0 1 0 1 0 0 1 2 1 0 0 2 0 1 1 1 2 1 0 0 1 1 0 0 1 2 1 0 1 0\n",
      " 0 1 0 2 2 2 0 0 1 0 0 1 1 2 1 0 2 0 0 0 1 0 1 1 1 2 1 2 0 1 2 2 2 0 1 0 0\n",
      " 0 0 0 2 0 2 2 1 0]\n",
      "[[5.8875     2.73541667 4.40416667 1.43125   ]\n",
      " [5.00952381 3.41666667 1.47380952 0.24285714]\n",
      " [6.84333333 3.08333333 5.65666667 2.07      ]]\n",
      "56.15515476190476\n",
      "[1 1 0 1 2 0 0 1 2 2 0 2 0 2 0 0 0 0 0 2 0 0 2 1 2 0 2 1 1 1]\n",
      "[2 0 0 1 2 1 2 2 1 1 2 0 1 0 1 0 1 1 2 0 0 2 2 0 0 2 1 1 0 2 2 2 2 2 1 0 0\n",
      " 1 2 1 1 1 0 1 2 1 2 1 2 2 1 0 1 2 2 0 2 1 1 1 0 1 2 2 1 1 2 2 1 0 1 2 1 2\n",
      " 2 1 2 0 0 0 2 2 1 2 2 1 1 0 1 2 0 2 2 2 1 2 1 1 1 0 1 0 2 1 0 0 0 2 1 2 2\n",
      " 2 2 2 0 2 0 0 1 2]\n"
     ]
    }
   ],
   "source": [
    "from sklearn.cluster import KMeans\n",
    "clu = KMeans(n_clusters=3)\n",
    "clu.fit(X_train)\n",
    "print(clu.labels_)\n",
    "\n",
    "print(clu.cluster_centers_)\n",
    "print(clu.inertia_) # sum of squared distances\n",
    "\n",
    "print(clu.predict(X_test))\n",
    "\n",
    "print(clu.fit_predict(X_train))\n",
    "\n",
    "# clu.fit() -> clu.labels_  == clu.fit_predict()"
   ]
  },
  {
   "cell_type": "markdown",
   "metadata": {
    "collapsed": true
   },
   "source": [
    "# Dimension Reduction\n",
    "\n",
    "1. PCA (Principal Component Analysis)"
   ]
  },
  {
   "cell_type": "code",
   "execution_count": 9,
   "metadata": {},
   "outputs": [],
   "source": [
    "#Data Partition\n",
    "from sklearn.model_selection import train_test_split\n",
    "X_iris = df_iris[['sepal length', 'sepal width', 'petal length','petal width']]\n",
    "y_iris = df_iris[['class']]\n",
    "\n",
    "X_train, X_test, y_train, y_test = train_test_split(X_iris, y_iris, test_size = 0.2)"
   ]
  },
  {
   "cell_type": "code",
   "execution_count": 10,
   "metadata": {},
   "outputs": [
    {
     "name": "stdout",
     "output_type": "stream",
     "text": [
      "[[ 0.36678499 -0.08265687  0.85361804  0.36051748]\n",
      " [ 0.65376583  0.73152938 -0.17760318 -0.07689026]\n",
      " [-0.58794581  0.60231063  0.08580979  0.53308378]]\n",
      "[0.92476679 0.05256867 0.0170238 ]\n",
      "[22.48906489  5.36190085  3.05129008]\n",
      "=======================================================================\n",
      "[[ 2.92637785  0.7875507   0.44024106]\n",
      " [ 0.81778932 -0.14798351  0.05377915]\n",
      " [ 1.44826133 -0.13156861 -0.13134978]\n",
      " [-2.37365483  1.37056965  0.2898073 ]\n",
      " [-2.39854784  0.22141875  0.27448754]\n",
      " [ 1.97495991 -0.17028434  0.13171131]\n",
      " [ 0.51675972 -0.0869262   0.14706185]\n",
      " [ 0.37956492 -0.27545425  0.0978032 ]\n",
      " [ 1.3931712  -0.26983614  0.3842158 ]\n",
      " [ 1.12055442 -0.07024931  0.47893499]\n",
      " [-2.58794576  1.12664897  0.1717366 ]\n",
      " [ 3.50780792  0.46109333 -0.55063636]\n",
      " [-2.61985095  0.19678223 -0.00755801]\n",
      " [-2.5014264  -0.11358984 -0.23990128]\n",
      " [ 2.62171655  0.56652245 -0.18242282]\n",
      " [ 1.41734151 -0.56236057  0.31562557]\n",
      " [ 1.29444911  0.69740952 -0.38961989]\n",
      " [-2.58304908 -0.17119007 -0.06208106]\n",
      " [-2.30241335  0.42276793 -0.22557438]\n",
      " [-2.85940499  0.10375731 -0.15376307]\n",
      " [-3.22103666 -0.4747353   0.07544751]\n",
      " [-0.00732987 -0.70305112  0.29887942]\n",
      " [ 2.56989949  0.28433131  0.31071642]\n",
      " [ 1.90648811  0.12717928  0.74104113]\n",
      " [ 0.35941779 -0.48713671  0.03613565]\n",
      " [ 0.64831921  0.03366834 -0.18758873]\n",
      " [-2.72174413  0.36084843  0.10432313]\n",
      " [ 0.92530187 -0.16821343 -0.20800967]\n",
      " [ 0.16854706 -0.66329854 -0.04269385]\n",
      " [ 1.10153743  0.29754833  0.18878999]]\n",
      "=======================================================================\n",
      "     sepal length  sepal width  petal length  petal width\n",
      "109     -0.028946     0.029393      0.045914    -0.072526\n",
      "78       0.013254    -0.013458     -0.021023     0.033208\n",
      "133      0.064079    -0.065068     -0.101642     0.160553\n",
      "15      -0.003314     0.003365      0.005256    -0.008303\n",
      "43      -0.054712     0.055558      0.086785    -0.137085\n",
      "103      0.077287    -0.078481     -0.122593     0.193647\n",
      "61      -0.012087     0.012274      0.019173    -0.030286\n",
      "96       0.043300    -0.043969     -0.068683     0.108490\n",
      "149      0.050353    -0.051131     -0.079871     0.126163\n",
      "70       0.025155    -0.025543     -0.039901     0.063027\n",
      "33       0.028040    -0.028473     -0.044477     0.070255\n",
      "122      0.053469    -0.054295     -0.084814     0.133971\n",
      "7        0.013838    -0.014052     -0.021950     0.034672\n",
      "25      -0.009031     0.009171      0.014325    -0.022628\n",
      "125      0.080901    -0.082150     -0.128325     0.202701\n",
      "142      0.008303    -0.008432     -0.013171     0.020805\n",
      "50       0.001469    -0.001492     -0.002330     0.003681\n",
      "30       0.018825    -0.019116     -0.029861     0.047167\n",
      "20       0.006193    -0.006288     -0.009823     0.015516\n",
      "35      -0.048883     0.049638      0.077538    -0.122479\n",
      "13       0.005514    -0.005599     -0.008746     0.013816\n",
      "59       0.003622    -0.003678     -0.005746     0.009076\n",
      "143     -0.012531     0.012725      0.019877    -0.031397\n",
      "148     -0.011609     0.011788      0.018414    -0.029086\n",
      "94       0.033777    -0.034298     -0.053577     0.084629\n",
      "97       0.011764    -0.011945     -0.018660     0.029474\n",
      "4        0.017946    -0.018223     -0.028466     0.044964\n",
      "73       0.093380    -0.094822     -0.148120     0.233968\n",
      "89      -0.005053     0.005131      0.008015    -0.012661\n",
      "56       0.029223    -0.029674     -0.046353     0.073219\n"
     ]
    }
   ],
   "source": [
    "from sklearn.decomposition import PCA\n",
    "pca = PCA(n_components=3, svd_solver='auto') # svd_solver='auto', 'full', 'arpack', 'randomized'\n",
    "pca.fit(X_train)\n",
    "\n",
    "print(pca.components_)\n",
    "print(pca.explained_variance_ratio_)\n",
    "print(pca.singular_values_)\n",
    "\n",
    "print('=======================================================================')\n",
    "\n",
    "print(pca.transform(X_test))\n",
    "\n",
    "print('=======================================================================')\n",
    "\n",
    "print(pca.inverse_transform(pca.transform(X_test)) - X_test)"
   ]
  },
  {
   "cell_type": "markdown",
   "metadata": {},
   "source": [
    "2 \\. NMF (Nonnegative Matrix Factorization)"
   ]
  },
  {
   "cell_type": "code",
   "execution_count": 11,
   "metadata": {},
   "outputs": [],
   "source": [
    "#Data Partition\n",
    "from sklearn.model_selection import train_test_split\n",
    "X_iris = df_iris[['sepal length', 'sepal width', 'petal length','petal width']]\n",
    "y_iris = df_iris[['class']]\n",
    "\n",
    "X_train, X_test, y_train, y_test = train_test_split(X_iris, y_iris, test_size = 0.2)"
   ]
  },
  {
   "cell_type": "code",
   "execution_count": 27,
   "metadata": {},
   "outputs": [
    {
     "name": "stdout",
     "output_type": "stream",
     "text": [
      "[[5.42236755 2.14662303 4.97145461 1.78575792]\n",
      " [3.24286948 2.32124061 0.61023429 0.        ]]\n",
      "=======================================================================\n",
      "[[1.04634911 0.27684265]\n",
      " [0.75726165 0.49760741]\n",
      " [0.83051167 0.59390143]\n",
      " [1.04745534 0.27591526]\n",
      " [0.65619743 0.63215677]\n",
      " [0.9187575  0.35813731]\n",
      " [1.07837969 0.18258002]\n",
      " [0.16072438 1.19994431]\n",
      " [1.14445317 0.14026342]\n",
      " [0.96170485 0.18612191]\n",
      " [0.66648968 0.36432992]\n",
      " [0.10514629 1.27611203]\n",
      " [0.07890445 1.55285071]\n",
      " [1.10540427 0.34114413]\n",
      " [0.83248039 0.40289617]\n",
      " [0.09026102 1.67738861]\n",
      " [1.14506089 0.31479126]\n",
      " [0.78124186 0.42945523]\n",
      " [0.8295005  0.36773638]\n",
      " [0.13277991 1.32843933]\n",
      " [0.20390414 1.19172258]\n",
      " [0.74188344 0.53039361]\n",
      " [0.87326428 0.12798118]\n",
      " [0.96258575 0.30993861]\n",
      " [1.16180718 0.20500972]\n",
      " [0.19709027 1.31925398]\n",
      " [0.54887524 0.62180102]\n",
      " [0.17734748 1.27635218]\n",
      " [0.82060737 0.6170546 ]\n",
      " [0.79481929 0.55991145]]\n",
      "=======================================================================\n",
      "     sepal length  sepal width  petal length  petal width\n",
      "148      0.371454    -0.511264     -0.029184    -0.431474\n",
      "99       0.019827    -0.019378     -0.031651     0.052286\n",
      "51       0.029284    -0.038616     -0.008730    -0.016907\n",
      "137      0.174445    -0.211043     -0.124250     0.070502\n",
      "64       0.008146    -0.024004      0.048019    -0.128190\n",
      "138      0.143233    -0.196451     -0.013891    -0.159322\n",
      "103      0.139454    -0.161313     -0.127468     0.125725\n",
      "29       0.062769    -0.069626     -0.068719     0.087015\n",
      "104      0.160502    -0.217705     -0.024809    -0.156284\n",
      "121      0.218286    -0.303548     -0.005350    -0.282628\n",
      "60      -0.204574     0.276399      0.035750     0.190189\n",
      "2        0.008407    -0.012127      0.001457    -0.012234\n",
      "32       0.263541    -0.326082     -0.160127     0.040904\n",
      "129     -0.099806     0.164764     -0.096355     0.373984\n",
      "66       0.220554    -0.277759     -0.115500    -0.013392\n",
      "15       0.228981    -0.312621     -0.027671    -0.238816\n",
      "125      0.029768    -0.011280     -0.115285     0.244802\n",
      "94       0.028848    -0.026099     -0.054023     0.095109\n",
      "84       0.290378    -0.365770     -0.151771    -0.018713\n",
      "7        0.027937    -0.031344     -0.029231     0.037113\n",
      "24       0.170244    -0.196020     -0.159070     0.164123\n",
      "88       0.142762    -0.176285     -0.088096     0.024824\n",
      "106      0.250186    -0.328356     -0.080508    -0.140561\n",
      "123     -0.075416     0.085751      0.074587    -0.081055\n",
      "143      0.164565    -0.230161      0.000976    -0.225294\n",
      "44       0.246864    -0.314616     -0.115121    -0.048044\n",
      "98      -0.107377     0.121578      0.108153    -0.119842\n",
      "43       0.100687    -0.156581      0.060549    -0.283300\n",
      "75      -0.149338     0.193867      0.056160     0.065406\n",
      "97      -0.074478     0.105867     -0.006915     0.119355\n"
     ]
    }
   ],
   "source": [
    "from sklearn.decomposition import NMF\n",
    "nmf = NMF(n_components=2, solver='cd') # solver='cd', 'mu'\n",
    "nmf.fit(X_train)\n",
    "\n",
    "print(nmf.components_)\n",
    "\n",
    "print('=======================================================================')\n",
    "\n",
    "print(nmf.transform(X_test))\n",
    "\n",
    "print('=======================================================================')\n",
    "\n",
    "print(nmf.inverse_transform(nmf.transform(X_test)) - X_test)"
   ]
  }
 ],
 "metadata": {
  "kernelspec": {
   "display_name": "Python 3",
   "language": "python",
   "name": "python3"
  },
  "language_info": {
   "codemirror_mode": {
    "name": "ipython",
    "version": 3
   },
   "file_extension": ".py",
   "mimetype": "text/x-python",
   "name": "python",
   "nbconvert_exporter": "python",
   "pygments_lexer": "ipython3",
   "version": "3.7.1"
  }
 },
 "nbformat": 4,
 "nbformat_minor": 2
}
