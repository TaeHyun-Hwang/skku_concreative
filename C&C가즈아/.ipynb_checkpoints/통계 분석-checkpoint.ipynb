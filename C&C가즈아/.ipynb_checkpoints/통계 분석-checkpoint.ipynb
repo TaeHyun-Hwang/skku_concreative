{
 "cells": [
  {
   "cell_type": "code",
   "execution_count": 2,
   "metadata": {},
   "outputs": [],
   "source": [
    "import scipy as sp\n",
    "from scipy import stats\n",
    "import pandas as pd\n",
    "import matplotlib.pyplot as plt\n",
    "\n",
    "import numpy as np"
   ]
  },
  {
   "cell_type": "code",
   "execution_count": 27,
   "metadata": {},
   "outputs": [],
   "source": [
    "df = pd.read_csv('./iris.csv')\n",
    "df1 = df['sepal length'].sort_values()"
   ]
  },
  {
   "cell_type": "markdown",
   "metadata": {},
   "source": [
    "# 기본 통계량\n",
    "\n",
    "- 위치 통계량: mean, medoid, mode\n",
    "- 변이 통계량: 분산, 표준편차\n",
    "- 모양 통계량: 왜도(skewness, 치우침 정도), 첨도(kurtosis, 뾰족함 정도)"
   ]
  },
  {
   "cell_type": "code",
   "execution_count": 28,
   "metadata": {},
   "outputs": [
    {
     "name": "stdout",
     "output_type": "stream",
     "text": [
      "mean is 5.843333333333335\n",
      "variance is 0.6811222222222227\n",
      "median is 5.8\n",
      "mode is [5.]\n",
      "skewness is 0.3117530585022961\n",
      "kurtosis is -0.5735679489249765\n"
     ]
    }
   ],
   "source": [
    "print('mean is',sp.mean(df1))\n",
    "print('variance is',sp.var(df1))\n",
    "print('median is',sp.median(df1))\n",
    "print('mode is',stats.mode(df1)[0])\n",
    "print('skewness is',stats.skew(df1))\n",
    "print('kurtosis is',stats.kurtosis(df1))"
   ]
  },
  {
   "cell_type": "markdown",
   "metadata": {},
   "source": [
    "# 분포\n",
    "\n",
    "- 히스토그램\n",
    "- QQ plot: 현재 데이터 분포상의 quantile값과 정규분포를 따를 때의 quantile 값을 scatter하는 것.\n",
    "\n",
    "    y = x선 상에 있을 수록 갖고 있는 데이터가 정규분포를 따른다고 생각할 수 있음"
   ]
  },
  {
   "cell_type": "code",
   "execution_count": 44,
   "metadata": {},
   "outputs": [
    {
     "data": {
      "image/png": "[encoded data removed]",
      "text/plain": [
       "<Figure size 360x360 with 1 Axes>"
      ]
     },
     "metadata": {
      "needs_background": "light"
     },
     "output_type": "display_data"
    }
   ],
   "source": [
    "#히스토그램\n",
    "plt.figure(figsize=(5,5))\n",
    "plt.hist(df1, bins=30)\n",
    "plt.show()"
   ]
  },
  {
   "cell_type": "code",
   "execution_count": 48,
   "metadata": {},
   "outputs": [
    {
     "data": {
      "image/png": "[encoded data removed]",
      "text/plain": [
       "<Figure size 504x504 with 1 Axes>"
      ]
     },
     "metadata": {
      "needs_background": "light"
     },
     "output_type": "display_data"
    }
   ],
   "source": [
    "plt.figure(figsize=(7,7))\n",
    "sp.stats.probplot(df1, plot=plt)\n",
    "plt.show()"
   ]
  },
  {
   "cell_type": "markdown",
   "metadata": {},
   "source": [
    "# 가설 검정\n",
    "\n",
    "- 귀무가설($H_0$)와 대립가설($H_1$)수립\n",
    "- 가설에 따른 검정통계량($Z, t, \\chi^2, F$) 생성\n",
    "- 관측된 유의수준인 p-value 산출\n",
    "(p-value란 귀무가설이 참일 때 검정통계량 추정치보다 극한 값을 얻을 확률)\n",
    "- p-value $<$ 유의수준 $\\alpha$ 이면 귀무가설 기각"
   ]
  },
  {
   "cell_type": "markdown",
   "metadata": {},
   "source": [
    "# one sample t 검정\n",
    "\n",
    "$$ t = \\frac{\\bar{x}-\\mu_0}{s / \\sqrt{n}} \\sim t(n-1)$$\n",
    "\n",
    "검정통계량 $ t = \\frac{\\bar{x}-\\mu_0}{s / \\sqrt{n}}$ 을 계산해서 유의수준에 보다 확률이 큰지 작은지 비교"
   ]
  },
  {
   "cell_type": "code",
   "execution_count": 12,
   "metadata": {},
   "outputs": [
    {
     "data": {
      "image/png": "[encoded data removed]",
      "text/plain": [
       "<Figure size 432x288 with 1 Axes>"
      ]
     },
     "metadata": {
      "needs_background": "light"
     },
     "output_type": "display_data"
    }
   ],
   "source": [
    "N = 100\n",
    "mu_0 = 0\n",
    "np.random.seed(0)\n",
    "x = sp.stats.norm(mu_0).rvs(N) #숫자 100개\n",
    "plt.hist(x, bins=30)\n",
    "plt.show()"
   ]
  },
  {
   "cell_type": "markdown",
   "metadata": {},
   "source": [
    "모집단의 평균이 0인지 유의수준 5%에 대해서 검증해보자\n",
    "\n",
    "$H_0: \\mu = 0$\n",
    "\n",
    "$H_1: \\mu \\ne 0 $"
   ]
  },
  {
   "cell_type": "code",
   "execution_count": 14,
   "metadata": {},
   "outputs": [
    {
     "data": {
      "text/plain": [
       "Ttest_1sampResult(statistic=0.5904283402851698, pvalue=0.5562489158694675)"
      ]
     },
     "execution_count": 14,
     "metadata": {},
     "output_type": "execute_result"
    }
   ],
   "source": [
    "sp.stats.ttest_1samp(x, popmean=0) #popmean = mu_0에 해당하는 값"
   ]
  },
  {
   "cell_type": "markdown",
   "metadata": {},
   "source": [
    "유의수준이라 함은 감안할 수 있는 최대의 type1 에러이므로, p-value가 유의수준보다 작으면, 통계량이 엄청 동떨어져있는게 되므로 귀무가설을 기각 할 수 있다.\n",
    "\n",
    "정리하면 p-value < 유의수준 -> 귀무가설 기각\n",
    "\n",
    "반대로, p-value > 유의수준 -> 귀무가설 참"
   ]
  },
  {
   "cell_type": "code",
   "execution_count": 15,
   "metadata": {},
   "outputs": [
    {
     "data": {
      "image/png": "[encoded data removed]",
      "text/plain": [
       "<Figure size 432x288 with 1 Axes>"
      ]
     },
     "metadata": {
      "needs_background": "light"
     },
     "output_type": "display_data"
    }
   ],
   "source": [
    "N = 100\n",
    "mu_0 = 2.3\n",
    "np.random.seed(0)\n",
    "x = sp.stats.norm(mu_0).rvs(N) #숫자 100개\n",
    "plt.hist(x, bins=30)\n",
    "plt.show()"
   ]
  },
  {
   "cell_type": "code",
   "execution_count": 16,
   "metadata": {},
   "outputs": [
    {
     "data": {
      "text/plain": [
       "Ttest_1sampResult(statistic=23.296167203546453, pvalue=5.744527275937519e-42)"
      ]
     },
     "execution_count": 16,
     "metadata": {},
     "output_type": "execute_result"
    }
   ],
   "source": [
    "sp.stats.ttest_1samp(x, popmean=0)"
   ]
  },
  {
   "cell_type": "markdown",
   "metadata": {},
   "source": [
    "p-value가 굉장히 작으므로 귀무가설 기각~ 즉, 모집단의 평균은 0이 아니다!!"
   ]
  },
  {
   "cell_type": "markdown",
   "metadata": {},
   "source": [
    "# Two-sample T 검정\n",
    "\n",
    "두 개의 독립적인 정규 분포에서 나온 데이터 셋을 이용하여 두 정규 분포의 기댓값이 동일한지 검사\n",
    "\n",
    "$$ t = \\frac{\\bar{x_1} - \\bar{x_2}}{s \\cdot \\sqrt{\\frac{1}{N_1}+\\frac{1}{N_2}}}$$\n",
    "\n",
    "$$ s = \\sqrt{\\frac{(N_1 -1){s_1}^2 + (N_2 -1){s_2}^2}{N_1+N_2-2}}$$"
   ]
  },
  {
   "cell_type": "code",
   "execution_count": 24,
   "metadata": {},
   "outputs": [
    {
     "name": "stdout",
     "output_type": "stream",
     "text": [
      "220.1388888888889 281.63265306122446\n"
     ]
    }
   ],
   "source": [
    "x1 = [80, 75, 85, 50, 60, 75, 45, 70, 90, 95, 85, 80]\n",
    "x2 = [80, 85, 70, 80, 35, 55, 80]"
   ]
  },
  {
   "cell_type": "markdown",
   "metadata": {},
   "source": [
    "x1의 평균이 x2보다 높다고 이야기 할 수 있는가? 유의수준 5%\n",
    "\n",
    "$H_0 : \\mu_0 = \\mu_1$\n",
    "\n",
    "$H_1 : \\mu_0 \\ne \\mu_1$"
   ]
  },
  {
   "cell_type": "code",
   "execution_count": 28,
   "metadata": {},
   "outputs": [
    {
     "data": {
      "text/plain": [
       "Ttest_indResult(statistic=0.596519621317167, pvalue=0.562790180213766)"
      ]
     },
     "execution_count": 28,
     "metadata": {},
     "output_type": "execute_result"
    }
   ],
   "source": [
    "sp.stats.ttest_ind(x1, x2, equal_var=False) #두 모집단의 분산이 같다면 True로 하면 됨"
   ]
  },
  {
   "cell_type": "code",
   "execution_count": 26,
   "metadata": {},
   "outputs": [
    {
     "name": "stdout",
     "output_type": "stream",
     "text": [
      "74.16666666666667 69.28571428571429\n"
     ]
    }
   ],
   "source": [
    "print(sp.mean(x1), sp.mean(x2))"
   ]
  },
  {
   "cell_type": "markdown",
   "metadata": {},
   "source": [
    "p-value가 0.05 보다 훨씬 크므로 귀무가설을 기각 할 수 없다. 그러므로 누가 더 잘했는지 알 수가 없다"
   ]
  },
  {
   "cell_type": "markdown",
   "metadata": {},
   "source": [
    "# ANOVA 분석\n",
    "\n",
    "t검정이 두 개의 집단의 평균이 같다는 것을 확인하는 분석이라면, ANOVA분석은 3개 이상의 집단에 대해서도 확인가능\n",
    "\n",
    "$H_0 : \\mu_0 = \\mu_1 = \\mu_2$\n",
    "\n",
    "$H_1 : \\mu_i \\ne \\mu_j $ for some $i, j$\n",
    "\n",
    "$$ F = \\frac{MS_A}{MS_E} = \\frac{SS_A / (k-1)}{SS_E / (n-k)} $$"
   ]
  },
  {
   "cell_type": "code",
   "execution_count": 29,
   "metadata": {},
   "outputs": [
    {
     "data": {
      "image/png": "[encoded data removed]",
      "text/plain": [
       "<Figure size 432x288 with 1 Axes>"
      ]
     },
     "metadata": {
      "needs_background": "light"
     },
     "output_type": "display_data"
    },
    {
     "data": {
      "image/png": "[encoded data removed]",
      "text/plain": [
       "<Figure size 432x288 with 1 Axes>"
      ]
     },
     "metadata": {
      "needs_background": "light"
     },
     "output_type": "display_data"
    },
    {
     "data": {
      "image/png": "[encoded data removed]",
      "text/plain": [
       "<Figure size 432x288 with 1 Axes>"
      ]
     },
     "metadata": {
      "needs_background": "light"
     },
     "output_type": "display_data"
    }
   ],
   "source": [
    "N_1 = 150\n",
    "mu_1 = 0\n",
    "sigma_1 = 1\n",
    "\n",
    "N_2 = 100\n",
    "mu_2 = 0.5\n",
    "sigma_2 = 2\n",
    "\n",
    "N_3 = 200\n",
    "mu_3 = 1\n",
    "sigma_3 = 0.5\n",
    "np.random.seed(0)\n",
    "x1 = sp.stats.norm(mu_1, sigma_1).rvs(N_1)\n",
    "x2 = sp.stats.norm(mu_2, sigma_2).rvs(N_2)\n",
    "x3 = sp.stats.norm(mu_3, sigma_3).rvs(N_3)\n",
    "plt.hist(x1, bins=30, color='red')\n",
    "plt.show()\n",
    "plt.hist(x2, bins=30, color='blue')\n",
    "plt.show()\n",
    "plt.hist(x3, bins=30, color='green')\n",
    "plt.show()"
   ]
  },
  {
   "cell_type": "markdown",
   "metadata": {},
   "source": [
    "세 개의 평균이 똑같다고 이야기 할 수 있는가? 유의수준 5%"
   ]
  },
  {
   "cell_type": "code",
   "execution_count": 32,
   "metadata": {},
   "outputs": [
    {
     "data": {
      "text/plain": [
       "F_onewayResult(statistic=26.34050609712436, pvalue=1.5341937119082164e-11)"
      ]
     },
     "execution_count": 32,
     "metadata": {},
     "output_type": "execute_result"
    }
   ],
   "source": [
    "sp.stats.f_oneway(x1, x2, x3)"
   ]
  },
  {
   "cell_type": "markdown",
   "metadata": {},
   "source": [
    "p-value가 0.05보다 훨씬 작으므로 귀무가설 기각, 즉 세개의 집단의 모평균은 모두 다르다"
   ]
  },
  {
   "cell_type": "markdown",
   "metadata": {},
   "source": [
    "# 2-way ANOVA도 있긴 한데, scipy에 관련 모듈이 없다.... 안나오길 바라자"
   ]
  },
  {
   "cell_type": "markdown",
   "metadata": {},
   "source": [
    "# 상관분석\n",
    "\n",
    "- 피어슨 상관계수: 두 변수간 선형관계의 방향과 강도가 어느 정도 인지 추정, 흔히 아는 상관계수\n",
    "- 스피어만 상관계수: 서열 척도를 이용한 상관계수"
   ]
  },
  {
   "cell_type": "code",
   "execution_count": 36,
   "metadata": {},
   "outputs": [
    {
     "name": "stdout",
     "output_type": "stream",
     "text": [
      "[5.1, 4.9, 4.7, 4.6, 5.0]\n",
      "[1.4, 1.4, 1.3, 1.5, 1.4]\n"
     ]
    }
   ],
   "source": [
    "df = pd.read_csv('./iris.csv')\n",
    "df1 = df['sepal length'].tolist()\n",
    "df2 = df['petal length'].tolist()\n",
    "print(df1[:5])\n",
    "print(df2[:5])"
   ]
  },
  {
   "cell_type": "code",
   "execution_count": 37,
   "metadata": {},
   "outputs": [
    {
     "data": {
      "image/png": "[encoded data removed]",
      "text/plain": [
       "<Figure size 720x720 with 1 Axes>"
      ]
     },
     "metadata": {
      "needs_background": "light"
     },
     "output_type": "display_data"
    }
   ],
   "source": [
    "plt.figure(figsize=(10,10))\n",
    "plt.scatter(df1, df2)\n",
    "plt.show()"
   ]
  },
  {
   "cell_type": "code",
   "execution_count": 49,
   "metadata": {},
   "outputs": [
    {
     "name": "stdout",
     "output_type": "stream",
     "text": [
      "              sepal length  sepal width  petal length  petal width\n",
      "sepal length      1.000000    -0.109369      0.871754     0.817954\n",
      "sepal width      -0.109369     1.000000     -0.420516    -0.356544\n",
      "petal length      0.871754    -0.420516      1.000000     0.962757\n",
      "petal width       0.817954    -0.356544      0.962757     1.000000\n",
      "              sepal length  sepal width  petal length  petal width\n",
      "sepal length      0.685694    -0.039268      1.273682     0.516904\n",
      "sepal width      -0.039268     0.188004     -0.321713    -0.117981\n",
      "petal length      1.273682    -0.321713      3.113179     1.296387\n",
      "petal width       0.516904    -0.117981      1.296387     0.582414\n",
      "(0.8717541573048712, 1.0384540627941809e-47)\n",
      "SpearmanrResult(correlation=0.8813863932886515, pvalue=4.64951031453217e-50)\n"
     ]
    }
   ],
   "source": [
    "print(df.corr()) # 상관계수\n",
    "print(df.cov()) # 공분산 행렬\n",
    "print(sp.stats.pearsonr(df1, df2)) #pearson 상관계수 및 p-value(t검정)\n",
    "print(sp.stats.spearmanr(df1, df2))"
   ]
  },
  {
   "cell_type": "markdown",
   "metadata": {},
   "source": [
    "# 카이제곱 검정\n",
    "\n",
    "두 범주형(categorical) 변수의 연관성 여부를 파악하기 위한 검정\n",
    "\n",
    "시간 나면,,,https://datacookbook.kr/63"
   ]
  },
  {
   "cell_type": "markdown",
   "metadata": {},
   "source": [
    "# Smoothing Method\n",
    "\n",
    "- Moving Average\n",
    "- Exponential Smoothing Method: 지수평활계수라는 값을 이용하여 동시점의 값을 더 반영하는 방법"
   ]
  },
  {
   "cell_type": "code",
   "execution_count": 76,
   "metadata": {},
   "outputs": [
    {
     "name": "stdout",
     "output_type": "stream",
     "text": [
      "     sepal length\n",
      "145          6.58\n",
      "146          6.46\n",
      "147          6.60\n",
      "148          6.48\n",
      "149          6.32\n",
      "=====================\n",
      "     sepal length\n",
      "145      6.660675\n",
      "146      6.480337\n",
      "147      6.490169\n",
      "148      6.345084\n",
      "149      6.122542\n"
     ]
    }
   ],
   "source": [
    "df1 = df[['sepal length']]\n",
    "print(df1.rolling(5).mean().tail())\n",
    "print('=====================')\n",
    "print(df1.ewm(alpha=0.5).mean().tail())"
   ]
  }
 ],
 "metadata": {
  "kernelspec": {
   "display_name": "Python 3",
   "language": "python",
   "name": "python3"
  },
  "language_info": {
   "codemirror_mode": {
    "name": "ipython",
    "version": 3
   },
   "file_extension": ".py",
   "mimetype": "text/x-python",
   "name": "python",
   "nbconvert_exporter": "python",
   "pygments_lexer": "ipython3",
   "version": "3.7.1"
  }
 },
 "nbformat": 4,
 "nbformat_minor": 2
}
