{
 "cells": [
  {
   "cell_type": "code",
   "execution_count": null,
   "metadata": {
    "collapsed": true
   },
   "outputs": [],
   "source": []
  },
  {
   "cell_type": "markdown",
   "metadata": {},
   "source": [
    "# module (package/library)"
   ]
  },
  {
   "cell_type": "code",
   "execution_count": null,
   "metadata": {
    "collapsed": true
   },
   "outputs": [],
   "source": [
    "import numpy as np\n",
    "import matplotlib.pyplot as plt\n",
    "from sklearn import datasets\n",
    "from sklearn.model_selection import train_test_split\n",
    "from sklearn.tree import DecisionTreeClassifier, export_graphviz\n",
    "import graphviz"
   ]
  },
  {
   "cell_type": "code",
   "execution_count": null,
   "metadata": {
    "collapsed": true
   },
   "outputs": [],
   "source": []
  },
  {
   "cell_type": "markdown",
   "metadata": {},
   "source": [
    "# data load"
   ]
  },
  {
   "cell_type": "code",
   "execution_count": null,
   "metadata": {
    "collapsed": true
   },
   "outputs": [],
   "source": [
    "iris = datasets.load_iris()\n",
    "iris_X_train, iris_X_test, iris_y_train, iris_y_test = train_test_split(iris.data, iris.target)\n",
    "\n",
    "cancer = datasets.load_breast_cancer()\n",
    "cancer_X_train, cancer_X_test, cancer_y_train, cancer_y_test = train_test_split(cancer.data, cancer.target)\n",
    "\n",
    "# http://yann.lecun.com/exdb/mnist/\n",
    "tmp = open('./MNIST/train-images.idx3-ubyte')\n",
    "MNIST_X_train = np.fromfile(file=tmp, dtype=np.uint8)\n",
    "MNIST_X_train = MNIST_X_train[16:].reshape([60000, 784]).astype(np.float)\n",
    "tmp = open('./MNIST/train-labels.idx1-ubyte')\n",
    "MNIST_y_train = np.fromfile(file=tmp, dtype=np.uint8)\n",
    "MNIST_y_train = MNIST_y_train[8:].reshape([60000]).astype(np.float)\n",
    "tmp = open('./MNIST/t10k-images.idx3-ubyte')\n",
    "MNIST_X_test = np.fromfile(file=tmp, dtype=np.uint8)\n",
    "MNIST_X_test = MNIST_X_test[16:].reshape([10000, 784]).astype(np.float)\n",
    "tmp = open('./MNIST/t10k-labels.idx1-ubyte')\n",
    "MNIST_y_test = np.fromfile(file=tmp, dtype=np.uint8)\n",
    "MNIST_y_test = MNIST_y_test[8:].reshape([10000]).astype(np.float)\n",
    "\n",
    "plt.figure(figsize=(8,8))\n",
    "plt.imshow(MNIST_X_train[0].reshape([28,28]), cmap='gray')"
   ]
  },
  {
   "cell_type": "code",
   "execution_count": null,
   "metadata": {
    "collapsed": true
   },
   "outputs": [],
   "source": []
  },
  {
   "cell_type": "markdown",
   "metadata": {
    "collapsed": true
   },
   "source": [
    "# iris"
   ]
  },
  {
   "cell_type": "code",
   "execution_count": null,
   "metadata": {
    "collapsed": true
   },
   "outputs": [],
   "source": [
    "DT_iris = DecisionTreeClassifier()\n",
    "DT_iris_fit = DT_iris.fit(iris_X_train, iris_y_train)"
   ]
  },
  {
   "cell_type": "markdown",
   "metadata": {
    "collapsed": true
   },
   "source": [
    "학습\n",
    "<br>DT_iris = DecisionTreeClassifier()\n",
    "<br>DT_iris_fit = DT_iris.fit(iris_X_train, iris_y_train)"
   ]
  },
  {
   "cell_type": "code",
   "execution_count": null,
   "metadata": {
    "collapsed": true
   },
   "outputs": [],
   "source": [
    "DT_iris_predict = DT_iris.predict(iris_X_test[0].reshape([-1,4]))\n",
    "print(DT_iris_predict)"
   ]
  },
  {
   "cell_type": "markdown",
   "metadata": {},
   "source": [
    "예측\n",
    "<br>DT_iris_predict = DT_iris.predict(iris_X_test[0].reshape([-1,4]))\n",
    "<br>print(DT_iris_predict)"
   ]
  },
  {
   "cell_type": "code",
   "execution_count": null,
   "metadata": {
    "collapsed": true
   },
   "outputs": [],
   "source": [
    "DT_iris_score = DT_iris.score(iris_X_test, iris_y_test)\n",
    "print(\"Accuracy of iris_test_set :\", DT_iris_score)"
   ]
  },
  {
   "cell_type": "markdown",
   "metadata": {},
   "source": [
    "평가\n",
    "<br>DT_iris_score = DT_iris.score(iris_X_test, iris_y_test)\n",
    "<br>print(\"Accuracy of iris_test_set :\", DT_iris_score)"
   ]
  },
  {
   "cell_type": "code",
   "execution_count": null,
   "metadata": {
    "collapsed": true
   },
   "outputs": [],
   "source": []
  },
  {
   "cell_type": "code",
   "execution_count": null,
   "metadata": {
    "collapsed": true
   },
   "outputs": [],
   "source": [
    "graph_iris = export_graphviz(DT_iris_fit, \n",
    "                             out_file=None, \n",
    "                             feature_names=iris.feature_names, \n",
    "                             class_names=iris.target_names, \n",
    "                             filled=True, \n",
    "                             rounded=True, \n",
    "                             special_characters=True)  \n",
    "graph_i = graphviz.Source(graph_iris)  \n",
    "graph_i"
   ]
  },
  {
   "cell_type": "code",
   "execution_count": null,
   "metadata": {
    "collapsed": true
   },
   "outputs": [],
   "source": []
  },
  {
   "cell_type": "markdown",
   "metadata": {
    "collapsed": true
   },
   "source": [
    "# cancer"
   ]
  },
  {
   "cell_type": "code",
   "execution_count": null,
   "metadata": {
    "collapsed": true
   },
   "outputs": [],
   "source": [
    "DT_cancer = DecisionTreeClassifier()\n",
    "DT_cancer_fit = DT_cancer.fit(cancer_X_train, cancer_y_train)\n",
    "DT_cancer_predict = DT_cancer.predict(cancer_X_test[0].reshape([-1,30]))\n",
    "print(DT_cancer_predict)\n",
    "DT_cancer_score = DT_cancer.score(cancer_X_test, cancer_y_test)\n",
    "print(\"Accuracy of cancer_test_set :\", DT_cancer_score)"
   ]
  },
  {
   "cell_type": "code",
   "execution_count": null,
   "metadata": {
    "collapsed": true
   },
   "outputs": [],
   "source": []
  },
  {
   "cell_type": "code",
   "execution_count": null,
   "metadata": {
    "collapsed": true
   },
   "outputs": [],
   "source": [
    "graph_cancer = export_graphviz(DT_cancer_fit, \n",
    "                               out_file=None, \n",
    "                               feature_names=cancer.feature_names, \n",
    "                               class_names=cancer.target_names, \n",
    "                               filled=True, \n",
    "                               rounded=True, \n",
    "                               special_characters=True)  \n",
    "graph_c = graphviz.Source(graph_cancer)  \n",
    "graph_c"
   ]
  },
  {
   "cell_type": "code",
   "execution_count": null,
   "metadata": {
    "collapsed": true
   },
   "outputs": [],
   "source": []
  },
  {
   "cell_type": "markdown",
   "metadata": {
    "collapsed": true
   },
   "source": [
    "# MNIST"
   ]
  },
  {
   "cell_type": "code",
   "execution_count": null,
   "metadata": {
    "collapsed": true
   },
   "outputs": [],
   "source": [
    "DT_MNIST = DecisionTreeClassifier()\n",
    "DT_MNIST_fit = DT_MNIST.fit(MNIST_X_train, MNIST_y_train)\n",
    "DT_MNIST_predict = DT_MNIST.predict(MNIST_X_test[0].reshape([-1,784]))\n",
    "print(DT_MNIST_predict)\n",
    "DT_MNIST_score = DT_MNIST.score(MNIST_X_test, MNIST_y_test)\n",
    "print(\"Accuracy of MNIST_test_set :\", DT_MNIST_score)"
   ]
  },
  {
   "cell_type": "code",
   "execution_count": null,
   "metadata": {
    "collapsed": true
   },
   "outputs": [],
   "source": []
  },
  {
   "cell_type": "code",
   "execution_count": null,
   "metadata": {
    "collapsed": true
   },
   "outputs": [],
   "source": [
    "graph_MNIST = export_graphviz(DT_MNIST_fit, \n",
    "                              out_file=None, \n",
    "                              feature_names=[str(i+1)+'th feature' for i in range(4)], \n",
    "                              class_names=[str(i) for i in range(3)], \n",
    "                              filled=True, \n",
    "                              rounded=True, \n",
    "                              special_characters=True)  \n",
    "graph_M = graphviz.Source(graph_MNIST)  \n",
    "graph_M"
   ]
  },
  {
   "cell_type": "code",
   "execution_count": null,
   "metadata": {
    "collapsed": true
   },
   "outputs": [],
   "source": []
  }
 ],
 "metadata": {
  "kernelspec": {
   "display_name": "Python 3",
   "language": "python",
   "name": "python3"
  },
  "language_info": {
   "codemirror_mode": {
    "name": "ipython",
    "version": 3
   },
   "file_extension": ".py",
   "mimetype": "text/x-python",
   "name": "python",
   "nbconvert_exporter": "python",
   "pygments_lexer": "ipython3",
   "version": "3.6.3"
  }
 },
 "nbformat": 4,
 "nbformat_minor": 2
}
